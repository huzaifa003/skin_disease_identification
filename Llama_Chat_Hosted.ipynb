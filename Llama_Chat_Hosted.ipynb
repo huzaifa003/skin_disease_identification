{
  "nbformat": 4,
  "nbformat_minor": 0,
  "metadata": {
    "colab": {
      "provenance": [],
      "gpuType": "T4",
      "authorship_tag": "ABX9TyPNrbVqN5WVLAHz5xN7pzwO",
      "include_colab_link": true
    },
    "kernelspec": {
      "name": "python3",
      "display_name": "Python 3"
    },
    "language_info": {
      "name": "python"
    },
    "accelerator": "GPU",
    "widgets": {
      "application/vnd.jupyter.widget-state+json": {
        "c7e78305ea1046959711b71b900b9bbc": {
          "model_module": "@jupyter-widgets/controls",
          "model_name": "HBoxModel",
          "model_module_version": "1.5.0",
          "state": {
            "_dom_classes": [],
            "_model_module": "@jupyter-widgets/controls",
            "_model_module_version": "1.5.0",
            "_model_name": "HBoxModel",
            "_view_count": null,
            "_view_module": "@jupyter-widgets/controls",
            "_view_module_version": "1.5.0",
            "_view_name": "HBoxView",
            "box_style": "",
            "children": [
              "IPY_MODEL_3dab80a585214c709ed744b82d83036b",
              "IPY_MODEL_19b1d8d09b614752a42739eae3569d17",
              "IPY_MODEL_c40d1cec44db437aae1a278934195e1b"
            ],
            "layout": "IPY_MODEL_ee98f7599360444c8c254bc586a69f5e"
          }
        },
        "3dab80a585214c709ed744b82d83036b": {
          "model_module": "@jupyter-widgets/controls",
          "model_name": "HTMLModel",
          "model_module_version": "1.5.0",
          "state": {
            "_dom_classes": [],
            "_model_module": "@jupyter-widgets/controls",
            "_model_module_version": "1.5.0",
            "_model_name": "HTMLModel",
            "_view_count": null,
            "_view_module": "@jupyter-widgets/controls",
            "_view_module_version": "1.5.0",
            "_view_name": "HTMLView",
            "description": "",
            "description_tooltip": null,
            "layout": "IPY_MODEL_6a87d98fb2ca4e9e9df7aaa23d13371a",
            "placeholder": "​",
            "style": "IPY_MODEL_4b30f188f999464a914b5dc899ebcbe3",
            "value": "Loading checkpoint shards: 100%"
          }
        },
        "19b1d8d09b614752a42739eae3569d17": {
          "model_module": "@jupyter-widgets/controls",
          "model_name": "FloatProgressModel",
          "model_module_version": "1.5.0",
          "state": {
            "_dom_classes": [],
            "_model_module": "@jupyter-widgets/controls",
            "_model_module_version": "1.5.0",
            "_model_name": "FloatProgressModel",
            "_view_count": null,
            "_view_module": "@jupyter-widgets/controls",
            "_view_module_version": "1.5.0",
            "_view_name": "ProgressView",
            "bar_style": "success",
            "description": "",
            "description_tooltip": null,
            "layout": "IPY_MODEL_bd7f18aaf4174f90a69d834b81b6591b",
            "max": 2,
            "min": 0,
            "orientation": "horizontal",
            "style": "IPY_MODEL_a269c582621f4aa0937ab3901bfb1e54",
            "value": 2
          }
        },
        "c40d1cec44db437aae1a278934195e1b": {
          "model_module": "@jupyter-widgets/controls",
          "model_name": "HTMLModel",
          "model_module_version": "1.5.0",
          "state": {
            "_dom_classes": [],
            "_model_module": "@jupyter-widgets/controls",
            "_model_module_version": "1.5.0",
            "_model_name": "HTMLModel",
            "_view_count": null,
            "_view_module": "@jupyter-widgets/controls",
            "_view_module_version": "1.5.0",
            "_view_name": "HTMLView",
            "description": "",
            "description_tooltip": null,
            "layout": "IPY_MODEL_2d0ad2e831f8444ca29a604b52fc0468",
            "placeholder": "​",
            "style": "IPY_MODEL_c81318656b9549bcbe3b805e6ea4a8f9",
            "value": " 2/2 [00:50&lt;00:00, 23.35s/it]"
          }
        },
        "ee98f7599360444c8c254bc586a69f5e": {
          "model_module": "@jupyter-widgets/base",
          "model_name": "LayoutModel",
          "model_module_version": "1.2.0",
          "state": {
            "_model_module": "@jupyter-widgets/base",
            "_model_module_version": "1.2.0",
            "_model_name": "LayoutModel",
            "_view_count": null,
            "_view_module": "@jupyter-widgets/base",
            "_view_module_version": "1.2.0",
            "_view_name": "LayoutView",
            "align_content": null,
            "align_items": null,
            "align_self": null,
            "border": null,
            "bottom": null,
            "display": null,
            "flex": null,
            "flex_flow": null,
            "grid_area": null,
            "grid_auto_columns": null,
            "grid_auto_flow": null,
            "grid_auto_rows": null,
            "grid_column": null,
            "grid_gap": null,
            "grid_row": null,
            "grid_template_areas": null,
            "grid_template_columns": null,
            "grid_template_rows": null,
            "height": null,
            "justify_content": null,
            "justify_items": null,
            "left": null,
            "margin": null,
            "max_height": null,
            "max_width": null,
            "min_height": null,
            "min_width": null,
            "object_fit": null,
            "object_position": null,
            "order": null,
            "overflow": null,
            "overflow_x": null,
            "overflow_y": null,
            "padding": null,
            "right": null,
            "top": null,
            "visibility": null,
            "width": null
          }
        },
        "6a87d98fb2ca4e9e9df7aaa23d13371a": {
          "model_module": "@jupyter-widgets/base",
          "model_name": "LayoutModel",
          "model_module_version": "1.2.0",
          "state": {
            "_model_module": "@jupyter-widgets/base",
            "_model_module_version": "1.2.0",
            "_model_name": "LayoutModel",
            "_view_count": null,
            "_view_module": "@jupyter-widgets/base",
            "_view_module_version": "1.2.0",
            "_view_name": "LayoutView",
            "align_content": null,
            "align_items": null,
            "align_self": null,
            "border": null,
            "bottom": null,
            "display": null,
            "flex": null,
            "flex_flow": null,
            "grid_area": null,
            "grid_auto_columns": null,
            "grid_auto_flow": null,
            "grid_auto_rows": null,
            "grid_column": null,
            "grid_gap": null,
            "grid_row": null,
            "grid_template_areas": null,
            "grid_template_columns": null,
            "grid_template_rows": null,
            "height": null,
            "justify_content": null,
            "justify_items": null,
            "left": null,
            "margin": null,
            "max_height": null,
            "max_width": null,
            "min_height": null,
            "min_width": null,
            "object_fit": null,
            "object_position": null,
            "order": null,
            "overflow": null,
            "overflow_x": null,
            "overflow_y": null,
            "padding": null,
            "right": null,
            "top": null,
            "visibility": null,
            "width": null
          }
        },
        "4b30f188f999464a914b5dc899ebcbe3": {
          "model_module": "@jupyter-widgets/controls",
          "model_name": "DescriptionStyleModel",
          "model_module_version": "1.5.0",
          "state": {
            "_model_module": "@jupyter-widgets/controls",
            "_model_module_version": "1.5.0",
            "_model_name": "DescriptionStyleModel",
            "_view_count": null,
            "_view_module": "@jupyter-widgets/base",
            "_view_module_version": "1.2.0",
            "_view_name": "StyleView",
            "description_width": ""
          }
        },
        "bd7f18aaf4174f90a69d834b81b6591b": {
          "model_module": "@jupyter-widgets/base",
          "model_name": "LayoutModel",
          "model_module_version": "1.2.0",
          "state": {
            "_model_module": "@jupyter-widgets/base",
            "_model_module_version": "1.2.0",
            "_model_name": "LayoutModel",
            "_view_count": null,
            "_view_module": "@jupyter-widgets/base",
            "_view_module_version": "1.2.0",
            "_view_name": "LayoutView",
            "align_content": null,
            "align_items": null,
            "align_self": null,
            "border": null,
            "bottom": null,
            "display": null,
            "flex": null,
            "flex_flow": null,
            "grid_area": null,
            "grid_auto_columns": null,
            "grid_auto_flow": null,
            "grid_auto_rows": null,
            "grid_column": null,
            "grid_gap": null,
            "grid_row": null,
            "grid_template_areas": null,
            "grid_template_columns": null,
            "grid_template_rows": null,
            "height": null,
            "justify_content": null,
            "justify_items": null,
            "left": null,
            "margin": null,
            "max_height": null,
            "max_width": null,
            "min_height": null,
            "min_width": null,
            "object_fit": null,
            "object_position": null,
            "order": null,
            "overflow": null,
            "overflow_x": null,
            "overflow_y": null,
            "padding": null,
            "right": null,
            "top": null,
            "visibility": null,
            "width": null
          }
        },
        "a269c582621f4aa0937ab3901bfb1e54": {
          "model_module": "@jupyter-widgets/controls",
          "model_name": "ProgressStyleModel",
          "model_module_version": "1.5.0",
          "state": {
            "_model_module": "@jupyter-widgets/controls",
            "_model_module_version": "1.5.0",
            "_model_name": "ProgressStyleModel",
            "_view_count": null,
            "_view_module": "@jupyter-widgets/base",
            "_view_module_version": "1.2.0",
            "_view_name": "StyleView",
            "bar_color": null,
            "description_width": ""
          }
        },
        "2d0ad2e831f8444ca29a604b52fc0468": {
          "model_module": "@jupyter-widgets/base",
          "model_name": "LayoutModel",
          "model_module_version": "1.2.0",
          "state": {
            "_model_module": "@jupyter-widgets/base",
            "_model_module_version": "1.2.0",
            "_model_name": "LayoutModel",
            "_view_count": null,
            "_view_module": "@jupyter-widgets/base",
            "_view_module_version": "1.2.0",
            "_view_name": "LayoutView",
            "align_content": null,
            "align_items": null,
            "align_self": null,
            "border": null,
            "bottom": null,
            "display": null,
            "flex": null,
            "flex_flow": null,
            "grid_area": null,
            "grid_auto_columns": null,
            "grid_auto_flow": null,
            "grid_auto_rows": null,
            "grid_column": null,
            "grid_gap": null,
            "grid_row": null,
            "grid_template_areas": null,
            "grid_template_columns": null,
            "grid_template_rows": null,
            "height": null,
            "justify_content": null,
            "justify_items": null,
            "left": null,
            "margin": null,
            "max_height": null,
            "max_width": null,
            "min_height": null,
            "min_width": null,
            "object_fit": null,
            "object_position": null,
            "order": null,
            "overflow": null,
            "overflow_x": null,
            "overflow_y": null,
            "padding": null,
            "right": null,
            "top": null,
            "visibility": null,
            "width": null
          }
        },
        "c81318656b9549bcbe3b805e6ea4a8f9": {
          "model_module": "@jupyter-widgets/controls",
          "model_name": "DescriptionStyleModel",
          "model_module_version": "1.5.0",
          "state": {
            "_model_module": "@jupyter-widgets/controls",
            "_model_module_version": "1.5.0",
            "_model_name": "DescriptionStyleModel",
            "_view_count": null,
            "_view_module": "@jupyter-widgets/base",
            "_view_module_version": "1.2.0",
            "_view_name": "StyleView",
            "description_width": ""
          }
        }
      }
    }
  },
  "cells": [
    {
      "cell_type": "markdown",
      "metadata": {
        "id": "view-in-github",
        "colab_type": "text"
      },
      "source": [
        "<a href=\"https://colab.research.google.com/github/huzaifa003/skin_disease_identification/blob/master/Llama_Chat_Hosted.ipynb\" target=\"_parent\"><img src=\"https://colab.research.google.com/assets/colab-badge.svg\" alt=\"Open In Colab\"/></a>"
      ]
    },
    {
      "cell_type": "code",
      "execution_count": 1,
      "metadata": {
        "colab": {
          "base_uri": "https://localhost:8080/"
        },
        "id": "INBHpW28d_yk",
        "outputId": "072aecc5-5b34-4d49-8349-c3c3db84359b"
      },
      "outputs": [
        {
          "output_type": "stream",
          "name": "stdout",
          "text": [
            "Requirement already satisfied: pypdf in /usr/local/lib/python3.10/dist-packages (4.2.0)\n",
            "Requirement already satisfied: typing_extensions>=4.0 in /usr/local/lib/python3.10/dist-packages (from pypdf) (4.10.0)\n"
          ]
        }
      ],
      "source": [
        "!pip install pypdf"
      ]
    },
    {
      "cell_type": "code",
      "source": [
        "!pip install Flask==3.0.0 pyngrok==7.1.2"
      ],
      "metadata": {
        "colab": {
          "base_uri": "https://localhost:8080/"
        },
        "id": "WZ-dQ7-tmfmd",
        "outputId": "6f4d5b21-60e3-460d-8077-b8183608c75f"
      },
      "execution_count": 2,
      "outputs": [
        {
          "output_type": "stream",
          "name": "stdout",
          "text": [
            "Collecting Flask==3.0.0\n",
            "  Downloading flask-3.0.0-py3-none-any.whl (99 kB)\n",
            "\u001b[2K     \u001b[90m━━━━━━━━━━━━━━━━━━━━━━━━━━━━━━━━━━━━━━━━\u001b[0m \u001b[32m99.7/99.7 kB\u001b[0m \u001b[31m1.2 MB/s\u001b[0m eta \u001b[36m0:00:00\u001b[0m\n",
            "\u001b[?25hCollecting pyngrok==7.1.2\n",
            "  Downloading pyngrok-7.1.2-py3-none-any.whl (22 kB)\n",
            "Requirement already satisfied: Werkzeug>=3.0.0 in /usr/local/lib/python3.10/dist-packages (from Flask==3.0.0) (3.0.2)\n",
            "Requirement already satisfied: Jinja2>=3.1.2 in /usr/local/lib/python3.10/dist-packages (from Flask==3.0.0) (3.1.3)\n",
            "Requirement already satisfied: itsdangerous>=2.1.2 in /usr/local/lib/python3.10/dist-packages (from Flask==3.0.0) (2.1.2)\n",
            "Requirement already satisfied: click>=8.1.3 in /usr/local/lib/python3.10/dist-packages (from Flask==3.0.0) (8.1.7)\n",
            "Collecting blinker>=1.6.2 (from Flask==3.0.0)\n",
            "  Downloading blinker-1.7.0-py3-none-any.whl (13 kB)\n",
            "Requirement already satisfied: PyYAML>=5.1 in /usr/local/lib/python3.10/dist-packages (from pyngrok==7.1.2) (6.0.1)\n",
            "Requirement already satisfied: MarkupSafe>=2.0 in /usr/local/lib/python3.10/dist-packages (from Jinja2>=3.1.2->Flask==3.0.0) (2.1.5)\n",
            "Installing collected packages: pyngrok, blinker, Flask\n",
            "  Attempting uninstall: blinker\n",
            "    Found existing installation: blinker 1.4\n",
            "\u001b[31mERROR: Cannot uninstall 'blinker'. It is a distutils installed project and thus we cannot accurately determine which files belong to it which would lead to only a partial uninstall.\u001b[0m\u001b[31m\n",
            "\u001b[0m"
          ]
        }
      ]
    },
    {
      "cell_type": "code",
      "source": [
        "!pip install -q transformers einops accelerate langchain bitsandbytes"
      ],
      "metadata": {
        "id": "YF1c7OVqeGDD"
      },
      "execution_count": 3,
      "outputs": []
    },
    {
      "cell_type": "code",
      "source": [
        "!pip install install sentence_transformers"
      ],
      "metadata": {
        "colab": {
          "base_uri": "https://localhost:8080/"
        },
        "id": "E6m_OB6VeZkE",
        "outputId": "c4041fa8-2b16-4b49-d0aa-3bafbf3913d2"
      },
      "execution_count": 4,
      "outputs": [
        {
          "output_type": "stream",
          "name": "stdout",
          "text": [
            "Requirement already satisfied: install in /usr/local/lib/python3.10/dist-packages (1.3.5)\n",
            "Requirement already satisfied: sentence_transformers in /usr/local/lib/python3.10/dist-packages (2.6.1)\n",
            "Requirement already satisfied: transformers<5.0.0,>=4.32.0 in /usr/local/lib/python3.10/dist-packages (from sentence_transformers) (4.38.2)\n",
            "Requirement already satisfied: tqdm in /usr/local/lib/python3.10/dist-packages (from sentence_transformers) (4.66.2)\n",
            "Requirement already satisfied: torch>=1.11.0 in /usr/local/lib/python3.10/dist-packages (from sentence_transformers) (2.2.1+cu121)\n",
            "Requirement already satisfied: numpy in /usr/local/lib/python3.10/dist-packages (from sentence_transformers) (1.25.2)\n",
            "Requirement already satisfied: scikit-learn in /usr/local/lib/python3.10/dist-packages (from sentence_transformers) (1.2.2)\n",
            "Requirement already satisfied: scipy in /usr/local/lib/python3.10/dist-packages (from sentence_transformers) (1.11.4)\n",
            "Requirement already satisfied: huggingface-hub>=0.15.1 in /usr/local/lib/python3.10/dist-packages (from sentence_transformers) (0.20.3)\n",
            "Requirement already satisfied: Pillow in /usr/local/lib/python3.10/dist-packages (from sentence_transformers) (9.4.0)\n",
            "Requirement already satisfied: filelock in /usr/local/lib/python3.10/dist-packages (from huggingface-hub>=0.15.1->sentence_transformers) (3.13.3)\n",
            "Requirement already satisfied: fsspec>=2023.5.0 in /usr/local/lib/python3.10/dist-packages (from huggingface-hub>=0.15.1->sentence_transformers) (2023.6.0)\n",
            "Requirement already satisfied: requests in /usr/local/lib/python3.10/dist-packages (from huggingface-hub>=0.15.1->sentence_transformers) (2.31.0)\n",
            "Requirement already satisfied: pyyaml>=5.1 in /usr/local/lib/python3.10/dist-packages (from huggingface-hub>=0.15.1->sentence_transformers) (6.0.1)\n",
            "Requirement already satisfied: typing-extensions>=3.7.4.3 in /usr/local/lib/python3.10/dist-packages (from huggingface-hub>=0.15.1->sentence_transformers) (4.10.0)\n",
            "Requirement already satisfied: packaging>=20.9 in /usr/local/lib/python3.10/dist-packages (from huggingface-hub>=0.15.1->sentence_transformers) (23.2)\n",
            "Requirement already satisfied: sympy in /usr/local/lib/python3.10/dist-packages (from torch>=1.11.0->sentence_transformers) (1.12)\n",
            "Requirement already satisfied: networkx in /usr/local/lib/python3.10/dist-packages (from torch>=1.11.0->sentence_transformers) (3.2.1)\n",
            "Requirement already satisfied: jinja2 in /usr/local/lib/python3.10/dist-packages (from torch>=1.11.0->sentence_transformers) (3.1.3)\n",
            "Requirement already satisfied: nvidia-cuda-nvrtc-cu12==12.1.105 in /usr/local/lib/python3.10/dist-packages (from torch>=1.11.0->sentence_transformers) (12.1.105)\n",
            "Requirement already satisfied: nvidia-cuda-runtime-cu12==12.1.105 in /usr/local/lib/python3.10/dist-packages (from torch>=1.11.0->sentence_transformers) (12.1.105)\n",
            "Requirement already satisfied: nvidia-cuda-cupti-cu12==12.1.105 in /usr/local/lib/python3.10/dist-packages (from torch>=1.11.0->sentence_transformers) (12.1.105)\n",
            "Requirement already satisfied: nvidia-cudnn-cu12==8.9.2.26 in /usr/local/lib/python3.10/dist-packages (from torch>=1.11.0->sentence_transformers) (8.9.2.26)\n",
            "Requirement already satisfied: nvidia-cublas-cu12==12.1.3.1 in /usr/local/lib/python3.10/dist-packages (from torch>=1.11.0->sentence_transformers) (12.1.3.1)\n",
            "Requirement already satisfied: nvidia-cufft-cu12==11.0.2.54 in /usr/local/lib/python3.10/dist-packages (from torch>=1.11.0->sentence_transformers) (11.0.2.54)\n",
            "Requirement already satisfied: nvidia-curand-cu12==10.3.2.106 in /usr/local/lib/python3.10/dist-packages (from torch>=1.11.0->sentence_transformers) (10.3.2.106)\n",
            "Requirement already satisfied: nvidia-cusolver-cu12==11.4.5.107 in /usr/local/lib/python3.10/dist-packages (from torch>=1.11.0->sentence_transformers) (11.4.5.107)\n",
            "Requirement already satisfied: nvidia-cusparse-cu12==12.1.0.106 in /usr/local/lib/python3.10/dist-packages (from torch>=1.11.0->sentence_transformers) (12.1.0.106)\n",
            "Requirement already satisfied: nvidia-nccl-cu12==2.19.3 in /usr/local/lib/python3.10/dist-packages (from torch>=1.11.0->sentence_transformers) (2.19.3)\n",
            "Requirement already satisfied: nvidia-nvtx-cu12==12.1.105 in /usr/local/lib/python3.10/dist-packages (from torch>=1.11.0->sentence_transformers) (12.1.105)\n",
            "Requirement already satisfied: triton==2.2.0 in /usr/local/lib/python3.10/dist-packages (from torch>=1.11.0->sentence_transformers) (2.2.0)\n",
            "Requirement already satisfied: nvidia-nvjitlink-cu12 in /usr/local/lib/python3.10/dist-packages (from nvidia-cusolver-cu12==11.4.5.107->torch>=1.11.0->sentence_transformers) (12.4.127)\n",
            "Requirement already satisfied: regex!=2019.12.17 in /usr/local/lib/python3.10/dist-packages (from transformers<5.0.0,>=4.32.0->sentence_transformers) (2023.12.25)\n",
            "Requirement already satisfied: tokenizers<0.19,>=0.14 in /usr/local/lib/python3.10/dist-packages (from transformers<5.0.0,>=4.32.0->sentence_transformers) (0.15.2)\n",
            "Requirement already satisfied: safetensors>=0.4.1 in /usr/local/lib/python3.10/dist-packages (from transformers<5.0.0,>=4.32.0->sentence_transformers) (0.4.2)\n",
            "Requirement already satisfied: joblib>=1.1.1 in /usr/local/lib/python3.10/dist-packages (from scikit-learn->sentence_transformers) (1.3.2)\n",
            "Requirement already satisfied: threadpoolctl>=2.0.0 in /usr/local/lib/python3.10/dist-packages (from scikit-learn->sentence_transformers) (3.4.0)\n",
            "Requirement already satisfied: MarkupSafe>=2.0 in /usr/local/lib/python3.10/dist-packages (from jinja2->torch>=1.11.0->sentence_transformers) (2.1.5)\n",
            "Requirement already satisfied: charset-normalizer<4,>=2 in /usr/local/lib/python3.10/dist-packages (from requests->huggingface-hub>=0.15.1->sentence_transformers) (3.3.2)\n",
            "Requirement already satisfied: idna<4,>=2.5 in /usr/local/lib/python3.10/dist-packages (from requests->huggingface-hub>=0.15.1->sentence_transformers) (3.6)\n",
            "Requirement already satisfied: urllib3<3,>=1.21.1 in /usr/local/lib/python3.10/dist-packages (from requests->huggingface-hub>=0.15.1->sentence_transformers) (2.0.7)\n",
            "Requirement already satisfied: certifi>=2017.4.17 in /usr/local/lib/python3.10/dist-packages (from requests->huggingface-hub>=0.15.1->sentence_transformers) (2024.2.2)\n",
            "Requirement already satisfied: mpmath>=0.19 in /usr/local/lib/python3.10/dist-packages (from sympy->torch>=1.11.0->sentence_transformers) (1.3.0)\n"
          ]
        }
      ]
    },
    {
      "cell_type": "code",
      "source": [
        "!pip install llama_index==0.9.40"
      ],
      "metadata": {
        "colab": {
          "base_uri": "https://localhost:8080/"
        },
        "id": "jq5pYYxuecMV",
        "outputId": "b6e14b0f-72d2-4417-de57-8b6cc9e50024"
      },
      "execution_count": 5,
      "outputs": [
        {
          "output_type": "stream",
          "name": "stdout",
          "text": [
            "Requirement already satisfied: llama_index==0.9.40 in /usr/local/lib/python3.10/dist-packages (0.9.40)\n",
            "Requirement already satisfied: SQLAlchemy[asyncio]>=1.4.49 in /usr/local/lib/python3.10/dist-packages (from llama_index==0.9.40) (2.0.29)\n",
            "Requirement already satisfied: aiohttp<4.0.0,>=3.8.6 in /usr/local/lib/python3.10/dist-packages (from llama_index==0.9.40) (3.9.3)\n",
            "Requirement already satisfied: dataclasses-json in /usr/local/lib/python3.10/dist-packages (from llama_index==0.9.40) (0.6.4)\n",
            "Requirement already satisfied: deprecated>=1.2.9.3 in /usr/local/lib/python3.10/dist-packages (from llama_index==0.9.40) (1.2.14)\n",
            "Requirement already satisfied: dirtyjson<2.0.0,>=1.0.8 in /usr/local/lib/python3.10/dist-packages (from llama_index==0.9.40) (1.0.8)\n",
            "Requirement already satisfied: fsspec>=2023.5.0 in /usr/local/lib/python3.10/dist-packages (from llama_index==0.9.40) (2023.6.0)\n",
            "Requirement already satisfied: httpx in /usr/local/lib/python3.10/dist-packages (from llama_index==0.9.40) (0.27.0)\n",
            "Requirement already satisfied: nest-asyncio<2.0.0,>=1.5.8 in /usr/local/lib/python3.10/dist-packages (from llama_index==0.9.40) (1.6.0)\n",
            "Requirement already satisfied: networkx>=3.0 in /usr/local/lib/python3.10/dist-packages (from llama_index==0.9.40) (3.2.1)\n",
            "Requirement already satisfied: nltk<4.0.0,>=3.8.1 in /usr/local/lib/python3.10/dist-packages (from llama_index==0.9.40) (3.8.1)\n",
            "Requirement already satisfied: numpy in /usr/local/lib/python3.10/dist-packages (from llama_index==0.9.40) (1.25.2)\n",
            "Requirement already satisfied: openai>=1.1.0 in /usr/local/lib/python3.10/dist-packages (from llama_index==0.9.40) (1.16.2)\n",
            "Requirement already satisfied: pandas in /usr/local/lib/python3.10/dist-packages (from llama_index==0.9.40) (2.0.3)\n",
            "Requirement already satisfied: requests>=2.31.0 in /usr/local/lib/python3.10/dist-packages (from llama_index==0.9.40) (2.31.0)\n",
            "Requirement already satisfied: tenacity<9.0.0,>=8.2.0 in /usr/local/lib/python3.10/dist-packages (from llama_index==0.9.40) (8.2.3)\n",
            "Requirement already satisfied: tiktoken>=0.3.3 in /usr/local/lib/python3.10/dist-packages (from llama_index==0.9.40) (0.6.0)\n",
            "Requirement already satisfied: typing-extensions>=4.5.0 in /usr/local/lib/python3.10/dist-packages (from llama_index==0.9.40) (4.10.0)\n",
            "Requirement already satisfied: typing-inspect>=0.8.0 in /usr/local/lib/python3.10/dist-packages (from llama_index==0.9.40) (0.9.0)\n",
            "Requirement already satisfied: aiosignal>=1.1.2 in /usr/local/lib/python3.10/dist-packages (from aiohttp<4.0.0,>=3.8.6->llama_index==0.9.40) (1.3.1)\n",
            "Requirement already satisfied: attrs>=17.3.0 in /usr/local/lib/python3.10/dist-packages (from aiohttp<4.0.0,>=3.8.6->llama_index==0.9.40) (23.2.0)\n",
            "Requirement already satisfied: frozenlist>=1.1.1 in /usr/local/lib/python3.10/dist-packages (from aiohttp<4.0.0,>=3.8.6->llama_index==0.9.40) (1.4.1)\n",
            "Requirement already satisfied: multidict<7.0,>=4.5 in /usr/local/lib/python3.10/dist-packages (from aiohttp<4.0.0,>=3.8.6->llama_index==0.9.40) (6.0.5)\n",
            "Requirement already satisfied: yarl<2.0,>=1.0 in /usr/local/lib/python3.10/dist-packages (from aiohttp<4.0.0,>=3.8.6->llama_index==0.9.40) (1.9.4)\n",
            "Requirement already satisfied: async-timeout<5.0,>=4.0 in /usr/local/lib/python3.10/dist-packages (from aiohttp<4.0.0,>=3.8.6->llama_index==0.9.40) (4.0.3)\n",
            "Requirement already satisfied: wrapt<2,>=1.10 in /usr/local/lib/python3.10/dist-packages (from deprecated>=1.2.9.3->llama_index==0.9.40) (1.14.1)\n",
            "Requirement already satisfied: click in /usr/local/lib/python3.10/dist-packages (from nltk<4.0.0,>=3.8.1->llama_index==0.9.40) (8.1.7)\n",
            "Requirement already satisfied: joblib in /usr/local/lib/python3.10/dist-packages (from nltk<4.0.0,>=3.8.1->llama_index==0.9.40) (1.3.2)\n",
            "Requirement already satisfied: regex>=2021.8.3 in /usr/local/lib/python3.10/dist-packages (from nltk<4.0.0,>=3.8.1->llama_index==0.9.40) (2023.12.25)\n",
            "Requirement already satisfied: tqdm in /usr/local/lib/python3.10/dist-packages (from nltk<4.0.0,>=3.8.1->llama_index==0.9.40) (4.66.2)\n",
            "Requirement already satisfied: anyio<5,>=3.5.0 in /usr/local/lib/python3.10/dist-packages (from openai>=1.1.0->llama_index==0.9.40) (3.7.1)\n",
            "Requirement already satisfied: distro<2,>=1.7.0 in /usr/lib/python3/dist-packages (from openai>=1.1.0->llama_index==0.9.40) (1.7.0)\n",
            "Requirement already satisfied: pydantic<3,>=1.9.0 in /usr/local/lib/python3.10/dist-packages (from openai>=1.1.0->llama_index==0.9.40) (2.6.4)\n",
            "Requirement already satisfied: sniffio in /usr/local/lib/python3.10/dist-packages (from openai>=1.1.0->llama_index==0.9.40) (1.3.1)\n",
            "Requirement already satisfied: certifi in /usr/local/lib/python3.10/dist-packages (from httpx->llama_index==0.9.40) (2024.2.2)\n",
            "Requirement already satisfied: httpcore==1.* in /usr/local/lib/python3.10/dist-packages (from httpx->llama_index==0.9.40) (1.0.5)\n",
            "Requirement already satisfied: idna in /usr/local/lib/python3.10/dist-packages (from httpx->llama_index==0.9.40) (3.6)\n",
            "Requirement already satisfied: h11<0.15,>=0.13 in /usr/local/lib/python3.10/dist-packages (from httpcore==1.*->httpx->llama_index==0.9.40) (0.14.0)\n",
            "Requirement already satisfied: charset-normalizer<4,>=2 in /usr/local/lib/python3.10/dist-packages (from requests>=2.31.0->llama_index==0.9.40) (3.3.2)\n",
            "Requirement already satisfied: urllib3<3,>=1.21.1 in /usr/local/lib/python3.10/dist-packages (from requests>=2.31.0->llama_index==0.9.40) (2.0.7)\n",
            "Requirement already satisfied: greenlet!=0.4.17 in /usr/local/lib/python3.10/dist-packages (from SQLAlchemy[asyncio]>=1.4.49->llama_index==0.9.40) (3.0.3)\n",
            "Requirement already satisfied: mypy-extensions>=0.3.0 in /usr/local/lib/python3.10/dist-packages (from typing-inspect>=0.8.0->llama_index==0.9.40) (1.0.0)\n",
            "Requirement already satisfied: marshmallow<4.0.0,>=3.18.0 in /usr/local/lib/python3.10/dist-packages (from dataclasses-json->llama_index==0.9.40) (3.21.1)\n",
            "Requirement already satisfied: python-dateutil>=2.8.2 in /usr/local/lib/python3.10/dist-packages (from pandas->llama_index==0.9.40) (2.8.2)\n",
            "Requirement already satisfied: pytz>=2020.1 in /usr/local/lib/python3.10/dist-packages (from pandas->llama_index==0.9.40) (2023.4)\n",
            "Requirement already satisfied: tzdata>=2022.1 in /usr/local/lib/python3.10/dist-packages (from pandas->llama_index==0.9.40) (2024.1)\n",
            "Requirement already satisfied: exceptiongroup in /usr/local/lib/python3.10/dist-packages (from anyio<5,>=3.5.0->openai>=1.1.0->llama_index==0.9.40) (1.2.0)\n",
            "Requirement already satisfied: packaging>=17.0 in /usr/local/lib/python3.10/dist-packages (from marshmallow<4.0.0,>=3.18.0->dataclasses-json->llama_index==0.9.40) (23.2)\n",
            "Requirement already satisfied: annotated-types>=0.4.0 in /usr/local/lib/python3.10/dist-packages (from pydantic<3,>=1.9.0->openai>=1.1.0->llama_index==0.9.40) (0.6.0)\n",
            "Requirement already satisfied: pydantic-core==2.16.3 in /usr/local/lib/python3.10/dist-packages (from pydantic<3,>=1.9.0->openai>=1.1.0->llama_index==0.9.40) (2.16.3)\n",
            "Requirement already satisfied: six>=1.5 in /usr/local/lib/python3.10/dist-packages (from python-dateutil>=2.8.2->pandas->llama_index==0.9.40) (1.16.0)\n"
          ]
        }
      ]
    },
    {
      "cell_type": "code",
      "source": [
        "from llama_index import VectorStoreIndex,SimpleDirectoryReader,ServiceContext\n",
        "from llama_index.llms import HuggingFaceLLM\n",
        "from llama_index.prompts.prompts import SimpleInputPrompt\n",
        ""
      ],
      "metadata": {
        "id": "1cDY8iztegk3"
      },
      "execution_count": 6,
      "outputs": []
    },
    {
      "cell_type": "code",
      "source": [
        "\n",
        "documents=SimpleDirectoryReader(\"/content/Data\").load_data()\n",
        "documents"
      ],
      "metadata": {
        "colab": {
          "base_uri": "https://localhost:8080/"
        },
        "id": "1sjWqwFqejJ2",
        "outputId": "356f3fd1-0b5c-401d-ed5a-e9271097d5f3"
      },
      "execution_count": 7,
      "outputs": [
        {
          "output_type": "execute_result",
          "data": {
            "text/plain": [
              "[Document(id_='e46c033e-f778-4b09-8642-0e7572ab5dc1', embedding=None, metadata={'page_label': '1', 'file_name': 'Derm.pdf', 'file_path': '/content/Data/Derm.pdf', 'file_type': 'application/pdf', 'file_size': 3171832, 'creation_date': '2024-04-07', 'last_modified_date': '2024-04-07', 'last_accessed_date': '2024-04-07'}, excluded_embed_metadata_keys=['file_name', 'file_type', 'file_size', 'creation_date', 'last_modified_date', 'last_accessed_date'], excluded_llm_metadata_keys=['file_name', 'file_type', 'file_size', 'creation_date', 'last_modified_date', 'last_accessed_date'], relationships={}, text='  British Association of Dermatologists   \\n \\n \\n \\n \\n \\n \\n \\n \\n \\n \\n \\n \\n \\n \\n \\n \\n \\n \\n \\n \\n \\n \\n \\n \\n Dermatology   \\n', start_char_idx=None, end_char_idx=None, text_template='{metadata_str}\\n\\n{content}', metadata_template='{key}: {value}', metadata_seperator='\\n'),\n",
              " Document(id_='4bf39932-c2b0-4f40-8fe4-e28b327b5fa3', embedding=None, metadata={'page_label': '2', 'file_name': 'Derm.pdf', 'file_path': '/content/Data/Derm.pdf', 'file_type': 'application/pdf', 'file_size': 3171832, 'creation_date': '2024-04-07', 'last_modified_date': '2024-04-07', 'last_accessed_date': '2024-04-07'}, excluded_embed_metadata_keys=['file_name', 'file_type', 'file_size', 'creation_date', 'last_modified_date', 'last_accessed_date'], excluded_llm_metadata_keys=['file_name', 'file_type', 'file_size', 'creation_date', 'last_modified_date', 'last_accessed_date'], relationships={}, text='                                                             Dermatology : Handbook for m edical students & junior d octors   \\n   British Association of Dermatologists  1  \\n \\n \\n \\n \\n \\n \\n \\n \\n \\n \\n \\n \\n \\n \\n \\n \\n \\n \\n \\n \\n \\n \\n \\nThis publication i s supported by the British Association of Dermatologists.  \\n \\nFirst edition 2009  \\nRevised first edition 20 09 \\nSecond edition 2014  \\nThird edition 2020  \\n \\nFor comments and feedback, please contact the author at drnicoledermatology@gmail.com   \\n ', start_char_idx=None, end_char_idx=None, text_template='{metadata_str}\\n\\n{content}', metadata_template='{key}: {value}', metadata_seperator='\\n'),\n",
              " Document(id_='f8aa40c0-1898-4020-ae32-9ccfca492bf0', embedding=None, metadata={'page_label': '3', 'file_name': 'Derm.pdf', 'file_path': '/content/Data/Derm.pdf', 'file_type': 'application/pdf', 'file_size': 3171832, 'creation_date': '2024-04-07', 'last_modified_date': '2024-04-07', 'last_accessed_date': '2024-04-07'}, excluded_embed_metadata_keys=['file_name', 'file_type', 'file_size', 'creation_date', 'last_modified_date', 'last_accessed_date'], excluded_llm_metadata_keys=['file_name', 'file_type', 'file_size', 'creation_date', 'last_modified_date', 'last_accessed_date'], relationships={}, text='                                                             Dermatology : Handbook for m edical students & junior d octors   \\n   British Association of Dermatologists  2  \\n \\n \\n \\n \\n \\nDermatology  \\n \\n \\n \\n \\n \\n \\n \\n \\nDr Nicole Yi Zhen Chiang   MBChB  (Hons) , MRCP (UK) , MRCP(UK)(Derm)  \\nConsultant Dermatologist  \\nManchester University Hospitals NHS Trust  \\nWithington Hospital M20 2LR  \\nManchester  \\n \\nProfessor Julian Verbov   JP MD FRCP FRCPCH CBiol FRSB FLS MCSFS  \\nProfessor of Dermatology  \\nConsultant Paediatric Dermatologist  \\nAlder Hey Children’s Hospital  \\nEast Prescot Road  \\nLiverpool L14 5AB  \\n ', start_char_idx=None, end_char_idx=None, text_template='{metadata_str}\\n\\n{content}', metadata_template='{key}: {value}', metadata_seperator='\\n'),\n",
              " Document(id_='c21bb96c-5efb-41f2-8bac-d5cf332e97ed', embedding=None, metadata={'page_label': '4', 'file_name': 'Derm.pdf', 'file_path': '/content/Data/Derm.pdf', 'file_type': 'application/pdf', 'file_size': 3171832, 'creation_date': '2024-04-07', 'last_modified_date': '2024-04-07', 'last_accessed_date': '2024-04-07'}, excluded_embed_metadata_keys=['file_name', 'file_type', 'file_size', 'creation_date', 'last_modified_date', 'last_accessed_date'], excluded_llm_metadata_keys=['file_name', 'file_type', 'file_size', 'creation_date', 'last_modified_date', 'last_accessed_date'], relationships={}, text='                                                             Dermatology : Handbook for m edical students & junior d octors   \\n   British Association of Dermatologists  3  \\nContents           \\n \\n \\n \\n \\n \\n \\n \\n         \\n \\n \\n \\n \\n \\n \\n \\n \\n  \\n \\n \\n   \\n \\n \\n \\n \\n \\n \\n \\n \\n \\n \\n \\n \\n \\n \\n \\n \\n Preface             5 \\nWhat is dermatology?           6 \\nEssential Clinical Skills           7 \\n   Taking a dermatological history           7 \\n   Examining the skin             8 \\n   Communicating examination findings           9 \\nBackground Knowledge           23 \\n   Functions of normal skin            23 \\n   Structure of normal skin and the skin appendages         23 \\n   Principles of wound healing            27 \\nEmergency Dermatology           28 \\n   Urticaria, Angioedema and Anaphylaxis          29 \\n   Erythema nodo sum             30 \\n   Erythema multiforme, Stevens -Johnson syndrome, Toxic epidermal necrolysis      31 \\n   Acute meningococcaemia            32 \\n   Erythroderma              33 \\n   Eczema herpeticum             34 \\n   Necrotizing fasciitis             35 \\nSkin Infections / Infestations          36 \\n   Erysipelas and cellulitis              37 \\n   Staphylococcal scalded skin syndrome           38 \\n   Superficial fungal skin infections           39 \\n \\nSkin Cancer             41 \\n   Basal cell carcinoma                 42 \\n   Squamous cell carcinoma            43 \\n   Malignant melanoma             44 \\nInflammatory Skin Conditions          46 \\n   Atopic eczema             47 \\n   Acne vulgaris              49 \\n   Psoriasis              50 Foreword             5 \\nBlistering Disorders           52 \\n   Bullous pemphigoid             53 \\n   Pemphigus vulgaris             54 ', start_char_idx=None, end_char_idx=None, text_template='{metadata_str}\\n\\n{content}', metadata_template='{key}: {value}', metadata_seperator='\\n'),\n",
              " Document(id_='c8cfbad9-b844-4958-aa2e-aec0fe4a02a7', embedding=None, metadata={'page_label': '5', 'file_name': 'Derm.pdf', 'file_path': '/content/Data/Derm.pdf', 'file_type': 'application/pdf', 'file_size': 3171832, 'creation_date': '2024-04-07', 'last_modified_date': '2024-04-07', 'last_accessed_date': '2024-04-07'}, excluded_embed_metadata_keys=['file_name', 'file_type', 'file_size', 'creation_date', 'last_modified_date', 'last_accessed_date'], excluded_llm_metadata_keys=['file_name', 'file_type', 'file_size', 'creation_date', 'last_modified_date', 'last_accessed_date'], relationships={}, text='                                                             Dermatology : Handbook for m edical students & junior d octors   \\n   British Association of Dermatologists  4  \\n \\n \\n \\n \\n \\n \\n \\n \\n \\n \\n \\n \\n \\n \\n \\n \\n \\n \\n \\n \\n \\n \\n \\n \\n \\n \\n \\n \\n \\n \\n \\n \\n \\n \\n \\n \\n \\n \\n \\n \\n \\n \\n \\n \\n Common Important Problems          57 \\n   Chronic leg ulcers             58 \\n   Itchy eruption              60 \\n   A changing pigmented lesion            62 \\n   Purpuric eruption             64 \\n   A red swollen leg             66 \\n   Keloid Scars              67 \\n \\n \\nPractical Skills           72 \\n   Patient education             73 \\n   Written communication            74 \\n   Prescribing skills             74 \\n   Clinical examination and investigations          75\\n 71 \\nGeneral Reference & Acknowledgements        76 Management            68 \\n   Emollients              69  \\n   Topical /Oral  steroids             69 \\n   Oral aci clovir              69 \\n   Oral antihistamines             70 \\n   Topical/Oral antibiotics            70 \\n   Topical antiseptics               70 \\n   Oral retinoids              70 \\n   Biological therapy             71 \\n \\n Pigmentary Disorders           55  \\n   Vitiligo              55 \\n   Melasma              56 \\n ', start_char_idx=None, end_char_idx=None, text_template='{metadata_str}\\n\\n{content}', metadata_template='{key}: {value}', metadata_seperator='\\n'),\n",
              " Document(id_='d064fd11-f046-4c32-8371-a6f14aada32c', embedding=None, metadata={'page_label': '6', 'file_name': 'Derm.pdf', 'file_path': '/content/Data/Derm.pdf', 'file_type': 'application/pdf', 'file_size': 3171832, 'creation_date': '2024-04-07', 'last_modified_date': '2024-04-07', 'last_accessed_date': '2024-04-07'}, excluded_embed_metadata_keys=['file_name', 'file_type', 'file_size', 'creation_date', 'last_modified_date', 'last_accessed_date'], excluded_llm_metadata_keys=['file_name', 'file_type', 'file_size', 'creation_date', 'last_modified_date', 'last_accessed_date'], relationships={}, text='                                                             Dermatology : Handbook for m edical students & junior d octors   \\n   British Association of Dermatologists  5  \\n \\n \\n \\n \\n11 years have passed since this Handbook first appeared. It has proved immensely popular \\nand it ha s been further updated . We hope that it will continue to be a valuable source book \\nfor those interested in learning about this exciting specialty.  The Handbook was designed to \\nbe an overview , both succinct and reader -friendly which continues to be our aim.  \\nOnce again,  many thanks to the BAD for its essential and continuing support.  \\nJulian  Verbov  \\nProfessor of Dermatology  Liverpool 2020  \\n \\n \\n \\nPast BAD President Dr Mark Goodfield wrote in the first edition:  \\n‘There is a real need for appropriate information about dermatological diseases to meet the \\neducational needs of doctors at all levels.’  \\n \\nThis holds true even more today than in 2009 with the exponential use of social media as an \\ninformation sourced by patients and clinicians alike. Since its first publication, this book has \\nbeen the go to resource for accurate knowledge in common and urgent dermatological \\nproblems. Its essential role in supporting their workplace learning is highlighted by the 8,843 \\ndownloads and 50,000 requests for hard copies from individual students and medical \\nschools throughout the UK. Starting with scientific and epidemiological facts, moving \\nthrough clinica l features and management, medical students are given a structure that \\nenables them to organise learning effectively. The content remains focused on learning at \\nthe undergraduate stage of the medical education spectrum: a vital foundation for \\npostgraduate training in dermatology.   \\n \\nThe UK population has become increasingly diverse over the last few decades, it is therefore \\nnecessary to update the handbook to highlight tips for assessment, variation in presentation \\nin common and important skin conditions (e.g. common pigmentary disord ers) that reflect \\nthe spectrum of cutaneous diversity junior clinicians will encounter in their practice. This, in \\ncombination, with other BAD resources under current development will ensure that medical \\nstudents continue to learn from the highest quality education in dermatology to the benefit \\nof our patients.  \\n \\n \\nDr Tanya Bleiker  \\nPresident of the British Association of Dermatologists  \\n \\nProf Mini Singh  \\nUndergraduate Work Stream Chair, British Association of Dermatologists  \\n Foreword to Third edition  Preface  to the 3rd edition  ', start_char_idx=None, end_char_idx=None, text_template='{metadata_str}\\n\\n{content}', metadata_template='{key}: {value}', metadata_seperator='\\n'),\n",
              " Document(id_='0aeeb497-7a5c-4234-8b27-96cb8e39e01f', embedding=None, metadata={'page_label': '7', 'file_name': 'Derm.pdf', 'file_path': '/content/Data/Derm.pdf', 'file_type': 'application/pdf', 'file_size': 3171832, 'creation_date': '2024-04-07', 'last_modified_date': '2024-04-07', 'last_accessed_date': '2024-04-07'}, excluded_embed_metadata_keys=['file_name', 'file_type', 'file_size', 'creation_date', 'last_modified_date', 'last_accessed_date'], excluded_llm_metadata_keys=['file_name', 'file_type', 'file_size', 'creation_date', 'last_modified_date', 'last_accessed_date'], relationships={}, text='                                                             Dermatology : Handbook for m edical students & junior d octors   \\n   British Association of Dermatologists  6  \\n \\n \\n \\n• Dermatolo gy is the study of both normal and abnormal skin and  associated \\nstructures such as hair, nails, and oral and genital mucous membranes.  \\n \\n \\n \\n \\n• Skin diseases are very common, affecting up to a third  of the population at any one \\ntime.  \\n \\n• Skin diseas es have  serious impacts on life. They  can cause physical damage , \\nembarrassment , and social and occupational restrictions . Chronic skin diseases may \\ncause financial constraints  with repeated sick leave . Some skin conditions can be  \\nlife-threatening.  \\n \\n• In 2006 -07, the total NHS health expenditure for skin diseases was estimated to be \\naround ₤97 million (approximately 2% of the  total NHS health expenditure).  \\n \\n \\n \\n \\n• The British Association of Dermatologists outlined the essential and important \\nlearning outcomes that should be achieved by all medical undergraduates for the \\ncompetent assessment of patients presenting with skin disorders (available on: \\nhttps://www.bad.org.uk/shared/get -file.ashx?itemtype=document&id=4168 ) \\n \\n• This handbook addresses these learning outcomes and aims to equip you with the \\nknowledge and skills to practise competently and safely as a junior doctor.  \\n \\n \\n \\n What is dermatology?  \\nWhy is dermatology important?  \\nWhat is this handbook about?  ', start_char_idx=None, end_char_idx=None, text_template='{metadata_str}\\n\\n{content}', metadata_template='{key}: {value}', metadata_seperator='\\n'),\n",
              " Document(id_='18a8d70f-61e3-418e-b3b5-368267a5104e', embedding=None, metadata={'page_label': '8', 'file_name': 'Derm.pdf', 'file_path': '/content/Data/Derm.pdf', 'file_type': 'application/pdf', 'file_size': 3171832, 'creation_date': '2024-04-07', 'last_modified_date': '2024-04-07', 'last_accessed_date': '2024-04-07'}, excluded_embed_metadata_keys=['file_name', 'file_type', 'file_size', 'creation_date', 'last_modified_date', 'last_accessed_date'], excluded_llm_metadata_keys=['file_name', 'file_type', 'file_size', 'creation_date', 'last_modified_date', 'last_accessed_date'], relationships={}, text='                                                             Dermatology : Handbook for m edical students & junior d octors   \\n   British Association of Dermatologists  7  \\n• Detai led history taking and examination provide important diagnostic clues in the \\nassessment of skin problems.  \\n \\n \\n \\n \\n \\n \\n \\n \\n \\n \\nTaking a dermatological history  \\n• Using the standard structure of history taking, below are the important points to \\nconsider when taking a history from a patient with a skin problem  (Table 1).  \\n• For dark lesion s or mole s, pay attention to questions marked with an asterisk (*).  \\n \\nTable 1. Taking a dermatological history  \\nMain headings     Key questions  \\nPresenting complaint    Nature , site and duration  of problem  \\nHistory of presenting complaint  Initial appearance  and e volution of lesion*  \\n     Symptoms  (particularly itch and pain)*   \\n     Aggravating and relieving factors  \\nPreviou s and current treatments ( effective or not)  \\n     Recent contact, stressful events, illness and travel  \\n     History of sunburn and use of tanning machines*  \\nSkin type  (see page 70)*  \\nPast medical history    History of atopy i.e. asthma, allergic rhinitis , eczema\\n     History of skin cancer and suspicious skin lesion s \\nFamily history     Family history of skin disease*  \\nSocial history     Occupation (including  skin contact s at work)  \\nImprovement of lesions when away from work  Essential Clinical Skills  \\nLearning outcomes:  \\n1. Ability to take a dermatological history  \\n2. Ability to explore a patient’s concerns and expectations  \\n3. Ability to interact sensitively with people with skin disease  \\n4. Ability to examine skin, hair, nails and mucous membranes syste matically  \\nshowing respect for the patient  \\n5. Ability to describe physical signs in skin, hair, nails and mucosa  \\n6. Ability to record findings accurately in patient’s records  \\n \\n7.  \\n  Essential Clinical Skills  – Taking a dermatological history  ', start_char_idx=None, end_char_idx=None, text_template='{metadata_str}\\n\\n{content}', metadata_template='{key}: {value}', metadata_seperator='\\n'),\n",
              " Document(id_='e289eddb-4ea7-44a7-a489-2365907dc0a8', embedding=None, metadata={'page_label': '9', 'file_name': 'Derm.pdf', 'file_path': '/content/Data/Derm.pdf', 'file_type': 'application/pdf', 'file_size': 3171832, 'creation_date': '2024-04-07', 'last_modified_date': '2024-04-07', 'last_accessed_date': '2024-04-07'}, excluded_embed_metadata_keys=['file_name', 'file_type', 'file_size', 'creation_date', 'last_modified_date', 'last_accessed_date'], excluded_llm_metadata_keys=['file_name', 'file_type', 'file_size', 'creation_date', 'last_modified_date', 'last_accessed_date'], relationships={}, text='                                                             Dermatology : Handbook for m edical students & junior d octors   \\n   British Association of Dermatologists  8 Medication and allergies   Regular, recent and over -the-counter medications  \\nImpact on quality of life   Impact of skin condition and concerns  \\n \\nExamining the skin  \\n \\n• There are four important principles in performing a good examination of the skin: \\nINSPECT, DESCRIBE, PALPATE  and SYSTEMATIC CHECK (Table 2).   \\n \\nTable 2. Examining the skin  \\nMain principles     Key feature s    \\nINSPECT in general    General observation  \\nNote  if richly  pigmen ted skin  therefore signs of skin \\nchanges may be different ( e.g. erythema  not as \\nobvious  \\n     Site and number of lesion (s)  \\n     If multiple , pattern of distribution and configurati on\\n       \\nDESCRIBE the individual lesion   SCAM  \\nSize (the widest diameter), Shape  \\nColour  \\n     Associated secondary change  \\nMorphology, Margin (border)  \\n \\n*If the lesion is pigmented, remember ABCD E  \\n(the presence of any of these features  increase the likelihood  of melanoma) : \\n     Asymmetry ( lack of mirror image in any of the  \\nfour quadrants )  \\nIrregular Border  \\nTwo or more Colours within the lesion  \\nDiameter > 6 mm  \\nEvolution ( history of change in size, shape or \\ncolour)  \\n \\nPALPATE * the individual lesion   Surface    Essential Clinical Skills  – Examining the skin  ', start_char_idx=None, end_char_idx=None, text_template='{metadata_str}\\n\\n{content}', metadata_template='{key}: {value}', metadata_seperator='\\n'),\n",
              " Document(id_='a673ecf6-b92c-4521-8455-47f50c63c706', embedding=None, metadata={'page_label': '10', 'file_name': 'Derm.pdf', 'file_path': '/content/Data/Derm.pdf', 'file_type': 'application/pdf', 'file_size': 3171832, 'creation_date': '2024-04-07', 'last_modified_date': '2024-04-07', 'last_accessed_date': '2024-04-07'}, excluded_embed_metadata_keys=['file_name', 'file_type', 'file_size', 'creation_date', 'last_modified_date', 'last_accessed_date'], excluded_llm_metadata_keys=['file_name', 'file_type', 'file_size', 'creation_date', 'last_modified_date', 'last_accessed_date'], relationships={}, text='                                                             Dermatology : Handbook for m edical students & junior d octors   \\n   British Association of Dermatologists  9      Consistency  \\n     Mobility  \\n     Tenderness  \\n     Temperature  \\n* Essential in richly pigmented skin to accurately \\nclassify lesions  \\n \\nSYSTEMATIC CHECK     Examine the nails, scalp, hair & mucous membranes  \\nGeneral examination of all systems  relevant to  \\npresenting symptoms  \\n \\n \\n \\nCommunicating examination findings  \\n \\n• In order to describe, record and communicate examination findings accurately, it is \\nimportant to learn the appropriate  terminology (Table s 3-10). \\n \\nTable 3. General terms  \\nTerm s  Meaning       \\nPruritus  Itching  \\nLesion   An area of altered skin       \\nRash   An eruption     \\nNaevus   A localised malformation of tissue structures  \\n  Example : (Picture  Source: D@nderm)  \\n   \\n     \\nComedone  A plug in a sebaceous follicle containing altered sebum , bacteria  and \\n  cellular debris ; can present as either open (blackheads)  or closed  \\n(whiteheads)  \\nExample:  \\nPigmented melanocytic naevus (mole)  \\n  Essential Clinical Skills  – Communicating examination findings  ', start_char_idx=None, end_char_idx=None, text_template='{metadata_str}\\n\\n{content}', metadata_template='{key}: {value}', metadata_seperator='\\n'),\n",
              " Document(id_='1be7e25f-62e5-4981-a90e-f66c735cf443', embedding=None, metadata={'page_label': '11', 'file_name': 'Derm.pdf', 'file_path': '/content/Data/Derm.pdf', 'file_type': 'application/pdf', 'file_size': 3171832, 'creation_date': '2024-04-07', 'last_modified_date': '2024-04-07', 'last_accessed_date': '2024-04-07'}, excluded_embed_metadata_keys=['file_name', 'file_type', 'file_size', 'creation_date', 'last_modified_date', 'last_accessed_date'], excluded_llm_metadata_keys=['file_name', 'file_type', 'file_size', 'creation_date', 'last_modified_date', 'last_accessed_date'], relationships={}, text='                                                             Dermatology : Handbook for m edical students & junior d octors   \\n   British Association of Dermatologists  10             \\n \\n \\n \\nTable 4. Distribution (the pattern of spread of lesions)  \\nTerm s  Meaning        \\nGeneralised  All over the body  \\nWidespread  Extensive  \\nLocalised  Restricted to one area of skin only  \\nFlexural  Body folds i.e. groin, neck, behind ears, popliteal and antecubital fossa  \\nExtensor  Knee s, elbow s, shins  \\nPressure areas  Sacrum,  buttocks,  ankles,  heels  \\nDermatom e An area of skin supplied by a single spinal nerve   \\nPhotosensitive   Affects s un-exposed areas such as face, neck and back of hands  \\n  Example:  \\n   \\n \\nKöebner  A linear eruption arising at site of trauma  \\nphenomenon  Example:  \\nSunburn  Open comedones (left) and closed comedones (right) in acne    Essential Clinical Skills  – Communicating examination findings  ', start_char_idx=None, end_char_idx=None, text_template='{metadata_str}\\n\\n{content}', metadata_template='{key}: {value}', metadata_seperator='\\n'),\n",
              " Document(id_='9b5a0d8e-95ff-4420-8280-c0fb528c91fb', embedding=None, metadata={'page_label': '12', 'file_name': 'Derm.pdf', 'file_path': '/content/Data/Derm.pdf', 'file_type': 'application/pdf', 'file_size': 3171832, 'creation_date': '2024-04-07', 'last_modified_date': '2024-04-07', 'last_accessed_date': '2024-04-07'}, excluded_embed_metadata_keys=['file_name', 'file_type', 'file_size', 'creation_date', 'last_modified_date', 'last_accessed_date'], excluded_llm_metadata_keys=['file_name', 'file_type', 'file_size', 'creation_date', 'last_modified_date', 'last_accessed_date'], relationships={}, text='                                                             Dermatology : Handbook for m edical students & junior d octors   \\n   British Association of Dermatologists  11    \\n \\n \\n \\n \\nTable 5. Configuration  (the pattern or shape of grouped lesions)  \\nTerm s  Meaning       \\nDiscrete  Individual lesion s separated from each other  \\nConfluent  Lesions merging together  \\nLinear   In a line \\nTarget   Concentric rings (like a dartboard)  \\n  Example:  \\n    \\nAnnular  Like a circle or ring  \\n  Example:  \\n \\n \\nPsoriasis  \\nErythema multiforme  \\nTinea corporis  \\n(‘ringworm’)  \\n  Essential Clinical Skills  – Communicating examination findings  ', start_char_idx=None, end_char_idx=None, text_template='{metadata_str}\\n\\n{content}', metadata_template='{key}: {value}', metadata_seperator='\\n'),\n",
              " Document(id_='fc103616-2fd3-4acc-b265-f67e51bc3a57', embedding=None, metadata={'page_label': '13', 'file_name': 'Derm.pdf', 'file_path': '/content/Data/Derm.pdf', 'file_type': 'application/pdf', 'file_size': 3171832, 'creation_date': '2024-04-07', 'last_modified_date': '2024-04-07', 'last_accessed_date': '2024-04-07'}, excluded_embed_metadata_keys=['file_name', 'file_type', 'file_size', 'creation_date', 'last_modified_date', 'last_accessed_date'], excluded_llm_metadata_keys=['file_name', 'file_type', 'file_size', 'creation_date', 'last_modified_date', 'last_accessed_date'], relationships={}, text='                                                             Dermatology : Handbook for m edical students & junior d octors   \\n   British Association of Dermatologists  12 Discoid  / A coin -shaped/round lesion  \\nNummular  Example:  Discoid eczema  \\n    \\n \\n \\nTable 6. Colour  \\nTerm s  Meaning        \\nErythema  Redness  (due to inflammation and vasodila tation)  which blanches on \\npressure  \\nExample:  \\n \\n \\nPurpura  Red or purple colour  (due to bl eeding into the skin or mucous membrane)   \\nwhich  does not blanch on pressure  – petechiae (small pinpoint macules) and   \\necchymoses  (larger bruise -like patches)   \\nExample:  \\nHypopigmentation of discoid \\nlupus  \\nPalmar erythema    Essential Clinical Skills  – Communicating examination findings  ', start_char_idx=None, end_char_idx=None, text_template='{metadata_str}\\n\\n{content}', metadata_template='{key}: {value}', metadata_seperator='\\n'),\n",
              " Document(id_='22ca6c2d-18cd-4550-b8d1-b555cf959bba', embedding=None, metadata={'page_label': '14', 'file_name': 'Derm.pdf', 'file_path': '/content/Data/Derm.pdf', 'file_type': 'application/pdf', 'file_size': 3171832, 'creation_date': '2024-04-07', 'last_modified_date': '2024-04-07', 'last_accessed_date': '2024-04-07'}, excluded_embed_metadata_keys=['file_name', 'file_type', 'file_size', 'creation_date', 'last_modified_date', 'last_accessed_date'], excluded_llm_metadata_keys=['file_name', 'file_type', 'file_size', 'creation_date', 'last_modified_date', 'last_accessed_date'], relationships={}, text='                                                             Dermatology : Handbook for m edical students & junior d octors   \\n   British Association of Dermatologists  13   \\n \\nHypo -  Area(s) of p aler skin  \\npigmentation  Example s:   \\n \\n \\n     \\nR © Cardiff  and Vale University Health Board  \\nDe-pigmentation : White skin due to absence  of melanin  \\n Example s:  \\n      \\nM and R © Cardiff  and Vale University Health Board  \\nNote the three colours ‘tricolor’ pattern typical of vitiligo.  \\n \\nHyper -pigmentation  Darker skin which may be due to various caus es (e.g. post -\\ninflammatory , melasma, naevi ) \\nHenoch -Schönlein purpura  \\n(palpable small vessel vasculitis)  \\nPityriasis versicolor  \\n(a superficial fungus infection)  \\nVitiligo  \\n(loss of skin \\nmelanocytes)  \\nMelasma  (increased melanin pigmentation)  \\n  Essential Clinical Skills  – Communicating examination findings  ', start_char_idx=None, end_char_idx=None, text_template='{metadata_str}\\n\\n{content}', metadata_template='{key}: {value}', metadata_seperator='\\n'),\n",
              " Document(id_='0065cde5-054f-4728-9f21-fa45b991615d', embedding=None, metadata={'page_label': '15', 'file_name': 'Derm.pdf', 'file_path': '/content/Data/Derm.pdf', 'file_type': 'application/pdf', 'file_size': 3171832, 'creation_date': '2024-04-07', 'last_modified_date': '2024-04-07', 'last_accessed_date': '2024-04-07'}, excluded_embed_metadata_keys=['file_name', 'file_type', 'file_size', 'creation_date', 'last_modified_date', 'last_accessed_date'], excluded_llm_metadata_keys=['file_name', 'file_type', 'file_size', 'creation_date', 'last_modified_date', 'last_accessed_date'], relationships={}, text='                                                             Dermatology : Handbook for m edical students & junior d octors   \\n   British Association of Dermatologists  14  Example s: \\n    \\n \\n \\n \\nTable 7. Morphology  (the structure of a lesion) – Primary lesions  \\nTerm s  Meaning       \\nMacule   A flat area of altered colour   \\n  Example:  \\n   \\n \\nPatch   Larger flat area of altered colour or texture   \\n  Example:  \\n     \\nFreckles  \\nVascular malformation  \\n(naevus flammeus / ‘port wine stain’)    Essential Clinical Skills  – Communicating examination findings  ', start_char_idx=None, end_char_idx=None, text_template='{metadata_str}\\n\\n{content}', metadata_template='{key}: {value}', metadata_seperator='\\n'),\n",
              " Document(id_='86c3ad0f-93a0-441d-bc8e-29f1dde9683c', embedding=None, metadata={'page_label': '16', 'file_name': 'Derm.pdf', 'file_path': '/content/Data/Derm.pdf', 'file_type': 'application/pdf', 'file_size': 3171832, 'creation_date': '2024-04-07', 'last_modified_date': '2024-04-07', 'last_accessed_date': '2024-04-07'}, excluded_embed_metadata_keys=['file_name', 'file_type', 'file_size', 'creation_date', 'last_modified_date', 'last_accessed_date'], excluded_llm_metadata_keys=['file_name', 'file_type', 'file_size', 'creation_date', 'last_modified_date', 'last_accessed_date'], relationships={}, text='                                                             Dermatology : Handbook for m edical students & junior d octors   \\n   British Association of Dermatologists  15  \\nPapule   Solid raised lesion < 0.5cm in diameter  \\n  Example:  \\n \\n \\nNodule    Solid raised lesion >0.5cm in diameter  with a deeper component  \\n  Example:  (Picture source: D@nderm)  \\n    \\n \\nPlaque   Palpable scaling raised lesion  >0.5cm in diameter  \\n  Example:  \\n   \\n \\nVesicle   Raised, clear fluid -filled lesion <0.5cm in diameter  \\n(small blister)  Example:  \\nPsoriasis  Pyogenic granuloma  \\n(granuloma telangiectaticum)  Xanthomata  \\n  Essential Clinical Skills  – Communicating examination findings  ', start_char_idx=None, end_char_idx=None, text_template='{metadata_str}\\n\\n{content}', metadata_template='{key}: {value}', metadata_seperator='\\n'),\n",
              " Document(id_='f7dbdebd-eb80-42a9-987a-75c326ba7166', embedding=None, metadata={'page_label': '17', 'file_name': 'Derm.pdf', 'file_path': '/content/Data/Derm.pdf', 'file_type': 'application/pdf', 'file_size': 3171832, 'creation_date': '2024-04-07', 'last_modified_date': '2024-04-07', 'last_accessed_date': '2024-04-07'}, excluded_embed_metadata_keys=['file_name', 'file_type', 'file_size', 'creation_date', 'last_modified_date', 'last_accessed_date'], excluded_llm_metadata_keys=['file_name', 'file_type', 'file_size', 'creation_date', 'last_modified_date', 'last_accessed_date'], relationships={}, text='                                                             Dermatology : Handbook for m edical students & junior d octors   \\n   British Association of Dermatologists  16    \\n \\nBulla   Raised, clear fluid -filled lesion  >0.5cm in diameter  \\n(large blister)  Example:  \\n   \\nPustule   Pus-containing lesion <0.5cm in diameter  \\n  Example:  \\n   \\n \\nAbscess    Localised accumulation of pus in the dermis or subcutaneous tissues  \\n  Example:  \\n   \\n \\nW(h)eal Transient raised lesi on due to dermal o edema  \\nAcne  Reaction to insect bites  Acute hand eczema \\n(pompholyx)  \\n \\nPeriungual abscess   \\n(acute paronychia)    Essential Clinical Skills  – Communicating examination findings  ', start_char_idx=None, end_char_idx=None, text_template='{metadata_str}\\n\\n{content}', metadata_template='{key}: {value}', metadata_seperator='\\n'),\n",
              " Document(id_='c80c8b82-811f-4693-9b90-bbe75907916f', embedding=None, metadata={'page_label': '18', 'file_name': 'Derm.pdf', 'file_path': '/content/Data/Derm.pdf', 'file_type': 'application/pdf', 'file_size': 3171832, 'creation_date': '2024-04-07', 'last_modified_date': '2024-04-07', 'last_accessed_date': '2024-04-07'}, excluded_embed_metadata_keys=['file_name', 'file_type', 'file_size', 'creation_date', 'last_modified_date', 'last_accessed_date'], excluded_llm_metadata_keys=['file_name', 'file_type', 'file_size', 'creation_date', 'last_modified_date', 'last_accessed_date'], relationships={}, text='                                                             Dermatology : Handbook for m edical students & junior d octors   \\n   British Association of Dermatologists  17 Example s: Urticaria  \\n  \\n \\n \\nBoil/Furuncle  Staphylococcal infection around or within a hair follicle    \\n \\nCarbuncle  Staphylococcal infection of adjacent hair follicles (multiple boils/furuncles)  \\n \\n \\nTable 8. Morphology - Secondary lesions (lesions that evolve from primary lesions ) \\nTerm s  Meaning      \\nExcoriation  Loss of epidermis following trauma  \\n  Example:  \\n   \\n \\n \\n \\n \\n \\n \\n \\n \\n \\n \\n \\nNote how subtle the erythema is in this w heal in patient with skin type V . \\n \\nExcoriations in eczema  \\n  Essential Clinical Skills  – Communicating examination findings  ', start_char_idx=None, end_char_idx=None, text_template='{metadata_str}\\n\\n{content}', metadata_template='{key}: {value}', metadata_seperator='\\n'),\n",
              " Document(id_='5c04efb1-f2e8-45e9-bbaf-37bc4f7d036a', embedding=None, metadata={'page_label': '19', 'file_name': 'Derm.pdf', 'file_path': '/content/Data/Derm.pdf', 'file_type': 'application/pdf', 'file_size': 3171832, 'creation_date': '2024-04-07', 'last_modified_date': '2024-04-07', 'last_accessed_date': '2024-04-07'}, excluded_embed_metadata_keys=['file_name', 'file_type', 'file_size', 'creation_date', 'last_modified_date', 'last_accessed_date'], excluded_llm_metadata_keys=['file_name', 'file_type', 'file_size', 'creation_date', 'last_modified_date', 'last_accessed_date'], relationships={}, text='                                                             Dermatology : Handbook for m edical students & junior d octors   \\n   British Association of Dermatologists  18 Lichenification  Well -defined r oughening of skin with accentuation of skin markings  \\n  Example s: \\n  \\n \\nLichenification due to chronic \\nrubbing in eczema  \\n © Cardiff  and Vale University Health Board  \\n Lichenification in \\ndarker  skin types : \\nthe clue is the \\nincreased \\nappearance of skin \\nlines at the bottom \\nof this photograph.  \\n \\n  \\n  Essential Clinical Skills  – Communicating examination findings  ', start_char_idx=None, end_char_idx=None, text_template='{metadata_str}\\n\\n{content}', metadata_template='{key}: {value}', metadata_seperator='\\n'),\n",
              " Document(id_='c663a966-42ba-4b3e-a081-44b6308444fd', embedding=None, metadata={'page_label': '20', 'file_name': 'Derm.pdf', 'file_path': '/content/Data/Derm.pdf', 'file_type': 'application/pdf', 'file_size': 3171832, 'creation_date': '2024-04-07', 'last_modified_date': '2024-04-07', 'last_accessed_date': '2024-04-07'}, excluded_embed_metadata_keys=['file_name', 'file_type', 'file_size', 'creation_date', 'last_modified_date', 'last_accessed_date'], excluded_llm_metadata_keys=['file_name', 'file_type', 'file_size', 'creation_date', 'last_modified_date', 'last_accessed_date'], relationships={}, text='                                                             Dermatology : Handbook for m edical students & junior d octors   \\n   British Association of Dermatologists  19  \\nScales   Flakes of stratum corneum  \\n  Example:  \\n   \\n \\nCrust   Rough surface consisting of dried serum, blood, bacteria  and cellular debris    \\nthat has exuded through an eroded epidermis  (e.g. from a burst blister )  \\n  Example:  \\n   \\n \\nScar   New fibrous tissue which occurs post -wound healing , and may be atrophic  \\n(thinning),  hypertrophic (hyperprolifera tion within wound boundary), or \\nkeloidal ( hyperproliferation beyond  wound boundary)  \\n \\n  Example s: Keloid scars  \\n \\n    \\n          R © Cardiff  and Vale University Health Board   \\nImpetigo  Psoriasis (showing silvery scales)  \\n  Essential Clinical Skills  – Communicating examination findings  ', start_char_idx=None, end_char_idx=None, text_template='{metadata_str}\\n\\n{content}', metadata_template='{key}: {value}', metadata_seperator='\\n'),\n",
              " Document(id_='0349b840-a7f3-4f16-9c82-553d7d18e424', embedding=None, metadata={'page_label': '21', 'file_name': 'Derm.pdf', 'file_path': '/content/Data/Derm.pdf', 'file_type': 'application/pdf', 'file_size': 3171832, 'creation_date': '2024-04-07', 'last_modified_date': '2024-04-07', 'last_accessed_date': '2024-04-07'}, excluded_embed_metadata_keys=['file_name', 'file_type', 'file_size', 'creation_date', 'last_modified_date', 'last_accessed_date'], excluded_llm_metadata_keys=['file_name', 'file_type', 'file_size', 'creation_date', 'last_modified_date', 'last_accessed_date'], relationships={}, text='                                                             Dermatology : Handbook for m edical students & junior d octors   \\n   British Association of Dermatologists  20  \\nUlcer   Loss of epidermis  and dermis (heals with scarring ) \\n  Example:  \\n   \\n \\nFissure   An epidermal crack often  due to excess dryness  \\n  Example:  \\n   \\nStriae  Linear areas which  progress from purple to pink  to white , with the \\nhistopathological appearance of a scar  (associated with excessive steroid \\nusage  and glucocorticoid production , grow th spurts  and pregnancy ) \\n  Example:  \\n   \\nLeg ulcers  \\nStriae  Eczema    Essential Clinical Skills  – Communicating examination findings  ', start_char_idx=None, end_char_idx=None, text_template='{metadata_str}\\n\\n{content}', metadata_template='{key}: {value}', metadata_seperator='\\n'),\n",
              " Document(id_='c70534e8-aa9b-49ef-abeb-d2f066a04ee5', embedding=None, metadata={'page_label': '22', 'file_name': 'Derm.pdf', 'file_path': '/content/Data/Derm.pdf', 'file_type': 'application/pdf', 'file_size': 3171832, 'creation_date': '2024-04-07', 'last_modified_date': '2024-04-07', 'last_accessed_date': '2024-04-07'}, excluded_embed_metadata_keys=['file_name', 'file_type', 'file_size', 'creation_date', 'last_modified_date', 'last_accessed_date'], excluded_llm_metadata_keys=['file_name', 'file_type', 'file_size', 'creation_date', 'last_modified_date', 'last_accessed_date'], relationships={}, text='                                                             Dermatology : Handbook for m edical students & junior d octors   \\n   British Association of Dermatologists  21 Table 9. Hair  \\nTerm s  Meaning       \\nAlopecia  Loss of hair   \\n  Example s: \\n   \\nAlopecia areata  (well -defined patch of complete hair loss)  Scarring alopecia of the scalp  © Cardiff  \\nand Vale University Health Board  \\n \\nHirsutism  Androgen -dependent  hair growth in a female   \\n  Example:  \\n   \\nHypertrichosis  Non -androgen dependent  pattern of excessive hair growth   \\n(e.g. in pigmented naevi)  \\n  Example:         \\n   \\nHirsutism  \\n \\nHypertrichosis  \\n \\n \\n  Essential Clinical Skills  – Communicating examination findings  ', start_char_idx=None, end_char_idx=None, text_template='{metadata_str}\\n\\n{content}', metadata_template='{key}: {value}', metadata_seperator='\\n'),\n",
              " Document(id_='36bf9570-35ab-4ecb-ba47-b28a0d601fd6', embedding=None, metadata={'page_label': '23', 'file_name': 'Derm.pdf', 'file_path': '/content/Data/Derm.pdf', 'file_type': 'application/pdf', 'file_size': 3171832, 'creation_date': '2024-04-07', 'last_modified_date': '2024-04-07', 'last_accessed_date': '2024-04-07'}, excluded_embed_metadata_keys=['file_name', 'file_type', 'file_size', 'creation_date', 'last_modified_date', 'last_accessed_date'], excluded_llm_metadata_keys=['file_name', 'file_type', 'file_size', 'creation_date', 'last_modified_date', 'last_accessed_date'], relationships={}, text='                                                             Dermatology : Handbook for m edical students & junior d octors   \\n   British Association of Dermatologists  22 Table 10. Nails  \\nTerm s  Meaning       \\nClubbing  Loss of angle between the posterior nail fold and nail plate  \\n  (associations include suppurative lung disease, cyanotic heart disease,  \\ninflammatory bowel disease and idiopathic)  \\nExample:  (Picture s ource: D@nderm)   \\n  \\nKoilonychia  Spoon -shaped depression of the nail plate  \\n  (associations include iron -deficiency anaemia, congenital and idiopathic)  \\nExample:  (Picture s ource: D@nderm)  \\n   \\nOnycholysis  Separation of  the distal end of the  nail plate from nail bed  \\n  (associations include trauma, psoriasis, fungal nail infection and  \\nhyperthyroidism)  \\nExample:  (Picture s ource: D@nderm)   \\n    \\nPitting  Punctate depre ssion s of the nail plate   \\n  (associations include psoriasis, eczema  and alopecia areata)   \\n  Example:  (Picture s ource: D@nderm)  \\n   \\n \\nClubbing  \\nKoilonychia  \\nOnycholysis  \\nPitting    Essential Clinical Skills  – Communicating examination findings  ', start_char_idx=None, end_char_idx=None, text_template='{metadata_str}\\n\\n{content}', metadata_template='{key}: {value}', metadata_seperator='\\n'),\n",
              " Document(id_='1f985801-5b54-427a-8bed-5e512f9917bb', embedding=None, metadata={'page_label': '24', 'file_name': 'Derm.pdf', 'file_path': '/content/Data/Derm.pdf', 'file_type': 'application/pdf', 'file_size': 3171832, 'creation_date': '2024-04-07', 'last_modified_date': '2024-04-07', 'last_accessed_date': '2024-04-07'}, excluded_embed_metadata_keys=['file_name', 'file_type', 'file_size', 'creation_date', 'last_modified_date', 'last_accessed_date'], excluded_llm_metadata_keys=['file_name', 'file_type', 'file_size', 'creation_date', 'last_modified_date', 'last_accessed_date'], relationships={}, text='                                                             Dermatology : Handbook for m edical students & junior d octors   \\n   British Association of Dermatologists  23  \\n \\n \\n• This section covers the basic knowledge of normal skin structure and function \\nrequired to help understand how skin diseases occur.  \\n \\n \\n \\n \\n \\n \\n \\nFunctions of normal skin  \\n• These include:  \\ni) Protective barrier against envi ronmental insults  \\nii) Temperature regulation  \\niii) Sensation  \\niv) Vitamin D synthesis  \\nv) Immunosurveillance  \\nvi) Appearance/cosmesis  \\n \\n \\nStructure of normal skin and the skin appendages  \\n• The skin is the largest organ in the human body. It is composed of the epidermis  and \\ndermis  overlying subcutaneous tissue.  The skin appendages (structures formed by \\nskin-derived cells) are hair, nails, sebaceous glands and sweat  glands.  \\n \\nEpidermis  \\n• The epidermis is composed of 4 major cell types, each with specific functions (Table \\n11).   \\n \\n \\n \\n \\n Background Knowledge  \\nLearning outcomes:  \\n1. Ability to describe the functions of normal skin  \\n2. Ability to describe the structure of normal skin  \\n3. Ability to describe the principles of wound healing  \\n4. Ability to describe the difficulties, physical and psychological, that may be \\nexperienced by people with chronic skin disease  \\n  Background Knowledge  – Functions  of normal skin   ', start_char_idx=None, end_char_idx=None, text_template='{metadata_str}\\n\\n{content}', metadata_template='{key}: {value}', metadata_seperator='\\n'),\n",
              " Document(id_='dfbac3e7-8672-438e-abbe-1055ef5eb5bc', embedding=None, metadata={'page_label': '25', 'file_name': 'Derm.pdf', 'file_path': '/content/Data/Derm.pdf', 'file_type': 'application/pdf', 'file_size': 3171832, 'creation_date': '2024-04-07', 'last_modified_date': '2024-04-07', 'last_accessed_date': '2024-04-07'}, excluded_embed_metadata_keys=['file_name', 'file_type', 'file_size', 'creation_date', 'last_modified_date', 'last_accessed_date'], excluded_llm_metadata_keys=['file_name', 'file_type', 'file_size', 'creation_date', 'last_modified_date', 'last_accessed_date'], relationships={}, text='                                                             Dermatology : Handbook for m edical students & junior d octors   \\n   British Association of Dermatologists  24 Table 11.  Main functions of each cell type in the epidermis  \\nCell type s  Main function s \\nKeratinocytes   Produce keratin as a protective barrier  \\nLangerhans ’ cells  Present antigens and activate T -lymphocytes for immune protection  \\nMelanocytes   Produce melanin, which gives pigment to the skin and protects the  \\ncell nuclei from ult raviolet (UV)  radiation -induced DNA damage  \\nMerkel cells   Contain specialised nerve endings for sensation  \\n \\n• There are 4 layers in the epidermis (Table 12), each representing a different stage of \\nmaturation of the keratinocytes. The average epidermal turnove r time (migration of \\ncells from the basal cell layer to the horny layer) is about 30 days.  \\n \\nTable 12.  Composition of each epidermal layer  \\nEpidermal layer s  Composition  \\nStratum basale     Actively dividing cells, deepest layer  \\n(Basal cell layer)   \\nStratum spinosum    Differentiating cells  \\n(Prickle cell layer)   \\nStratum granulosum    So-called because c ells lose their nuclei and contain  \\n(Gran ular cell layer)   granules of keratohyaline. They secrete lipid into the  \\n    intercellular spaces.  \\nStratum corneum    Layer of keratin, most superficial layer  \\n(Horny layer)  \\n \\n• In areas of thick skin such as the sole, there is a fifth layer, stratum lucidum, beneath \\nthe stratum corneum. This consists of paler, compact keratin.  \\n \\n• Pathology of the epidermis may involve:  \\na) changes in epidermal turnover time - e.g. psoriasis (reduced epidermal  \\n         turnover time)   \\nb) changes in the surface of the skin or loss of epidermis - e.g. scales,  \\n    crusting,  exudate, ulcer  \\nc) changes in pigmentation of the skin - e.g. hypo - or hyper -pigment ed skin  \\n   Background Knowledge – Structure of normal skin and the skin appendages  ', start_char_idx=None, end_char_idx=None, text_template='{metadata_str}\\n\\n{content}', metadata_template='{key}: {value}', metadata_seperator='\\n'),\n",
              " Document(id_='34bfc632-d2e8-4987-a305-d0654ad84196', embedding=None, metadata={'page_label': '26', 'file_name': 'Derm.pdf', 'file_path': '/content/Data/Derm.pdf', 'file_type': 'application/pdf', 'file_size': 3171832, 'creation_date': '2024-04-07', 'last_modified_date': '2024-04-07', 'last_accessed_date': '2024-04-07'}, excluded_embed_metadata_keys=['file_name', 'file_type', 'file_size', 'creation_date', 'last_modified_date', 'last_accessed_date'], excluded_llm_metadata_keys=['file_name', 'file_type', 'file_size', 'creation_date', 'last_modified_date', 'last_accessed_date'], relationships={}, text='                                                             Dermatology : Handbook for m edical students & junior d octors   \\n   British Association of Dermatologists  25 Dermis  \\n• The dermis is made up of collagen (mainly), elastin and glycosaminoglycans, which \\nare synthesised by fibroblasts. Collectively, they provide the dermis with strength \\nand elasticity.  \\n• The dermis also contains immune cells, nerves, skin appendages as well as  lymphatic  \\nand blood vessels.  \\n• Pathology of the dermis may involve:  \\na) changes in the contour of the skin or loss of dermis e.g. formation of  \\n    papules, nodules, skin atrophy  and ulcers  \\nb) disorders of skin appendages e.g. disorders of hair, acne (disorder of  \\n    sebaceous glands)  \\nc) changes related to lymphatic and blood vessels  e.g. ery thema  \\n    (vasodila tation), urticaria ( increased permeability of capillaries and small  \\n        venules ), purpura (capillary  leakage ) \\n \\nHair  \\n• There are 3 main types of hair:  \\na) lanugo hair (fine long hair in fetus)  \\nb) vellus hair (fine short hair on all body surfaces)  \\nc) terminal hair (coarse long hair on the scalp , eye brows, eyelashes and   \\n     pubic areas ) \\n• Each hair consists of modified keratin and is divided into the hair shaft (a keratinized \\ntube) and hair bulb (actively dividing cells , and melanocyte s which give pigment to \\nthe hair).  \\n• Each hair follicle enters its own growth cycle. This occurs in 3 main phases:  \\na)  anagen (long growing phase)  \\nb) catagen (short regressing phase)  \\nc) telogen ( resting/ shedding phase)  \\n• Pathology of the hair may  involve : \\na) reduced or absent melanin pigment production e.g. grey or white hair  \\nb) changes in duration of the growth cycle e.g. hair loss (premature entry of  \\n    hair follicles into the telogen phase)  \\nc) shaft abnormalities  \\n \\n  Background Knowledge – Structure of normal skin and the skin appendages  ', start_char_idx=None, end_char_idx=None, text_template='{metadata_str}\\n\\n{content}', metadata_template='{key}: {value}', metadata_seperator='\\n'),\n",
              " Document(id_='03d7dfa9-7ecc-48d9-aeba-41e70bee656d', embedding=None, metadata={'page_label': '27', 'file_name': 'Derm.pdf', 'file_path': '/content/Data/Derm.pdf', 'file_type': 'application/pdf', 'file_size': 3171832, 'creation_date': '2024-04-07', 'last_modified_date': '2024-04-07', 'last_accessed_date': '2024-04-07'}, excluded_embed_metadata_keys=['file_name', 'file_type', 'file_size', 'creation_date', 'last_modified_date', 'last_accessed_date'], excluded_llm_metadata_keys=['file_name', 'file_type', 'file_size', 'creation_date', 'last_modified_date', 'last_accessed_date'], relationships={}, text='                                                             Dermatology : Handbook for m edical students & junior d octors   \\n   British Association of Dermatologists  26 Nails  \\n• The nail is made up of a nail plate (hard keratin) which arises from the nail matrix at \\nthe posterior nail fold, and rests on the nail bed.  \\n• The nail bed contains blood capillar ies which gives the pink colour of the nails.  \\n• Pathology of the nail may involve:  \\na) abnormalities of the nail matrix e.g. pits and ridges  \\nb) abnormalities of the nail bed e.g. splinter haemorrhage  \\nc) abnormalities of the nail plate e.g. discoloured nails, thickening of nails  \\n \\nSebaceous glands  \\n• Sebaceous glands produce sebum via hair follicles (collectively called a \\npilosebaceous unit). They secrete sebum onto the skin surface which lubricates and \\nwaterproofs the skin.   \\n• Sebaceous glands are stimulated by the conversion of androgens to \\ndihydrotestosterone and therefore become active at puberty.  \\n• Pathology of sebaceous glands may involve:  \\na) increased sebum production and bacteria l colonisation e.g. acne  \\n  b) sebaceous gland hyperplasia  \\n \\nSweat glands  \\n• Sweat glands regulate body temperature and are innervated by the sympathetic \\nnervous system.  \\n• They are divided into two types: eccrine and apocrine sweat glands.  \\n• Eccrine sweat glands are universally distributed  in the skin.  \\n• Apocrine sweat glands are found in the axillae, areola e, genitalia and anus, and  \\nmodified glands are found in the external auditory canal . They only function from \\npuberty onwards and action of bacteria on the sweat produces body odour.  \\n• Patho logy of s weat  glands may involve:  \\na) inflammation/infection  of apocrine glands e.g. hidradenitis suppurativa  \\n  b) overactivity of eccrine glands e.g. hyperh idrosis  \\n \\n \\n \\n   Background Knowledge – Structure of normal skin and the skin appendages  ', start_char_idx=None, end_char_idx=None, text_template='{metadata_str}\\n\\n{content}', metadata_template='{key}: {value}', metadata_seperator='\\n'),\n",
              " Document(id_='af3cf6b6-7a9b-40f8-844f-237c3887de14', embedding=None, metadata={'page_label': '28', 'file_name': 'Derm.pdf', 'file_path': '/content/Data/Derm.pdf', 'file_type': 'application/pdf', 'file_size': 3171832, 'creation_date': '2024-04-07', 'last_modified_date': '2024-04-07', 'last_accessed_date': '2024-04-07'}, excluded_embed_metadata_keys=['file_name', 'file_type', 'file_size', 'creation_date', 'last_modified_date', 'last_accessed_date'], excluded_llm_metadata_keys=['file_name', 'file_type', 'file_size', 'creation_date', 'last_modified_date', 'last_accessed_date'], relationships={}, text='                                                             Dermatology : Handbook for m edical students & junior d octors   \\n   British Association of Dermatologists  27 Principles of wound healing  \\n \\n• Wound healing occurs in 4 phases: haemostasis, inflammation, proliferation and \\nremodelling  (Table 13) . \\n \\nTable 13. Stages of wound healing  \\nStages of wo und healing   Mechanisms  \\nHaemostasis     ● Vasoconstriction and platelet aggregation  \\n     ● Clot formation  \\n \\nInflammation     ● Vasodilatation  \\n● Migration of neutrophils and macrophages  \\n● Phagocytosis of cellular debris and invading    \\n   bacteria  \\n \\nProliferation     ● Granulation tissue formation (synthesised by  \\n    fibroblasts) and angiogenesis  \\n● Re-epithelialisation (epi dermal cell proliferation  \\n   and migration)  \\n \\nRemodelling     ● Collagen fibre re -organisation  \\n     ● Scar maturation  \\n \\n \\n \\n \\n \\n \\n \\n \\n \\n \\n \\n \\n \\n \\n \\n \\n \\n  Background Knowledge – Principles of wound healing  ', start_char_idx=None, end_char_idx=None, text_template='{metadata_str}\\n\\n{content}', metadata_template='{key}: {value}', metadata_seperator='\\n'),\n",
              " Document(id_='1f3c69c6-2145-4f23-879a-120b2814ca15', embedding=None, metadata={'page_label': '29', 'file_name': 'Derm.pdf', 'file_path': '/content/Data/Derm.pdf', 'file_type': 'application/pdf', 'file_size': 3171832, 'creation_date': '2024-04-07', 'last_modified_date': '2024-04-07', 'last_accessed_date': '2024-04-07'}, excluded_embed_metadata_keys=['file_name', 'file_type', 'file_size', 'creation_date', 'last_modified_date', 'last_accessed_date'], excluded_llm_metadata_keys=['file_name', 'file_type', 'file_size', 'creation_date', 'last_modified_date', 'last_accessed_date'], relationships={}, text='                                                             Dermatology : Handbook for m edical students & junior d octors   \\n   British Association of Dermatologists  28  \\n \\n \\n \\n• These are rapidly progressive  skin conditions  and some are  potentially life -\\nthreatening. Early recognition is important to implement prompt supportive care \\nand therapy.  \\n• Some are drug reactions and the offending drug should be withdrawn.  \\n• The essential management for all dermatological emergencies, like any emergen cy, \\nconsists of:  \\ni) full supportive care - ABC of resuscitation  \\nii) withdrawal of precipitating agents  \\niii) management of associated complications  \\niv) specific treatment  (highlighted below under each condition)  \\n \\n \\n \\n \\n \\n \\n \\n \\n \\n \\n \\n \\n \\n \\n \\n \\n \\n \\n \\n \\n Emergency Dermatology  \\nLearning outcomes:  \\n1.   Ability to recognise and describe these skin reactions:  \\n- urticaria   \\n- erythema nodosum  \\n- erythema multiforme  \\n \\n2.   Ability to recognise these emergency presentations, discuss the causes,  \\n      potential complications and provide first contact care in these emergencies:  \\n- anaphy laxis and angioedema  \\n- toxic epidermal necrolysis  \\n- Stevens -Johnson syndrome  \\n- acute meningococcaemia  \\n- erythroderma  \\n- eczema herpeticum  \\n- necrotis ing fasciitis    Emergency Dermatology  ', start_char_idx=None, end_char_idx=None, text_template='{metadata_str}\\n\\n{content}', metadata_template='{key}: {value}', metadata_seperator='\\n'),\n",
              " Document(id_='56388a9b-ad15-44a4-9553-9dc0acf62c4d', embedding=None, metadata={'page_label': '30', 'file_name': 'Derm.pdf', 'file_path': '/content/Data/Derm.pdf', 'file_type': 'application/pdf', 'file_size': 3171832, 'creation_date': '2024-04-07', 'last_modified_date': '2024-04-07', 'last_accessed_date': '2024-04-07'}, excluded_embed_metadata_keys=['file_name', 'file_type', 'file_size', 'creation_date', 'last_modified_date', 'last_accessed_date'], excluded_llm_metadata_keys=['file_name', 'file_type', 'file_size', 'creation_date', 'last_modified_date', 'last_accessed_date'], relationships={}, text='                                                             Dermatology : Handbook for m edical students & junior d octors   \\n   British Association of Dermatologists  29 Urticaria, Angioedema and A naphylaxis  \\n \\nCauses  ● Idiopathic, food  (e.g. nuts, sesame seeds, shellfish, dairy     \\nproducts),  drugs (e.g. penicillin, contrast media , non -steroidal anti -\\ninflammatory drugs (NSAIDs), morphine, angiotensin -converting \\nenzyme inhibitor s (ACE -i)), insect bites, contact (e.g. latex), viral or \\nparasitic infections, autoimmune, and hereditary (in some cases of \\nangioedema)  \\nDescription   ● Urticaria  is due to a local increase in permeability of capillaries  \\n   and small venules. A large number of inflammatory mediators  \\n   (including prostaglandins, leukotrienes, and chemotactic factors)  \\n   play a role but histamine derived from skin mast cells appears to  \\n   be the major mediator. Local m ediator  release from mast cells can  \\n   be induced by immunological or non -immunological mechanisms.  \\nPresentation   ● Urticaria (swelling involving  the superficial dermis, raising the  \\n   epidermis): itchy wheals  \\n   ● Angioedema (deeper swelling involving the dermis and  \\n   subcutaneous  tissues): swelling of tongue and lips  \\n● Anaphylaxis  (also known as anaphylactic shock): bronchospasm,  \\nfacial and laryngeal  oedema, hypotension; can present initially \\nwith urticaria and  angioedema  \\nManagement   ● Antihistamines for urticaria  \\n● Corticosteroids  for severe acute urticaria and angioedema  \\n● Adrenaline,  corticosteroids and antihistamines for anaphylaxis  \\nComplications   ● Urticaria is normally uncomplicated  \\n● Angioedema and anaphylaxis can lead to asphyxia, cardiac arrest  \\n   and death  \\n           \\n                                     Urticaria                  Angioedema  \\n  Emergency Dermatology – Urticaria, Angioedema and Anaphylaxis  ', start_char_idx=None, end_char_idx=None, text_template='{metadata_str}\\n\\n{content}', metadata_template='{key}: {value}', metadata_seperator='\\n'),\n",
              " Document(id_='ed4ad87e-da24-4f26-9fa9-9467dba4eb0a', embedding=None, metadata={'page_label': '31', 'file_name': 'Derm.pdf', 'file_path': '/content/Data/Derm.pdf', 'file_type': 'application/pdf', 'file_size': 3171832, 'creation_date': '2024-04-07', 'last_modified_date': '2024-04-07', 'last_accessed_date': '2024-04-07'}, excluded_embed_metadata_keys=['file_name', 'file_type', 'file_size', 'creation_date', 'last_modified_date', 'last_accessed_date'], excluded_llm_metadata_keys=['file_name', 'file_type', 'file_size', 'creation_date', 'last_modified_date', 'last_accessed_date'], relationships={}, text='                                                             Dermatology : Handbook for m edical students & junior d octors   \\n   British Association of Dermatologists  30 Erythema nodosum  \\n \\nDescription   ● A hypersensitivity response to a variety of stimuli  \\n \\nCauses    ● Group A beta -haemolytic streptococcus, primary tuberculosis,  \\n   pregnancy, malignancy, sarcoidosis, inflammatory bowel disease  \\n   (IBD), chlamydia and leprosy  \\n \\nPresentation   ● Discrete tender nodules which may become confluent  \\n   ● Lesions continue to a ppear for 1 -2 weeks and leave bruise -like  \\n   discolouration as they resolve  \\n● Lesions do not ulcerate and resolve without atrophy or scarring  \\n● The shins are the most common site  \\n \\n \\nErythema nodosum  \\n \\n  Emergency Dermatology – Erythema nodosum  ', start_char_idx=None, end_char_idx=None, text_template='{metadata_str}\\n\\n{content}', metadata_template='{key}: {value}', metadata_seperator='\\n'),\n",
              " Document(id_='023c0105-b887-46c3-adf8-f100180404f2', embedding=None, metadata={'page_label': '32', 'file_name': 'Derm.pdf', 'file_path': '/content/Data/Derm.pdf', 'file_type': 'application/pdf', 'file_size': 3171832, 'creation_date': '2024-04-07', 'last_modified_date': '2024-04-07', 'last_accessed_date': '2024-04-07'}, excluded_embed_metadata_keys=['file_name', 'file_type', 'file_size', 'creation_date', 'last_modified_date', 'last_accessed_date'], excluded_llm_metadata_keys=['file_name', 'file_type', 'file_size', 'creation_date', 'last_modified_date', 'last_accessed_date'], relationships={}, text='                                                             Dermatology : Handbook for m edical students & junior d octors   \\n   British Association of Dermatologists  31 Erythema multiforme, Stevens -Johnson syndrome  and Toxic epidermal necrolysis   \\n \\nDescription   ● Erythema multiforme , often of unknown cause , is an acute self - \\n   limiting inflammatory condition with herpes simplex virus  being   \\n   the main precipitating factor. Other infections and drugs are also  \\n   causes. Mucosal involvement is absent or limited to only one  \\n   mucosal surface.  \\n● Stevens -Johnson syndrome is characterised by  \\n   mucocutaneous necrosis with at least two mucosal sites involved.  \\n   Skin involvement may be limited or extensive. Drugs or  \\n   com binations of infections  or drugs are the main associations.   \\n   Epithelial necrosis with few  inflammatory cells is seen on  \\n   histopathology. The exte nsive  necrosis distinguishes Stevens - \\n   Johnson syndrome  from erythema  multiforme . Stevens -Johnson  \\n   syndrome  may have features  overlapping with toxic epidermal  \\n   necrolysis  including a prodromal illness.  \\n● Toxic epidermal necrosis which is usually drug -induced, is   \\n   an acute severe similar disease characterised by extensive skin and  \\n   mucosal necrosis accompanied by systemic toxicity. On  \\n   histopathology there is full thickness epidermal necrosis with  \\n   subepidermal detachment.  \\nManagement   ● Early recognition  and call for help  \\n   ● Full supportive care to maintain haemodynamic equilibrium  \\nComplications   ● Mortality rates are 5-12%  with SJS and >30%  with TEN  with  \\n   death often due to sepsis , electrolyte imbalance or  multi -system  \\n   organ failure  \\n        \\n   Erythema multiforme                Stevens -Johnson syndrome  \\n \\n \\n  Emergency Dermatology – Erythema multiforme, Stevens -Johnson syndrome and Toxic epidermal necrolysis  ', start_char_idx=None, end_char_idx=None, text_template='{metadata_str}\\n\\n{content}', metadata_template='{key}: {value}', metadata_seperator='\\n'),\n",
              " Document(id_='dc8bb1d6-377c-4d8c-9e4c-66099cb28b41', embedding=None, metadata={'page_label': '33', 'file_name': 'Derm.pdf', 'file_path': '/content/Data/Derm.pdf', 'file_type': 'application/pdf', 'file_size': 3171832, 'creation_date': '2024-04-07', 'last_modified_date': '2024-04-07', 'last_accessed_date': '2024-04-07'}, excluded_embed_metadata_keys=['file_name', 'file_type', 'file_size', 'creation_date', 'last_modified_date', 'last_accessed_date'], excluded_llm_metadata_keys=['file_name', 'file_type', 'file_size', 'creation_date', 'last_modified_date', 'last_accessed_date'], relationships={}, text='                                                             Dermatology : Handbook for m edical students & junior d octors   \\n   British Association of Dermatologists  32 Acute meningococcaemia  \\n \\nDescription  ● A serious communicable infection transmitted via respiratory   \\n   secretions ; bacteria get into the circulating blood  \\nCause  ● Gram negative diplococcus Neisseria meningitides  \\nPresentation  ● Features of meningitis (e.g. headache, fever, neck stiffness),    \\n      septicaemia (e.g. hypotension, fever, myalgia) and a typical rash  \\n  ● Non-blanching  purpuric rash on the trunk and extremities, which  \\n   may be preceded by a blanching maculopapular rash, and can  \\n   rapidly progress to ecchymoses, haemorrhagic bullae and tissue  \\n   necrosis  \\nManagement   ● Antibiotics  (e.g. benzylpenicillin)  \\n● Prophylacti c antibiotics (e.g. rifampicin) for close contacts (ideally  \\n   within 14 days of exposure)  \\nComplications   ● Septicaemic shock, disseminated intravascular coagulation, multi - \\n   organ failure and death  \\n \\n \\n    Emergency Dermatology – Acute meningococcaemia  ', start_char_idx=None, end_char_idx=None, text_template='{metadata_str}\\n\\n{content}', metadata_template='{key}: {value}', metadata_seperator='\\n'),\n",
              " Document(id_='ec6bf5a2-4245-4eab-9856-dfea74b80136', embedding=None, metadata={'page_label': '34', 'file_name': 'Derm.pdf', 'file_path': '/content/Data/Derm.pdf', 'file_type': 'application/pdf', 'file_size': 3171832, 'creation_date': '2024-04-07', 'last_modified_date': '2024-04-07', 'last_accessed_date': '2024-04-07'}, excluded_embed_metadata_keys=['file_name', 'file_type', 'file_size', 'creation_date', 'last_modified_date', 'last_accessed_date'], excluded_llm_metadata_keys=['file_name', 'file_type', 'file_size', 'creation_date', 'last_modified_date', 'last_accessed_date'], relationships={}, text='                                                             Dermatology : Handbook for m edical students & junior d octors   \\n   British Association of Dermatologists  33 Erythroderma (‘red skin’)  \\n \\nDescription  ● Exfoliat ive dermatitis involving at least 90%  of the skin surface  \\nCauses  ● Previous skin disease (e.g. eczema, psoriasis),  lymphoma,  drugs   \\n   (e.g.sulphonamides, gold, sulphonylureas, penicillin, allopurinol,  \\n   captopril)  and idiopathic  \\nPresentation  ● Skin appears inflamed, oedematous and scaly   \\n● Systemically unwell with lymphadenopathy and malaise  \\nManagement   ● Treat the underlying cause, wh ere known  \\n● Emollients and wet -wraps to maintain skin moisture  \\n● Topical  steroids may help to relieve inflammation  \\nComplications   ● Secondary infection, fluid loss and electrolyte imbalance,  \\nhypothermia, high -output cardiac failure and capillary leak     \\nsyndrome (most severe)  \\nPrognosis   ● Largely depends on the underlying cause  \\n● Overall m ortality rate ranges from 20 to 40%  \\n \\n  \\n                                        Erythroderma  \\n \\nIn richly pigmented  skin the erythema doesn’t look as bright, but on close inspection the inflamed \\nskin might appear a darker shade of brown or black, with a hint of erythema visible.  Palpating the skin \\nfor increased temperature is a vital clue.  \\n  \\n  Emergency Dermatology – Erythroderma  ', start_char_idx=None, end_char_idx=None, text_template='{metadata_str}\\n\\n{content}', metadata_template='{key}: {value}', metadata_seperator='\\n'),\n",
              " Document(id_='aa2a0f78-cc8e-4b82-9247-7d454b0175b0', embedding=None, metadata={'page_label': '35', 'file_name': 'Derm.pdf', 'file_path': '/content/Data/Derm.pdf', 'file_type': 'application/pdf', 'file_size': 3171832, 'creation_date': '2024-04-07', 'last_modified_date': '2024-04-07', 'last_accessed_date': '2024-04-07'}, excluded_embed_metadata_keys=['file_name', 'file_type', 'file_size', 'creation_date', 'last_modified_date', 'last_accessed_date'], excluded_llm_metadata_keys=['file_name', 'file_type', 'file_size', 'creation_date', 'last_modified_date', 'last_accessed_date'], relationships={}, text='                                                             Dermatology : Handbook for m edical students & junior d octors   \\n   British Association of Dermatologists  34 Eczema herpeticum (Kaposi’s varicelliform eruption)   \\n \\nDescription  ● Widespread eruption - serious complication of atopic eczema  or  \\n   less commonly other skin conditions  \\nCause    ● Herpes simplex virus  \\nPresentation   ● Extensive crusted papules, blisters and erosions  \\n● Systemically unwell with fever and malaise  \\nManagement   ● Antiviral s (e.g. aciclovir)  \\n   ● Antibiotics for  bacterial  secondary infection  \\nComplications   ● Herpes hepatitis, encephalitis, disseminated intravascular  \\n   coagulation (DIC) and rarely, death  \\n \\n \\n     Eczema herpeticum  \\n \\n \\n \\n \\n \\n \\n \\n \\n \\n \\n  Emergency Dermatology – Eczema herpeticum  ', start_char_idx=None, end_char_idx=None, text_template='{metadata_str}\\n\\n{content}', metadata_template='{key}: {value}', metadata_seperator='\\n'),\n",
              " Document(id_='dff2003b-cb6e-4df8-8c9b-c72b92462135', embedding=None, metadata={'page_label': '36', 'file_name': 'Derm.pdf', 'file_path': '/content/Data/Derm.pdf', 'file_type': 'application/pdf', 'file_size': 3171832, 'creation_date': '2024-04-07', 'last_modified_date': '2024-04-07', 'last_accessed_date': '2024-04-07'}, excluded_embed_metadata_keys=['file_name', 'file_type', 'file_size', 'creation_date', 'last_modified_date', 'last_accessed_date'], excluded_llm_metadata_keys=['file_name', 'file_type', 'file_size', 'creation_date', 'last_modified_date', 'last_accessed_date'], relationships={}, text='                                                             Dermatology : Handbook for m edical students & junior d octors   \\n   British Association of Dermatologists  35 Necrotising fasciitis  \\n \\nDescription  ● A rapidly spreading infection of the deep fascia with secondary  \\n      tissue necrosis  \\nCauses  ● Group A haemolytic streptococcus, or a mixture of anaerobic and    \\n   aerobic bacteria  \\n● Risk factors include abdominal surgery and medical co -morbidities  \\n   (e.g. diabetes, malignancy)  \\n● 50% of cases occur in previously healthy individuals  \\nPresentation   ● Severe pain  \\n   ● Erythematous, blistering, and necrotic skin  \\n● Systemically unwell wit h fever and tachycardia  \\n● Presence of crepitus (subcutaneous emphysema)  \\n● X-ray may show soft tissue gas  (absence should not exclude the  \\n   diagnosis)  \\nManagement   ● Urgent referral for extensive surgical debridement   \\n● Intravenous antibiotics  \\nPrognosis   ● Mortality up to 76%  \\n \\n \\n \\n \\n \\n \\n \\n \\n \\n \\n \\n \\n \\n \\n \\n \\n \\n  Emergency Dermatology – Necrotising fasciitis  ', start_char_idx=None, end_char_idx=None, text_template='{metadata_str}\\n\\n{content}', metadata_template='{key}: {value}', metadata_seperator='\\n'),\n",
              " Document(id_='52126acd-c842-4181-a062-c418fa97ba67', embedding=None, metadata={'page_label': '37', 'file_name': 'Derm.pdf', 'file_path': '/content/Data/Derm.pdf', 'file_type': 'application/pdf', 'file_size': 3171832, 'creation_date': '2024-04-07', 'last_modified_date': '2024-04-07', 'last_accessed_date': '2024-04-07'}, excluded_embed_metadata_keys=['file_name', 'file_type', 'file_size', 'creation_date', 'last_modified_date', 'last_accessed_date'], excluded_llm_metadata_keys=['file_name', 'file_type', 'file_size', 'creation_date', 'last_modified_date', 'last_accessed_date'], relationships={}, text='                                                             Dermatology : Handbook for m edical students & junior d octors   \\n   British Association of Dermatologists  36  \\n \\n \\n• The normal skin microflora  and antimicrobial peptides protect  the skin against \\ninfection. However , when there is skin damage , microorganisms can pene trate \\nresulting in infection . \\n• There are 3 main types of skin infections according to their sources: bacterial (e.g. \\nstaphylococcal and streptococcal), viral (e.g. human papilloma virus, herpes simplex \\n(see page 34 ) and herpes zoster  (see below) ), and fungal (e.g.  tinea  (see page 39 & \\n40), candida  (see page 39 & 40) and yeasts) . Infestations  (e.g. scabies  (see page  60 & \\n61), lice, cutaneous leishmaniasis ) can also occur . \\n \\n \\n \\n \\n \\n \\n \\n \\n \\n \\n \\nSkin Infections / Infestations  \\nHerpes zoster (shingles) infection due to varicella -zoster virus affecting the \\ndistribution of the ophthalmic division of the fifth cranial (trigeminal) ner ve \\nNote: Examination for eye involvement is important  \\nLearning outcomes:  \\n   Ability to describe the presentation, investigation and management of:  \\n   - cellulitis and erysipelas  \\n   - staphylococcal scalded skin syndrome  \\n   - superficial fungal infections  \\n \\n \\n \\n   Skin Infections / Infestations  ', start_char_idx=None, end_char_idx=None, text_template='{metadata_str}\\n\\n{content}', metadata_template='{key}: {value}', metadata_seperator='\\n'),\n",
              " Document(id_='73a7b589-037d-458c-9e33-33e340293a54', embedding=None, metadata={'page_label': '38', 'file_name': 'Derm.pdf', 'file_path': '/content/Data/Derm.pdf', 'file_type': 'application/pdf', 'file_size': 3171832, 'creation_date': '2024-04-07', 'last_modified_date': '2024-04-07', 'last_accessed_date': '2024-04-07'}, excluded_embed_metadata_keys=['file_name', 'file_type', 'file_size', 'creation_date', 'last_modified_date', 'last_accessed_date'], excluded_llm_metadata_keys=['file_name', 'file_type', 'file_size', 'creation_date', 'last_modified_date', 'last_accessed_date'], relationships={}, text='                                                             Dermatology : Handbook for m edical students & junior d octors   \\n   British Association of Dermatologists  37 Erysipelas and Cellulitis  \\n \\nDescription  ● Spreading  bacterial infection of the skin  \\n● Cellulitis  involves the deep subcutaneous tissue  \\n● Erysipelas  is an acute  superficial form of cellulitis and involves  \\n   the dermis and upper subcutaneous tissue   \\nCauses  ● Streptococcus pyogenes and Staphylococcus aureus  \\n ● Risk factors include immunosu ppression, wounds, leg ulcers,  \\n        toeweb intertrigo , and minor skin injury  \\nPresentation   ● Most common in the lower limbs  \\n● Local signs of inflammation – swelling (tumor), erythema (rubor),  \\nwarmth (calor), pain (dolor ); may be associated with lymphangitis  \\n● Systemically unwell with fever, malaise or rigors , particularly with  \\n   erysipelas  \\n● Erysipelas  is distinguished from cellulitis by a well -defined, red     \\n    raised border  \\nManagement    ● Antibiotics (e.g. flucloxacillin or benzylpenicillin)  \\n   ● Supportive care including  rest, leg elevation, sterile dressings and  \\n   analgesia  \\nComplications   ● Local necrosis, abscess  and septicaemia  \\n \\n  \\nCellulitis with elephantiasis of the penis  Erysipelas  Erysipelas  \\nEven  though this is in richly \\npigmented  skin the \\nunilateral oedema and \\nerythema is clearly present \\nsuggesting cellulitis.  \\n  Skin Infections and Infestations – Erysipelas and Cellulitis  ', start_char_idx=None, end_char_idx=None, text_template='{metadata_str}\\n\\n{content}', metadata_template='{key}: {value}', metadata_seperator='\\n'),\n",
              " Document(id_='c7eaa2de-478b-4752-ae37-467cb8df1bc7', embedding=None, metadata={'page_label': '39', 'file_name': 'Derm.pdf', 'file_path': '/content/Data/Derm.pdf', 'file_type': 'application/pdf', 'file_size': 3171832, 'creation_date': '2024-04-07', 'last_modified_date': '2024-04-07', 'last_accessed_date': '2024-04-07'}, excluded_embed_metadata_keys=['file_name', 'file_type', 'file_size', 'creation_date', 'last_modified_date', 'last_accessed_date'], excluded_llm_metadata_keys=['file_name', 'file_type', 'file_size', 'creation_date', 'last_modified_date', 'last_accessed_date'], relationships={}, text='                                                             Dermatology : Handbook for m edical students & junior d octors   \\n   British Association of Dermatologists  38 Staphylococcal scalded skin syndrome  \\n \\nDescription  ● Commonly s een in infancy and early childhood  \\nCause  ● Production of a  circulating  epider molytic  toxin  from phage group  \\n   II, benzylpenicillin -resistant  (coagulase positive)  staphylococci  \\nPresentation  ● Develops within a  few hours to a few days, and may be  worse ove r  \\n      the face,  neck, axillae or groins  \\n● A scald -like skin appearance is followed by large flaccid bulla  \\n● Perioral crusting is typical  \\n● There is intraepidermal blistering in this condition  \\n● Lesions are very painful  \\n● Sometimes the eruption is more localised  \\n● Recov ery is usually within 5 -7 days  \\nManagement  ● Antibiotics (e.g. a systemic penicill inase -resistant penicillin, \\nerythromycin  or appropriate c ephalosporin ) \\n● Analgesia  \\n  \\n \\n \\n                       Staphylococcal scalded skin syndrome  \\n  Skin Infections and Infestations – Staphylococcal scalded skin syndrome  ', start_char_idx=None, end_char_idx=None, text_template='{metadata_str}\\n\\n{content}', metadata_template='{key}: {value}', metadata_seperator='\\n'),\n",
              " Document(id_='16f33d2d-c1e4-4d28-83f1-d0bc06428993', embedding=None, metadata={'page_label': '40', 'file_name': 'Derm.pdf', 'file_path': '/content/Data/Derm.pdf', 'file_type': 'application/pdf', 'file_size': 3171832, 'creation_date': '2024-04-07', 'last_modified_date': '2024-04-07', 'last_accessed_date': '2024-04-07'}, excluded_embed_metadata_keys=['file_name', 'file_type', 'file_size', 'creation_date', 'last_modified_date', 'last_accessed_date'], excluded_llm_metadata_keys=['file_name', 'file_type', 'file_size', 'creation_date', 'last_modified_date', 'last_accessed_date'], relationships={}, text='                                                             Dermatology : Handbook for m edical students & junior d octors   \\n   British Association of Dermatologists  39 Superficial fungal infections  \\n \\nDescription  ● A common and mild infection of the superficial layers of the skin,   \\n         nails and hair,  but can be severe in immunocompromised  \\n      individuals  \\nCause  ● Three main groups: dermatophytes (tinea /ringworm ), yeasts (e.g.  \\n      candidiasis , malassezia), moulds (e.g. aspergillus)  \\nPresentation   ● Varies with  the site of infection ; usually unilateral  and itchy  \\n● Tinea corporis ( tinea infection of the trunk and limbs ) - Itchy,  \\n   circular or annular lesions with a clearly defined, raised and scaly  \\n   edge is typical  \\n● Tinea cruris (tinea infection of the groin and natal cleft) – very     \\n    itchy, similar to tinea corporis  \\n● Tinea pedis (athlete’s foot) – moist scaling and fissurin g in  \\n   toewebs, spreading to the sole and dorsal aspect of the foot  \\n● Tinea manu um (tinea infection of the hand) – scaling and dryness  \\n   in the palmar creases  \\n● Tinea capitis (scalp ringworm) – patches of broken hair, scaling  \\n   and inflammation  \\n● Tinea unguium (tinea infection of the nail) – yellow discolouration,  \\n   thickened an d crumbly nail  \\n● Tinea incognito (inappropriate treatment of tinea infection with  \\n   topical or systemic corticosteroids) – Ill-defined and less scaly  \\n   lesions  \\n● Candidiasis (candidal skin infection) – white plaques on mucosal  \\n   areas , erythema with satellite lesions in flexures  \\n● Pityriasis /Tinea  versicolor (infection with Malassezia furfur) – scaly  \\n   pale brown patches on upper trunk that fail to tan on sun  \\n   exposure, usually asymptomatic  \\n \\nManagement  ● Establish  the correct  diagnosis by skin scrapings, hair or nail     \\n   clippings (for dermatophytes); skin swabs (for yeasts)  \\n● General measures: tre at known precipitating factors (e.g.  \\n   underlying immunosuppressive condition, moist environment)  \\n  Skin Infections and Infestations – Superfical fungal infections  ', start_char_idx=None, end_char_idx=None, text_template='{metadata_str}\\n\\n{content}', metadata_template='{key}: {value}', metadata_seperator='\\n'),\n",
              " Document(id_='3731a47a-131e-4277-9cf3-5bc663fbdfa4', embedding=None, metadata={'page_label': '41', 'file_name': 'Derm.pdf', 'file_path': '/content/Data/Derm.pdf', 'file_type': 'application/pdf', 'file_size': 3171832, 'creation_date': '2024-04-07', 'last_modified_date': '2024-04-07', 'last_accessed_date': '2024-04-07'}, excluded_embed_metadata_keys=['file_name', 'file_type', 'file_size', 'creation_date', 'last_modified_date', 'last_accessed_date'], excluded_llm_metadata_keys=['file_name', 'file_type', 'file_size', 'creation_date', 'last_modified_date', 'last_accessed_date'], relationships={}, text='                                                             Dermatology : Handbook for m edical students & junior d octors   \\n   British Association of Dermatologists  40 ● Topical antifungal agents (e.g. terbinafine  cream)  \\n● Oral antifungal agents (e.g. itraconazole) for severe, widespread,  \\n   or nail infections  \\n● Avoid the use of topical steroids – can lead to tinea incognito  \\n● Correct predisposing factors where possible (e.g. moist  \\n   environment, underlying immunosuppression)  \\n \\nTinea corporis   \\nDiffuse Tinea capitis  \\n \\nTinea capitis   \\nTinea manuum (right hand)  \\n \\nTinea pedis with associated tinea unguium  \\n \\nCandidiasis (rig ht axilla)    \\nPityriasis versicolor  \\n  \\n       Skin Infections and Infestations – Superfical fungal infections  ', start_char_idx=None, end_char_idx=None, text_template='{metadata_str}\\n\\n{content}', metadata_template='{key}: {value}', metadata_seperator='\\n'),\n",
              " Document(id_='ccf47b8f-e597-4239-b445-1407b48d8520', embedding=None, metadata={'page_label': '42', 'file_name': 'Derm.pdf', 'file_path': '/content/Data/Derm.pdf', 'file_type': 'application/pdf', 'file_size': 3171832, 'creation_date': '2024-04-07', 'last_modified_date': '2024-04-07', 'last_accessed_date': '2024-04-07'}, excluded_embed_metadata_keys=['file_name', 'file_type', 'file_size', 'creation_date', 'last_modified_date', 'last_accessed_date'], excluded_llm_metadata_keys=['file_name', 'file_type', 'file_size', 'creation_date', 'last_modified_date', 'last_accessed_date'], relationships={}, text='                                                             Dermatology : Handbook for m edical students & junior d octors   \\n   British Association of Dermatologists  41  \\n \\n \\n• Skin cancer is one of the most common cancers.  \\n• In general, skin cancer can be divided into: non -melanoma (basal cell carcinoma and \\nsquamous cell carcinoma) and melanoma (malignant melanoma).  \\n• Malignant melanoma is the most life -threatening type of skin can cer and is one of \\nthe few cancers affecting the younger population.  \\n• Sun exposure is the single most preventable risk factor for skin cancer.  \\n \\n \\n \\n \\n \\n \\n \\n \\n \\n \\n \\n \\n \\n \\n \\n \\n \\n \\n \\n \\n \\n \\n \\n \\n Skin Cancer  \\nLearning outcomes:  \\n   Ability to recognise:  \\n   - basal cell carcinoma  \\n   - squamous cell carcinoma  \\n   - malignant melanoma  \\n  Skin Cancer  \\n ', start_char_idx=None, end_char_idx=None, text_template='{metadata_str}\\n\\n{content}', metadata_template='{key}: {value}', metadata_seperator='\\n'),\n",
              " Document(id_='e43dbb3f-cd3b-4c16-91a8-5c40e41b25b7', embedding=None, metadata={'page_label': '43', 'file_name': 'Derm.pdf', 'file_path': '/content/Data/Derm.pdf', 'file_type': 'application/pdf', 'file_size': 3171832, 'creation_date': '2024-04-07', 'last_modified_date': '2024-04-07', 'last_accessed_date': '2024-04-07'}, excluded_embed_metadata_keys=['file_name', 'file_type', 'file_size', 'creation_date', 'last_modified_date', 'last_accessed_date'], excluded_llm_metadata_keys=['file_name', 'file_type', 'file_size', 'creation_date', 'last_modified_date', 'last_accessed_date'], relationships={}, text='                                                             Dermatology : Handbook for m edical students & junior d octors   \\n   British Association of Dermatologists  42 Basal cell carcinoma    \\n \\nDescription  ● A slow -growing, locally invasive malignant tumour of the    \\n   epidermal keratinocytes  normally in older individuals , only rarely   \\n   metastasises  \\n● Most common malignant skin tumour  \\nCauses  ● Risk factors include UV exposure , history of frequent or severe  \\n   sunburn in childhood, skin type I (always burns, never  tans),  \\n   increasing age, male sex,  immunosuppression, previous history of  \\n   skin cancer, and genetic predisposition  \\nPresentation  ● Various  morphological types  including  nodular (most common),      \\n   superficial (plaque -like) , cystic, morpho eic (sclerosing) , keratotic   \\n   and pigmented  \\n● Nodular basal cell carcinoma  is a small, skin -coloured papule or  \\n   nodu le with surface telangiectasia,  and a pearly rolled edge ; the  \\n   lesion may have a necrotic or  ulcerated centre  (rodent ulcer)  \\n● Most common over  the head and neck  \\nManagement   ● Surgical excision  - treatment of choice as it allows histological  \\n   examination of the tumour and margins  \\n● Mohs micrographic surgery (i.e. excision of the lesion and tissue  \\n   borders are progressively excised until specimens are  \\n   microscopically free of tumour) - for high risk, recurrent tumours  \\n● Radiotherapy - when surgery is not appropriate  \\n● Other e.g.  cryother apy, cu rettage and cautery, topical  \\n   photodynamic therapy , and topical treatment (e.g. imiquimod  \\n   cream ) - for small and low -risk lesions  \\nComplications   ● Local tissue invasion and destruction  \\nPrognosis   ● Depends on tumour size, site, type, growth pattern/histological  \\n   subtype, failure of previous treatment/recurrence, and  \\n   immunosuppression  \\n \\nBasal cell carcinoma – nodular type  \\n    Skin Cancer – Basal cell carcinoma  \\n ', start_char_idx=None, end_char_idx=None, text_template='{metadata_str}\\n\\n{content}', metadata_template='{key}: {value}', metadata_seperator='\\n'),\n",
              " Document(id_='1636c3e1-ea6e-4aaf-9a95-82b4201cbe09', embedding=None, metadata={'page_label': '44', 'file_name': 'Derm.pdf', 'file_path': '/content/Data/Derm.pdf', 'file_type': 'application/pdf', 'file_size': 3171832, 'creation_date': '2024-04-07', 'last_modified_date': '2024-04-07', 'last_accessed_date': '2024-04-07'}, excluded_embed_metadata_keys=['file_name', 'file_type', 'file_size', 'creation_date', 'last_modified_date', 'last_accessed_date'], excluded_llm_metadata_keys=['file_name', 'file_type', 'file_size', 'creation_date', 'last_modified_date', 'last_accessed_date'], relationships={}, text='                                                             Dermatology : Handbook for m edical students & junior d octors   \\n   British Association of Dermatologists  43 Squamous cell carcinoma  \\n \\nDescription   ● A locally invasive malignant tumour of the epidermal  \\n   keratinocytes  or its appendages, which  has the potential to  \\n   metastasise  \\nCauses  ● Risk factors include excessive UV exposure, pre -malignant skin  \\n   conditions (e.g. actinic keratoses), chronic inflammation (e.g. leg   \\n   ulcers, wound  scars ), immunosuppression  and genetic  \\n   predisposition  \\nPresentation  ● Keratotic ( e.g. scaly,  crusty) , ill-defined nodule which may ulcerate  \\nManagement   ● Surgical excision  - treatment of choice  \\n● Mohs micrographic surgery – may be necessary for ill -defined,     \\n   large, recurrent tumours  \\n● Radiotherapy  - for large, non-resectable tumours  \\nProgno sis  ● Depends  on tumour size, site, histological pattern, depth  \\n   of invasion, perineural involvement, and immunosuppression  \\n \\n               \\n           Squamous cell carcinoma – adjacent to ear (lef t) and glans penis ( right ) \\n \\n \\n \\n \\n \\n \\n  Skin Cancer – Squamous cell carcinoma  ', start_char_idx=None, end_char_idx=None, text_template='{metadata_str}\\n\\n{content}', metadata_template='{key}: {value}', metadata_seperator='\\n'),\n",
              " Document(id_='5619e23b-224f-47bb-a8dd-41ae4a137d2c', embedding=None, metadata={'page_label': '45', 'file_name': 'Derm.pdf', 'file_path': '/content/Data/Derm.pdf', 'file_type': 'application/pdf', 'file_size': 3171832, 'creation_date': '2024-04-07', 'last_modified_date': '2024-04-07', 'last_accessed_date': '2024-04-07'}, excluded_embed_metadata_keys=['file_name', 'file_type', 'file_size', 'creation_date', 'last_modified_date', 'last_accessed_date'], excluded_llm_metadata_keys=['file_name', 'file_type', 'file_size', 'creation_date', 'last_modified_date', 'last_accessed_date'], relationships={}, text='                                                             Dermatology : Handbook for m edical students & junior d octors   \\n   British Association of Dermatologists  44 Malignant melanoma  \\n \\nDescription  ● An invasive malignant tumour of the epidermal melanocytes,    \\n   which has the potential to metastasise  \\nCauses    ● Risk factors include excessive UV exposure, skin type I (always  \\nburns, never tans), history of > 100 moles or atypical neavus \\nsyndrome moles,  family history  in first degree relative  or previous \\nhistory of melanoma  \\nPresentation  ● The ‘ABCDE Symptoms’  rule (*major suspiciou s features) :  \\n    Asymmetrical shape * \\n    Border irregularity  \\n    Colour irregularity*  \\n    Diameter > 6 mm \\n    Evolution of lesion (e.g. change in size and/or shape)*  \\n    Symptoms  (e.g. bleeding, itching ) \\n ● More  common on the  legs in women and trunk in men  \\nTypes    ● Superficial spreading melanoma – common on the lower limbs ,  \\n   in young and middle -aged adults ; related to intermittent high - \\n     intensity UV  exposure ; around 70% of all melanomas are superficial  \\nspreading melanomas  \\n● Nodular melanoma  - common on the trunk , in young and middle - \\n   aged adults ; related to intermittent high -intensity UV  exposure  \\n● Lentigo maligna  melanoma  - common on  the face , in elderly  \\n   population ; related to long-term cum ulative UV  exposure  \\n● Acral lentiginous melanoma - common on the palms, soles and nail  \\n   beds, in elderly population ; no cle ar relation with UV  exposure  \\nManagement  ● Depends on the staging of melanoma ( currently used system in \\nthe UK - 2009 American Joint Committee of Cancer Staging System \\n(AJCC)). Stages I -IV are based on primary tumour Breslow thickness, \\nlymph node involvement and evidence of metastases . Stage I is the \\nearliest and stage IV i s the most advanced ) \\n● In general, s urgical excision  is the definitive treatment (often a \\nsecond surgery, wide local excision is needed after the initial   Skin Cancer – Malignant melanoma  ', start_char_idx=None, end_char_idx=None, text_template='{metadata_str}\\n\\n{content}', metadata_template='{key}: {value}', metadata_seperator='\\n'),\n",
              " Document(id_='52f3c519-d825-476b-8b3b-f0fe7079dd7f', embedding=None, metadata={'page_label': '46', 'file_name': 'Derm.pdf', 'file_path': '/content/Data/Derm.pdf', 'file_type': 'application/pdf', 'file_size': 3171832, 'creation_date': '2024-04-07', 'last_modified_date': '2024-04-07', 'last_accessed_date': '2024-04-07'}, excluded_embed_metadata_keys=['file_name', 'file_type', 'file_size', 'creation_date', 'last_modified_date', 'last_accessed_date'], excluded_llm_metadata_keys=['file_name', 'file_type', 'file_size', 'creation_date', 'last_modified_date', 'last_accessed_date'], relationships={}, text='                                                             Dermatology : Handbook for m edical students & junior d octors   \\n   British Association of Dermatologists  45 excision biopsy) . Radiotherapy may sometimes be useful . \\nChemotherapy is used for metastatic disease . \\nPrognosis  ● Prognosis depends on the stage of melanoma and Breslow \\nthickness.  \\n● In general, 90% of people diagnosed with melanoma in England and \\nWales survived 10 years or more (Cancer Research UK, 2010 -2011).  \\n \\n       \\nSuperficial spreading melanoma             Nodular melanoma  \\n \\n                                          \\nLentigo maligna melanoma  Acral lentiginous melanoma  \\n \\n \\n \\n \\n \\n \\n \\n \\n \\nFurther reading: British Association of Dermatologists. Revised UK guidelines for the management of cutaneous \\nmelanoma 2010. https://www.bad.org.uk/library -media%5Cdocumen ts%5CMelanoma_2010.pdf  \\n  \\n  Skin Cancer – Malignant melanoma  \\nAcral lentiginous melanoma (in situ)  \\n©by Matthew Scorer,  licensed under CC BY -\\nNC-ND 4.0.  ', start_char_idx=None, end_char_idx=None, text_template='{metadata_str}\\n\\n{content}', metadata_template='{key}: {value}', metadata_seperator='\\n'),\n",
              " Document(id_='873658d0-1836-4270-b686-532e5c329114', embedding=None, metadata={'page_label': '47', 'file_name': 'Derm.pdf', 'file_path': '/content/Data/Derm.pdf', 'file_type': 'application/pdf', 'file_size': 3171832, 'creation_date': '2024-04-07', 'last_modified_date': '2024-04-07', 'last_accessed_date': '2024-04-07'}, excluded_embed_metadata_keys=['file_name', 'file_type', 'file_size', 'creation_date', 'last_modified_date', 'last_accessed_date'], excluded_llm_metadata_keys=['file_name', 'file_type', 'file_size', 'creation_date', 'last_modified_date', 'last_accessed_date'], relationships={}, text='                                                             Dermatology : Handbook for m edical students & junior d octors   \\n   British Association of Dermatologists  46  \\n \\n \\n• Eczema, acne and psoriasis are chronic inflammatory skin disorders that follow a    \\nrelapsing and remitting course. There are many types of eczema but we shall just  \\nconsider atopic eczema here.  \\n• These skin disorders are not infectious.  \\n• Management is aimed at achieving control  and not providing a cure.  \\n• Complications are mainly due to the psychological and social effects.  \\n• Patient education is important in these chronic skin conditions and should \\nconcentrate on providing info rmation about the nature of condition, aims of \\ntreatment and the available treatment options.  \\n \\n \\n \\n \\n \\n \\n \\n \\n \\n \\n \\n \\n \\n \\n \\n \\n \\n \\n \\n \\n \\n  Inflammatory Skin Conditions  \\nLearning outcomes:  \\n   Ability to describe the presentation, demonstrate assessment, formulate a    \\n   differential diagnosis, instigate investigation and discuss how to provide  \\n   continuing care of:  \\n   - atopic eczema  \\n   - acne  \\n   - psoriasis   Inflammatory Skin Conditions  ', start_char_idx=None, end_char_idx=None, text_template='{metadata_str}\\n\\n{content}', metadata_template='{key}: {value}', metadata_seperator='\\n'),\n",
              " Document(id_='f6ffb0e0-b0e4-4312-9aec-a3c01766f04d', embedding=None, metadata={'page_label': '48', 'file_name': 'Derm.pdf', 'file_path': '/content/Data/Derm.pdf', 'file_type': 'application/pdf', 'file_size': 3171832, 'creation_date': '2024-04-07', 'last_modified_date': '2024-04-07', 'last_accessed_date': '2024-04-07'}, excluded_embed_metadata_keys=['file_name', 'file_type', 'file_size', 'creation_date', 'last_modified_date', 'last_accessed_date'], excluded_llm_metadata_keys=['file_name', 'file_type', 'file_size', 'creation_date', 'last_modified_date', 'last_accessed_date'], relationships={}, text='                                                             Dermatology : Handbook for m edical students & junior d octors   \\n   British Association of Dermatologists  47 Atopic eczema  \\nDescription  ● Eczema ( or dermatitis) is a chronic skin condition common in \\nchildren but also prevalent in adults.   \\nEpidemiology  ● 20% prevalence in <12 years old in the UK  \\nCauses    ● Not fully understood, but a positive family history of atopy ( i.e.  \\n   eczema,  asthma, allergic rhinitis ) is often present  \\n● A primary genetic defect in skin barrier function (loss of function  \\n   variants of the protein  filaggrin ) appears to underlie atopic eczema  \\n● Exacerbating factors such as  infections, allergens (e.g. chemicals,  \\n   food, dust, pet  fur),  sweating, heat , occupation  and severe stress  \\nPresentation  ● Acute presentation consists of itchy papules and vesicle  often \\nweepy (exudative)  \\n● Chronic lesions : dry scaly itchy patches can be erythematous in \\npaler skin or grey/ brown in richly pigmented skin  \\n▪ More common on the face and extensor aspects of limbs  in infants, \\nand the flexor aspects  in children and adult s \\n● In richly pigmented skin eczema may  present as  \\n   brown, grey or purple  bumps (papular eczema or follicular  \\n   eczema)  \\n● Chronic scratching /rubbing  lead s to  lichenification  \\n● Across of skin types  eczema can lead to  \\n   pigmentary changes such  as hypopigmentation (reduced  \\n   pigmentation) and hyperpigmentation (increased pigmentation)  \\n● Nail may show pitting and ridging of the nails  \\nManagement    ● General measures - avoid  known exacerbating agents , frequent   \\n   emollients +/ - bandages and bath  oil/soap substitute  \\n● Topical therapies – topical steroids for active areas ; topical  \\n   immunomodulators (e.g.  tacrolimus,  pimecrolimus) for \\nmaintenance therapy as steroid -sparing agents  \\n● Oral therapies - antihistamines  for symptomatic relief , antibiotics   \\n   (e.g. flucloxacillin) for secondary bacterial infections,  and  \\n   antivirals (e.g. aciclovir) for secondary herpes infection   \\n    Inflammatory Skin Conditions – Atopic eczema  ', start_char_idx=None, end_char_idx=None, text_template='{metadata_str}\\n\\n{content}', metadata_template='{key}: {value}', metadata_seperator='\\n'),\n",
              " Document(id_='686a78a0-d289-4a50-811e-c4bf6adaff30', embedding=None, metadata={'page_label': '49', 'file_name': 'Derm.pdf', 'file_path': '/content/Data/Derm.pdf', 'file_type': 'application/pdf', 'file_size': 3171832, 'creation_date': '2024-04-07', 'last_modified_date': '2024-04-07', 'last_accessed_date': '2024-04-07'}, excluded_embed_metadata_keys=['file_name', 'file_type', 'file_size', 'creation_date', 'last_modified_date', 'last_accessed_date'], excluded_llm_metadata_keys=['file_name', 'file_type', 'file_size', 'creation_date', 'last_modified_date', 'last_accessed_date'], relationships={}, text='                                                             Dermatology : Handbook for m edical students & junior d octors   \\n   British Association of Dermatologists  48 ● Phototherapy  and immunosuppre ssants (e.g.  azathioprine, \\nciclosporin , methotrexate ) for severe non - responsive cases , biologic \\ntherapy  \\nComplications   ● Secondary bacterial infection  (crusted weepy  lesions ) \\n● Secondary viral infection - molluscum contagiosum  (pearly  \\n   papules with central umbilication), viral warts and eczema  \\n   herpeticum  (see page 3 4) \\n  \\n© Cardiff  and Vale University Health Board.  \\n \\n        \\nAtopic eczema  \\nFurther reading:  NICE . Eczema – Atopic, last updated Jan 2018 . https://cks.nice.org.uk/eczema -atopic  \\n Inflammatory Skin Conditions – Atopic eczema  ', start_char_idx=None, end_char_idx=None, text_template='{metadata_str}\\n\\n{content}', metadata_template='{key}: {value}', metadata_seperator='\\n'),\n",
              " Document(id_='fc6fa90c-1375-4442-af98-d4792bc8be8e', embedding=None, metadata={'page_label': '50', 'file_name': 'Derm.pdf', 'file_path': '/content/Data/Derm.pdf', 'file_type': 'application/pdf', 'file_size': 3171832, 'creation_date': '2024-04-07', 'last_modified_date': '2024-04-07', 'last_accessed_date': '2024-04-07'}, excluded_embed_metadata_keys=['file_name', 'file_type', 'file_size', 'creation_date', 'last_modified_date', 'last_accessed_date'], excluded_llm_metadata_keys=['file_name', 'file_type', 'file_size', 'creation_date', 'last_modified_date', 'last_accessed_date'], relationships={}, text='                                                             Dermatology : Handbook for m edical students & junior d octors   \\n   British Association of Dermatologists  49 Acne vulgaris    \\nDescription  ● An inflammatory disease of the pilosebaceous follicle  \\nEpidemiology  ● Over 80% of teenagers aged 13 - 18 years  \\nCauses  ● Hormonal (androgen)  \\n● Contributing factors include increased sebum production,  \\n   abnormal follicular keratinization, bacterial coloniz ation  \\n   (Propionibacterium acnes ) and inflammation  \\nPresentation   ● Non -inflammatory lesions (mild acne) - open and closed  \\n   comedones  (blackheads and whiteheads)  \\n● Inflammatory les ions (moderate and severe acne) - papules,  \\n   pustules, nodules, and cysts  \\n● In richly pigmented  skin: \\n1. Inflammatory lesions’ may not be so apparent, instead \\nhyperpigmented lesions (‘acne hyperpigmented  \\nmacules’) are seen.  \\nHyperpigmented lesions may also signify ongoing \\ninflammation   \\n2. Non erythematous nodules may be present and detected by \\npalpation    \\n● Commonly affects the face, chest and upper back  \\n \\n   \\nComedones (L eft  and Middle ) Papules and nodules (R ight) \\n \\nManagement    ● General measures - no specific food has been identified to cause  \\n          acne, treatme nt needs to be continued for at least 6 weeks to  \\n   produce effect  \\n● Topical therapies (for mild acne) - benzoyl peroxide  and topical  \\n   antibiotics (antimicrobial properties), and to pical retinoids  \\n Inflammatory Skin Conditions – Acne vulgaris  ', start_char_idx=None, end_char_idx=None, text_template='{metadata_str}\\n\\n{content}', metadata_template='{key}: {value}', metadata_seperator='\\n'),\n",
              " Document(id_='b4ad32a2-a4cc-4412-8ed3-c9edee3289e4', embedding=None, metadata={'page_label': '51', 'file_name': 'Derm.pdf', 'file_path': '/content/Data/Derm.pdf', 'file_type': 'application/pdf', 'file_size': 3171832, 'creation_date': '2024-04-07', 'last_modified_date': '2024-04-07', 'last_accessed_date': '2024-04-07'}, excluded_embed_metadata_keys=['file_name', 'file_type', 'file_size', 'creation_date', 'last_modified_date', 'last_accessed_date'], excluded_llm_metadata_keys=['file_name', 'file_type', 'file_size', 'creation_date', 'last_modified_date', 'last_accessed_date'], relationships={}, text='                                                             Dermatology : Handbook for m edical students & junior d octors   \\n   British Association of Dermatologists  50    (comedolytic and anti -inflammatory properties)  \\n   ● Oral therapie s (for moderate to severe acne) - oral antibiotics, and  \\n   anti-androgen s (in females)  \\n● Oral retinoids (for severe acne)  \\nComplications   ● Post -inflammatory hyperpigmentation, scarring, deformity,  \\n   psychological and social effects  \\n \\n \\nPsoriasis  \\n \\nDescription  ● A chronic inflammatory skin disease due to hyperproliferation of    \\n   keratinocytes and inflammatory cell infi ltration  \\nTypes  ● Chronic plaque psoriasis is the most common type  \\n● Other types include guttate (raindrop lesions), seborrhoeic  \\n   (naso -labial and retro -auricular), flexural  (body folds), pustular  \\n   (palma r-plantar), and erythrodermic (total body redness)  \\nEpidemiology   ● Affects about 2% of the population in the UK  \\nCauses    ● Complex interaction between genetic, immunological and  \\n   environmental factors  \\n● Precipitating factors include trauma ( which may produce a  \\n   Köebner phenomenon), infection (e.g.  tonsillitis), drugs, stress,  \\n   and alcohol  \\nPresentation   ● Well -demarcated erythematous scaly plaques  \\n● in richly pigmented skin  psoriasis can  \\n   present as dark brown, grey or purple patches or plaques  \\n   ● Lesions can sometimes be itchy, burning or painful  \\n● Common on the extensor surfaces of the body and  over  scalp  \\n   ● Auspitz sign (scratch  and gentle removal of scales cause  capillary   \\n   bleeding)  \\n● 50% have associated nail changes (e.g. pitting, onycholysis)  \\n● 5-8% suffer from associated psoriatic arthropathy  - symmetrical  \\n   polyarthritis, asymmetrical oligomonoarthritis, lone distal  \\n   interph alangeal  disease, psoriatic spondylosis, and  arthriti s \\n   mutilans (flexion deformity of distal interphalangeal  joints)        Inflammatory Skin Conditions – Psoriasis  ', start_char_idx=None, end_char_idx=None, text_template='{metadata_str}\\n\\n{content}', metadata_template='{key}: {value}', metadata_seperator='\\n'),\n",
              " Document(id_='24936c84-cf11-4312-aa6b-b60ca933033e', embedding=None, metadata={'page_label': '52', 'file_name': 'Derm.pdf', 'file_path': '/content/Data/Derm.pdf', 'file_type': 'application/pdf', 'file_size': 3171832, 'creation_date': '2024-04-07', 'last_modified_date': '2024-04-07', 'last_accessed_date': '2024-04-07'}, excluded_embed_metadata_keys=['file_name', 'file_type', 'file_size', 'creation_date', 'last_modified_date', 'last_accessed_date'], excluded_llm_metadata_keys=['file_name', 'file_type', 'file_size', 'creation_date', 'last_modified_date', 'last_accessed_date'], relationships={}, text='                                                             Dermatology : Handbook for m edical students & junior d octors   \\n   British Association of Dermatologists  51 Management   ● General measures - avoid known precipitating factor s, emollients  \\n    to reduce scales  \\n● Topical therap ies (for localised and mil d psoriasis) - vitamin D  \\n   analogues, topical corticosteroids, coal tar preparations,  \\n   dithranol, topical retinoids, keratolytics and scalp preparations  \\n● Phototherapy ( for extensive disease) - phototherapy  i.e. UVB and   \\n   photochem otherapy i.e. psoralen+ UVA  \\n● Oral therap ies (for extensive and severe psoriasis, or psoriasis  \\n   with systemic involvement) - methotrexate, retinoids ,  \\n   ciclosporin,  mycophenolate mofetil, fumaric acid esters,  \\n   and biological agents ( e.g. etanercept, adalimumab, ustekinumab )   \\n   (see page 7 1) \\nComplications   ● Erythroderma  (see page 33 ), psychological and social effects  \\n   \\nKöebner phenomenon  Plaque Psoriasis   \\n   \\nPlaque psoriasis  Nail changes and arthropathy  Scalp Psoriasis  \\n \\n \\n \\n \\n     Inflammatory Skin Conditions – Psoriasis  ', start_char_idx=None, end_char_idx=None, text_template='{metadata_str}\\n\\n{content}', metadata_template='{key}: {value}', metadata_seperator='\\n'),\n",
              " Document(id_='6b6e6884-28c8-4deb-bc3b-375a8098a094', embedding=None, metadata={'page_label': '53', 'file_name': 'Derm.pdf', 'file_path': '/content/Data/Derm.pdf', 'file_type': 'application/pdf', 'file_size': 3171832, 'creation_date': '2024-04-07', 'last_modified_date': '2024-04-07', 'last_accessed_date': '2024-04-07'}, excluded_embed_metadata_keys=['file_name', 'file_type', 'file_size', 'creation_date', 'last_modified_date', 'last_accessed_date'], excluded_llm_metadata_keys=['file_name', 'file_type', 'file_size', 'creation_date', 'last_modified_date', 'last_accessed_date'], relationships={}, text='                                                             Dermatology : Handbook for m edical students & junior d octors   \\n   British Association of Dermatologists  52  \\n \\n \\n \\n• In general, blistering skin disorders  can be divided into: immunobullous disease s \\n(e.g. bullous pemphigoid, pemphigus  vulgaris ), blistering skin infections (e.g. herpes \\nsimplex) and other  (e.g. porphyria cutanea tarda) . \\n• The fragility of blisters depends on the level of split within the skin – an intra -\\nepidermal split ( a split within the epidermis) causes blisters to rupture easil y; \\nwhereas a sub -epidermal split ( a split between the epidermis and dermis) causes \\nblisters to be less fragile.  \\n• The c ommon causes of blisters are  impetigo (see below ), insect bites, herpes simpl ex \\ninfection  (see page  34), herpes zoster infection ( see page  36), acute contact \\ndermatitis,  pompholyx ( vesicular eczema of the hands and feet , see below ) and \\nburns.  \\n• Bullous p emphigoid  (see page 53)  and pemphigus  vulgaris  (see page 54)  are \\nuncommon conditions due to immune reaction within the skin.  \\n \\n                \\nBullous imp etigo in a new tattoo              Pompholyx  \\n \\n \\n \\n \\n \\n \\n \\nBlistering Disorders  \\nLearning outcomes:  \\n1. Ability to recognise common causes of blisters  \\n   2. Ability to recognise:  \\n- Bullous pemphigoid  \\n   - Pemphigus vulgaris  \\n   Blistering Disorders   ', start_char_idx=None, end_char_idx=None, text_template='{metadata_str}\\n\\n{content}', metadata_template='{key}: {value}', metadata_seperator='\\n'),\n",
              " Document(id_='d4bee9e5-d945-47bc-ab44-2c27b4fc285f', embedding=None, metadata={'page_label': '54', 'file_name': 'Derm.pdf', 'file_path': '/content/Data/Derm.pdf', 'file_type': 'application/pdf', 'file_size': 3171832, 'creation_date': '2024-04-07', 'last_modified_date': '2024-04-07', 'last_accessed_date': '2024-04-07'}, excluded_embed_metadata_keys=['file_name', 'file_type', 'file_size', 'creation_date', 'last_modified_date', 'last_accessed_date'], excluded_llm_metadata_keys=['file_name', 'file_type', 'file_size', 'creation_date', 'last_modified_date', 'last_accessed_date'], relationships={}, text='                                                             Dermatology : Handbook for m edical students & junior d octors   \\n   British Association of Dermatologists  53  \\nBullous p emphigoid  \\n \\nDescription   ● A blistering skin disorder which usually  affects the elderly  \\nCause  ● Autoantibodies against antigens between the epidermis and     \\n     dermis  causing a sub -epidermal split in the skin  \\nPresentation   ● Tense, fluid -filled blisters on an erythematous base  \\n   ● Lesions are often itchy  \\n● May be preceded by a non -specific itchy rash  \\n● Usually affects the trunk and limbs (mucosal involvement less   \\n   common ) \\nManagement   ● General measures – wound dressings where required, monitor  \\nfor signs of infection  \\n● Topical therapies for localised disease - topical steroids   \\n● Oral therapies for wide spread disease – oral steroids, combination     \\n   of oral tetracycline and nicotinamide, immunosuppressive agents      \\n   (e.g. azathioprine , mycophenolate mofetil, methotrexate, and  \\n   other)   \\n \\n \\n \\nBullous pemphigoid   \\n \\n \\n \\n \\n  Blistering Disorders – Bullous pemphigoid  ', start_char_idx=None, end_char_idx=None, text_template='{metadata_str}\\n\\n{content}', metadata_template='{key}: {value}', metadata_seperator='\\n'),\n",
              " Document(id_='db05fbc3-fe84-48e6-8e71-cac22ed8f33c', embedding=None, metadata={'page_label': '55', 'file_name': 'Derm.pdf', 'file_path': '/content/Data/Derm.pdf', 'file_type': 'application/pdf', 'file_size': 3171832, 'creation_date': '2024-04-07', 'last_modified_date': '2024-04-07', 'last_accessed_date': '2024-04-07'}, excluded_embed_metadata_keys=['file_name', 'file_type', 'file_size', 'creation_date', 'last_modified_date', 'last_accessed_date'], excluded_llm_metadata_keys=['file_name', 'file_type', 'file_size', 'creation_date', 'last_modified_date', 'last_accessed_date'], relationships={}, text='                                                             Dermatology : Handbook for m edical students & junior d octors   \\n   British Association of Dermatologists  54  \\nPemphigus  vulgaris  \\n \\nDescription   ● A blistering skin disorder which usually  affects the middle -aged  \\nCause  ● Autoantibodies against antigens within the epidermis  causing an  \\n     intra -epidermal split in the skin  \\nPresentation   ● Flaccid, easily ruptured blisters forming erosions and crusts  \\n   ● Lesions are often painful  \\n● Usually affects the mucosal areas  (can p recede skin involvement)  \\nManagement   ● General measures – wound dressings where required, monitor for  \\n   signs of infection, good oral care (if oral mucosa is involved)  \\n● Oral therapies – high -dose oral steroids, immunosuppressive  \\n   agents (e.g. methotrexate, a zathioprine , cyclophosphamide,  \\n   mycophenolate mofetil, and other )  \\n \\n \\n \\nPemphigus vulgaris   \\n \\n \\nPemphigus vulgaris affecting the oral mucosa  \\n \\n       Blistering Disorders – Pemphigus vulgaris  ', start_char_idx=None, end_char_idx=None, text_template='{metadata_str}\\n\\n{content}', metadata_template='{key}: {value}', metadata_seperator='\\n'),\n",
              " Document(id_='23492811-b502-4235-b933-df958d68944a', embedding=None, metadata={'page_label': '56', 'file_name': 'Derm.pdf', 'file_path': '/content/Data/Derm.pdf', 'file_type': 'application/pdf', 'file_size': 3171832, 'creation_date': '2024-04-07', 'last_modified_date': '2024-04-07', 'last_accessed_date': '2024-04-07'}, excluded_embed_metadata_keys=['file_name', 'file_type', 'file_size', 'creation_date', 'last_modified_date', 'last_accessed_date'], excluded_llm_metadata_keys=['file_name', 'file_type', 'file_size', 'creation_date', 'last_modified_date', 'last_accessed_date'], relationships={}, text='                                                             Dermatology : Handbook for m edical students & junior d octors   \\n   British Association of Dermatologists  55  \\nPigmentary Disorders  \\n• Pigmentary issues are a significant problem in all patients,  how it differs in different \\nskin colour - population in the UK and it is important that medical students and \\njunior doctors appreciate the dermatoses pertinent to these groups.  \\n• In general, a pigment change can present as hypopigmentation (reduced \\npigmenta tion), depigmentation (complete loss of pigment), or hyperpigmentation \\n(increased pigmentation).  \\n• Below are some of the common pigmentary disorders which can cause significant \\nembarrassment and distress especially in the darker skin types .  \\n \\n \\nVitiligo  \\nDescription  ● An acquired depigmenting disorder, where there is complete loss \\nof pigment cells (melanocytes)  \\nCause  ● Thought to be an autoimmune disorder, where the innate \\nimmune system causes destruction or loss of melanocytes, leading \\nto loss of pigment formation in the skin  \\nPresentation  ● Presentation at any age  \\n• A single patch or multiple patches of depigmentation (complete loss \\nof pigment), often symmetrical  \\n ● Common sites are exposed areas such as face, hands, feet, as well \\nas body folds and genitalia  \\n ● Favours sites of injury and this phenomenon is called the  Koebner \\nphenomenon  \\nManagement  ● Minimise skin injury as a cut, graze, or sunburn can potentially \\ntrigger a new patch of vitiligo  \\n ● Topical treatments such as topical  steroids and calcineurin \\ninhib itors (such as topical tacrolimus and pimecrolimus)  Learning objectives:  \\n1. Ability to formulate a differential diagnosis, describe the investigation and  \\ndiscuss t he management in patients with:  \\n- vitiligo  \\n- melasma  \\n \\n    Pigmentary Disorders – Vitiligo  ', start_char_idx=None, end_char_idx=None, text_template='{metadata_str}\\n\\n{content}', metadata_template='{key}: {value}', metadata_seperator='\\n'),\n",
              " Document(id_='0b917fdf-47aa-4e5f-bcc0-55d3f352681f', embedding=None, metadata={'page_label': '57', 'file_name': 'Derm.pdf', 'file_path': '/content/Data/Derm.pdf', 'file_type': 'application/pdf', 'file_size': 3171832, 'creation_date': '2024-04-07', 'last_modified_date': '2024-04-07', 'last_accessed_date': '2024-04-07'}, excluded_embed_metadata_keys=['file_name', 'file_type', 'file_size', 'creation_date', 'last_modified_date', 'last_accessed_date'], excluded_llm_metadata_keys=['file_name', 'file_type', 'file_size', 'creation_date', 'last_modified_date', 'last_accessed_date'], relationships={}, text='                                                             Dermatology : Handbook for m edical students & junior d octors   \\n   British Association of Dermatologists  56  ● Phototherapy such as UVB therapy, excimer laser    \\n ● Oral immunosuppressants such as methotrexate, ciclosporin and \\nmycophenolate mofetil    \\n \\nMelasma  \\nDescription  ● An acquired chronic skin disorder , where there is increased \\npigmentation in the skin  \\nCause  ● Thought to be due to genetic predisposition, and triggered by \\nfactors such as sun exposure, hormonal changes such as pregnancy \\nand contraceptive pills  \\n ● The pigmentation is caused by an overproduction of pigment \\n(melanin) by pigment cells (melanocytes)  \\nPresentation   ● Brown macules ( freckle -like spots) or larger patches with an \\nirregular border  \\n ● Symmetrical distribution  \\n● Common sites are forehead, cutaneous upper lips and cheeks,  \\nrarely can occur on neck, shoulders and upper arms  \\nManagement  ● Lifelong sun protection  \\n ● Discontinua tion of hormonal contraceptive pills  \\n ● Cosmetic camouflage  \\n ● Topical treatments that aim at inhibiting the formation of new \\nmelanin such as hydroquinone, azelaic acid, kojic acid (a chelating \\nagent) and vitamin C  \\n ● Laser treatments need to be used with caution as the heat \\ngenerated by lasers can potentially cause  post -inflammatory \\nhyperpigmentation.   \\n      Pigmentary Disorders – Melasma  ', start_char_idx=None, end_char_idx=None, text_template='{metadata_str}\\n\\n{content}', metadata_template='{key}: {value}', metadata_seperator='\\n'),\n",
              " Document(id_='30e96898-9526-42f0-a59b-153979a0fdbd', embedding=None, metadata={'page_label': '58', 'file_name': 'Derm.pdf', 'file_path': '/content/Data/Derm.pdf', 'file_type': 'application/pdf', 'file_size': 3171832, 'creation_date': '2024-04-07', 'last_modified_date': '2024-04-07', 'last_accessed_date': '2024-04-07'}, excluded_embed_metadata_keys=['file_name', 'file_type', 'file_size', 'creation_date', 'last_modified_date', 'last_accessed_date'], excluded_llm_metadata_keys=['file_name', 'file_type', 'file_size', 'creation_date', 'last_modified_date', 'last_accessed_date'], relationships={}, text='                                                             Dermatology : Handbook for m edical students & junior d octors   \\n57   British Association of Dermatologists   \\n \\n \\n• There are several commonly -encountered skin problems in clinical practice. Below \\nare some of the important differential diagnoses for each of these presentations.  \\n• Clinical exposure is the key to achieve competence in diagnosing, investigating and \\nmanaging  these skin problems.  \\n \\n \\n \\n \\n \\n \\n \\n \\n \\n \\n \\n \\n \\n \\n \\n Common Important Problems  \\nLearning objectives:  \\nAbility to formulate a differential diagnosis, describe the investigation and  \\ndiscuss t he management in patients with:  \\n- chronic leg ulcers  \\n- itchy eruption  \\n- a changing pigmented lesion  \\n- purpuric eruption  \\n- a red swollen leg  \\n- keloid scars  \\n \\n Common Important Problems  ', start_char_idx=None, end_char_idx=None, text_template='{metadata_str}\\n\\n{content}', metadata_template='{key}: {value}', metadata_seperator='\\n'),\n",
              " Document(id_='21d49714-b459-4dce-834d-81049fe75246', embedding=None, metadata={'page_label': '59', 'file_name': 'Derm.pdf', 'file_path': '/content/Data/Derm.pdf', 'file_type': 'application/pdf', 'file_size': 3171832, 'creation_date': '2024-04-07', 'last_modified_date': '2024-04-07', 'last_accessed_date': '2024-04-07'}, excluded_embed_metadata_keys=['file_name', 'file_type', 'file_size', 'creation_date', 'last_modified_date', 'last_accessed_date'], excluded_llm_metadata_keys=['file_name', 'file_type', 'file_size', 'creation_date', 'last_modified_date', 'last_accessed_date'], relationships={}, text=' \\n                                                             Dermatology : Handbook for m edical students & junior d octors   \\n58   British Association of Dermatologists  Chronic leg ulcers  \\n• Leg ulcers are classified according to aetiology. In general, there are three main types: venous, arterial and neuropathic ulcers. Other causes include \\nvasculitic ulcers (purpuric, punched out lesions), infected ulcers (purulent disc harge, may have systemic signs)  and malignancy (e.g. squamous cell \\ncarcinoma in long -standing non -healing ulcers).  \\n• In clinical practice, there can be mixture of arterial, venous and/or neuropathic components in an ulcer.  \\n \\n \\n   \\nVenous ulcer  \\n© Cardiff  and Vale University Health Board.  Venous ulcer  Arterial ulcer   Neuropathic ulcer  \\n \\nCommon Important Problems –Chronic leg ulcers', start_char_idx=None, end_char_idx=None, text_template='{metadata_str}\\n\\n{content}', metadata_template='{key}: {value}', metadata_seperator='\\n'),\n",
              " Document(id_='53caa345-0d28-4cdd-8526-f2ceef9cc782', embedding=None, metadata={'page_label': '60', 'file_name': 'Derm.pdf', 'file_path': '/content/Data/Derm.pdf', 'file_type': 'application/pdf', 'file_size': 3171832, 'creation_date': '2024-04-07', 'last_modified_date': '2024-04-07', 'last_accessed_date': '2024-04-07'}, excluded_embed_metadata_keys=['file_name', 'file_type', 'file_size', 'creation_date', 'last_modified_date', 'last_accessed_date'], excluded_llm_metadata_keys=['file_name', 'file_type', 'file_size', 'creation_date', 'last_modified_date', 'last_accessed_date'], relationships={}, text=' \\n                                                             Dermatology : Handbook for m edical students & junior d octors   \\n59   British Association of Derma tologists  \\n Chronic leg ulcers   \\n \\n Venous ulcer  Arterial ulcer  Neuropathic ulcer  \\nHistory  - Often painful, worse on standing  \\n- History of venous disease e.g. varicose  \\n  veins, deep vein thrombosis  - Painful especially at night, worse when  \\n  legs are elevated  \\n- History of arterial disease e.g.  \\n  atherosclerosis  - Often painless  \\n- Abnormal sensation  \\n- History  of diabetes or neurological \\ndisease  \\nCommon sites  - Malleolar area (more common over  \\n  medial than lateral malleolus)  - Pressure and trauma sites e.g. pretibial,  \\n  supramalleolar (usually lateral), and at    \\n  distal points e.g. toes  - Pressure sites e.g. soles, heel, toes,  \\n  metatarsal heads  \\nLesion  - Large, shallow irregular ulcer  \\n- Exudative and granulating base  \\n   - Small, sharply defined deep ulcer  \\n- Necrotic base  \\n - Variable size and depth   \\n- Granulating base  \\n- May be surrounded by or underneath a   \\n  hyperkeratotic lesion (e.g. callus)  \\nAssociated \\nfeatures  - Warm skin  \\n- Normal peripheral pulses  \\n- Leg oedema, haemosiderin and melanin  \\n  deposition (brown pigment),   \\n  lipodermatosclerosis, and atrophie  \\n  blanche (white scarring with dilated  \\n  capillaries)  - Cold skin  \\n- Weak or absent peripheral pulses  \\n- Shiny pale skin  \\n- Loss of hair  - Warm skin  \\n- Normal peripheral pulses*  \\n  *cold, weak or absent pulses if it is a  \\n  neuroischaemic ulcer  \\n- Peripheral neuropathy  \\nPossible \\ninvestigations  - Normal ankle/brachial pressure index     \\n  (i.e. ABPI 0.8 -1) - ABPI  < 0.8 - presence of arterial  \\n  insufficiency  \\n- Doppler studies and angio graphy  - ABPI < 0.8 implies a neuroischaemic  \\nulcer  \\n- X-ray to exclude osteomyelitis  \\nManagement  - Compression bandaging  \\n  (after excluding arterial insufficiency)  \\n   - Vascular reconstruction  \\n- Compression bandaging is \\ncontraindicated  - Wound debridement  \\n- Regular repositioning, appropriate  \\n  footwear and good nutrition  \\n  \\nCommon Important Problems –Chronic leg ulcers', start_char_idx=None, end_char_idx=None, text_template='{metadata_str}\\n\\n{content}', metadata_template='{key}: {value}', metadata_seperator='\\n'),\n",
              " Document(id_='e80d216d-bc9a-4718-8908-a971f54b1c86', embedding=None, metadata={'page_label': '61', 'file_name': 'Derm.pdf', 'file_path': '/content/Data/Derm.pdf', 'file_type': 'application/pdf', 'file_size': 3171832, 'creation_date': '2024-04-07', 'last_modified_date': '2024-04-07', 'last_accessed_date': '2024-04-07'}, excluded_embed_metadata_keys=['file_name', 'file_type', 'file_size', 'creation_date', 'last_modified_date', 'last_accessed_date'], excluded_llm_metadata_keys=['file_name', 'file_type', 'file_size', 'creation_date', 'last_modified_date', 'last_accessed_date'], relationships={}, text=' \\n                                                             Dermatology : Handbook for m edical students & junior d octors   \\n60   British Association of Derma tologists  \\n Itchy eruption  \\n• An itchy  (pruritic)  eruption  can be caused by an inflammatory condition (e.g. eczema), infection (e.g. varicella ), infestation (e.g. scabies), allergic \\nreaction (e.g. some cases of urticaria) or an unknown cause, possibly autoimmune (e.g. lichen planus).  \\n  \\n \\nChronic fissured hand eczema     Scabies   Urticaria                  \\n \\nR © Cardiff  and Vale University Health Board.   \\n© Cardiff  and Vale University Health Board.   \\nLichen planus  Lichen planus  Wickham’s striae                                  \\nNote that lichen planus in darker skin types has a typical purplish tinge.   \\n                                                                                                  \\n                                   Dermatology : Handbook for m edical students & junior d octors   \\n \\n  \\nCommon Important Problems –Itchy eruption', start_char_idx=None, end_char_idx=None, text_template='{metadata_str}\\n\\n{content}', metadata_template='{key}: {value}', metadata_seperator='\\n'),\n",
              " Document(id_='253311cc-7c96-4d15-ba12-ff250c1dffaf', embedding=None, metadata={'page_label': '62', 'file_name': 'Derm.pdf', 'file_path': '/content/Data/Derm.pdf', 'file_type': 'application/pdf', 'file_size': 3171832, 'creation_date': '2024-04-07', 'last_modified_date': '2024-04-07', 'last_accessed_date': '2024-04-07'}, excluded_embed_metadata_keys=['file_name', 'file_type', 'file_size', 'creation_date', 'last_modified_date', 'last_accessed_date'], excluded_llm_metadata_keys=['file_name', 'file_type', 'file_size', 'creation_date', 'last_modified_date', 'last_accessed_date'], relationships={}, text=' \\n                                                             Dermatology : Handbook for m edical students & junior d octors   \\n61   British Association of Derma tologists  \\n Itchy eruption  \\n \\n Eczema  Scabies  Urticaria  Lichen planus  \\nHistory  - Personal or family history of  \\n  atopy  \\n- Exacerbating factors (e.g.    \\n  allergens, irritants)  - May have history of contact  \\n  with  symptomatic  individuals  \\n- Pruritus worse at night  - Precipitating factors (e.g. \\nfood,  \\n  contact, drugs)  - Family history in 10% of cases  \\n- May be drug -induced  \\nCommon sites  - Variable  (e.g. flexor aspects in  \\n  children and adults with \\natopic eczema)  \\nLichen nitidus pattern in darker \\nskin \\n - Sides of fingers, finger webs,  \\n  wrists, elbows, ankles, feet,  \\n  nipples and genitals  - No specific tendency  - Forearms, wrists, and legs \\n- Always examine the oral  \\n  mucosa  \\nLesion  - Dry, erythematous patches  \\n- Acute eczema is   \\nerythematous, vesicular and  \\n  exudative  - Linear burrows (may be  \\n  tortuous)  or rubbery nodules  \\n - Pink wheals  (transient)  \\n- May be round, annular, or  \\n  polycy clic - Violaceous (lilac) flat -topped   \\n  Papules  or hyperpigmented \\npapules (in darker skin)  \\n- Symmetrical distribution  \\nAssociated \\nfeatures  - Secondary bacterial or viral  \\n  infections  - Secondary eczema and   \\n  impetigo  \\n - May be associated with     \\n  angioedema or anaphylaxis  - Nail changes and hair loss  \\n- Lacy white streaks on the oral    \\n  mucosa and skin lesions   \\n  (Wickham’s striae)  \\nPossible \\ninvestigations  - Patch testing  \\n- Serum IgE levels  \\n- Skin swab  - Skin scrape, extraction of \\nmite and view under \\nmicroscope  - Bloods and urinalysis to  \\n  exclude a systemic cause  \\n - Skin biopsy  \\nManagement  - Emollients  \\n- Corticosteroids  \\n- Immunomodulators  \\n- Antihistamines  - Scabicide (e.g. permethrin  \\n  or m alathion )  \\n- Antihistamines  - Antihistamines  \\n- Corticosteroids  - Corticosteroids  \\n- Antihistamines  \\n \\n                                                                                                   \\n                                   Dermatology : Handbook for m edical students & junior d octors   \\n \\n  \\nCommon Important Problems –Itchy eruption', start_char_idx=None, end_char_idx=None, text_template='{metadata_str}\\n\\n{content}', metadata_template='{key}: {value}', metadata_seperator='\\n'),\n",
              " Document(id_='e5455844-9583-4444-83d8-831840fb5062', embedding=None, metadata={'page_label': '63', 'file_name': 'Derm.pdf', 'file_path': '/content/Data/Derm.pdf', 'file_type': 'application/pdf', 'file_size': 3171832, 'creation_date': '2024-04-07', 'last_modified_date': '2024-04-07', 'last_accessed_date': '2024-04-07'}, excluded_embed_metadata_keys=['file_name', 'file_type', 'file_size', 'creation_date', 'last_modified_date', 'last_accessed_date'], excluded_llm_metadata_keys=['file_name', 'file_type', 'file_size', 'creation_date', 'last_modified_date', 'last_accessed_date'], relationships={}, text=' \\n                                                             Dermatology : Handbook for m edical students & junior d octors   \\n62   British Association of Derma tologists  \\n A changing pigmented lesion   \\n• A changing pigmented lesion can be  benign (e.g. melanocy tic naevi, seborrhoeic wart) or m alignant (e.g. malignant melanoma ). \\n     \\n       Congenital naevus                                        Seborrhoeic keratoses                                 Malignant melanoma  \\n \\n \\n \\n \\n \\n \\n \\n \\n \\n \\n \\n                \\nCommon Important Problems –A changing pigmented lesion', start_char_idx=None, end_char_idx=None, text_template='{metadata_str}\\n\\n{content}', metadata_template='{key}: {value}', metadata_seperator='\\n'),\n",
              " Document(id_='6e5b471b-5bc9-450d-a105-8968e43fa0d9', embedding=None, metadata={'page_label': '64', 'file_name': 'Derm.pdf', 'file_path': '/content/Data/Derm.pdf', 'file_type': 'application/pdf', 'file_size': 3171832, 'creation_date': '2024-04-07', 'last_modified_date': '2024-04-07', 'last_accessed_date': '2024-04-07'}, excluded_embed_metadata_keys=['file_name', 'file_type', 'file_size', 'creation_date', 'last_modified_date', 'last_accessed_date'], excluded_llm_metadata_keys=['file_name', 'file_type', 'file_size', 'creation_date', 'last_modified_date', 'last_accessed_date'], relationships={}, text=' \\n                                                             Dermatology : Handbook for m edical students & junior d octors   \\n63   British Association of Derma tologists  \\n  \\nA changing pigmented lesion  \\n Benign  Malignant  \\n Melanocytic naevi  Seborrhoeic wart  Malignant melanoma  \\nHistory  - Not usually present at birth but develop  \\n  during infancy, childhood or adolescence  \\n- Asymptomatic  - Tend to arise in the middle -aged or elderly  \\n- Often multiple and asymptomatic  - Tend to occur in adults or the middle -aged  \\n- History of evolution of lesion  \\n- May be symptomatic ( e.g. itchy, bleeding)  \\n- Presence of risk factors  \\nCommon sites  - Variable   - Face and trunk   - More common on the legs in women and  \\ntrunk in men  \\n- Darker skin tomes acral sites  \\nLesion  - Congenital naevi may be large,  \\n  pigmented,  protuberant and hairy  \\n- Junctional naevi are small, flat and dark  \\n- Intradermal naevi are usually dome -shape  \\n  papules or nodules  \\n- Compound naevi are usually raised, warty,  \\n  hyperkeratotic, and/or hairy  - Warty greasy papules or nodules  \\n- ‘Stuck on’ appearance, with well -defined  \\n   edges  - Features of ABCD E: \\n           Asymmetrical shape  \\n           Border irregularity  \\n           Colour irregularity  \\n           Diameter > 6 mm \\n           Evolution of lesion  \\nManagement  - Only if symptomatic  \\nShave or complete excision  \\n - Only if symptomatic  \\nCurette and cautery  \\nCryotherapy  - Local Excision  \\nTreatment based on Breslow Thickness  \\n \\n                  \\nCommon Important Problems –A changing pigmented lesion', start_char_idx=None, end_char_idx=None, text_template='{metadata_str}\\n\\n{content}', metadata_template='{key}: {value}', metadata_seperator='\\n'),\n",
              " Document(id_='0851ef81-55f9-4f86-961b-b9358dee4658', embedding=None, metadata={'page_label': '65', 'file_name': 'Derm.pdf', 'file_path': '/content/Data/Derm.pdf', 'file_type': 'application/pdf', 'file_size': 3171832, 'creation_date': '2024-04-07', 'last_modified_date': '2024-04-07', 'last_accessed_date': '2024-04-07'}, excluded_embed_metadata_keys=['file_name', 'file_type', 'file_size', 'creation_date', 'last_modified_date', 'last_accessed_date'], excluded_llm_metadata_keys=['file_name', 'file_type', 'file_size', 'creation_date', 'last_modified_date', 'last_accessed_date'], relationships={}, text=' \\n                                                             Dermatology : Handbook for m edical students & junior d octors   \\n64   British Association of Derma tologists  \\n   Purpuric eruption   \\n• A purpuric eruption can be thrombocytopenic (e.g. meningococcal septicaemia, disseminated intravascular coagulation, idiopathic \\nthrombocytopenic purpura) or non -thrombocytopenic e.g. trauma, drugs (e.g. steroids), aged skin, vasculitis (e.g. Henoch -Schönlein \\npurpura).  \\n     \\n        \\n  Henoch -Schönlein purpura         Actinic purpura  \\n \\n \\n \\n                              \\nCommon Important Problems –Purpuric eruption', start_char_idx=None, end_char_idx=None, text_template='{metadata_str}\\n\\n{content}', metadata_template='{key}: {value}', metadata_seperator='\\n'),\n",
              " Document(id_='d8b36e41-bb4b-4b6c-8f14-e2a56feb335f', embedding=None, metadata={'page_label': '66', 'file_name': 'Derm.pdf', 'file_path': '/content/Data/Derm.pdf', 'file_type': 'application/pdf', 'file_size': 3171832, 'creation_date': '2024-04-07', 'last_modified_date': '2024-04-07', 'last_accessed_date': '2024-04-07'}, excluded_embed_metadata_keys=['file_name', 'file_type', 'file_size', 'creation_date', 'last_modified_date', 'last_accessed_date'], excluded_llm_metadata_keys=['file_name', 'file_type', 'file_size', 'creation_date', 'last_modified_date', 'last_accessed_date'], relationships={}, text=' \\n                                                             Dermatology : Handbook for m edical students & junior d octors   \\n65   British Association of Derma tologists  \\n  \\nPurpuric eruption  \\n \\n Meningococcal septicaemia  Disseminated intravascular \\ncoagulation  Vasculitis  Actinic purpura  \\nHistory  - Acute onset  \\n- Symptoms of meningitis and  \\n  septicaemia  - History of trauma, \\nmalignancy,  \\n  sepsis, obstetric \\ncomplications,  \\n  transfusions, or liver failure  - Painful lesions  \\n - Arise in the elderly population  \\n  with sun -damaged skin  \\n \\nCommon sites  - Extremities  - Spontaneous bleeding from  \\n  ear, nose and  throat,  \\n  gastrointestinal tract,  \\n  respiratory tract or wound \\nsite - Dependent areas (e.g. legs,  \\n  buttocks, flanks)  \\n - Extensor surfaces of hands  \\n  and forearms  \\n- Such skin is easily traumatised  \\n \\nLesion  - Petechiae, ecchymoses,    \\n  haemorrhagic bullae and/or  \\n  tissue necrosis  - Petechiae, ecchymoses,  \\n  haemorragic bullae and/or  \\n  tissue necrosis  - Palpable purpura (often  \\n  painful)  \\n - Non -palpable purpura  \\n- Surrounding skin is at rophic   \\n  and thin  \\nAssociated \\nfeatures  - Systemically unwell  - Systemically unwell  \\n   - Systemically unwell  - Systemically well  \\nPossible \\ninvestigations  - Bloods  \\n- Lumbar puncture  - Bloods (a clotting screen is  \\n  important)  \\n  - Bloods and urinalysis  \\n- Skin biopsy  - No investigation is needed  \\n \\nManagement  - Antibiotics  - Treat the underlying cause  \\n- Transfuse for coagulation  \\n  deficiencies  \\n- Anticoagulants for thrombosis  - Treat the underlying cause  \\n- Steroids and  \\n  immunosuppressants if there    \\n  is systemic involvement  - No treatment is needed  \\n \\n                                             Dermatology : Handbook for m edical students & junior d octors                                                                                                  \\n                                   Dermatology : Handbook for m edical stud  Dermatology : Handbook for m edical students & junior d octors  ent s & junior d octors   \\n \\nCommon Important Problems –A red swollen leg                               \\nCommon Important Problems –Purpuric eruption', start_char_idx=None, end_char_idx=None, text_template='{metadata_str}\\n\\n{content}', metadata_template='{key}: {value}', metadata_seperator='\\n'),\n",
              " Document(id_='c12a859c-e92f-4ab5-8b5d-8d13a92affec', embedding=None, metadata={'page_label': '67', 'file_name': 'Derm.pdf', 'file_path': '/content/Data/Derm.pdf', 'file_type': 'application/pdf', 'file_size': 3171832, 'creation_date': '2024-04-07', 'last_modified_date': '2024-04-07', 'last_accessed_date': '2024-04-07'}, excluded_embed_metadata_keys=['file_name', 'file_type', 'file_size', 'creation_date', 'last_modified_date', 'last_accessed_date'], excluded_llm_metadata_keys=['file_name', 'file_type', 'file_size', 'creation_date', 'last_modified_date', 'last_accessed_date'], relationships={}, text=' \\n                                                             Dermatology : Handbook for m edical students & junior d octors   \\n66   British Association of Derma tologists  \\n  \\nA red swollen leg  \\n \\n• The main differential diagnoses for a red swollen leg are cellulitis, erysipelas, venous thrombosis and chronic venous insufficie ncy. \\n \\n Cellulitis/Erysipelas  Venous thrombosis  Chronic venous insufficiency  \\nHistory  - Painful spreading rash  \\n- History of abrasion or ulcer  - Pain with swelling and redness  \\n- History of prolonged bed rest, long haul     \\n  flights or clotting tendency  - Heaviness or aching of leg, which is  \\n  worse on standing and relieved by  \\n  walking  \\n- History of  venous thrombosis  \\nExamination  - Erysipelas (well -defined edge)  \\n- Cellulitis (diffuse edge)  - Complete venous occlusion may lead to    \\n  cyanotic discolouration  - Discoloured (blue -purple)  \\n- Oedema (improved in the morning)  \\n- Venous congestion and varicose veins  \\nAssociated \\nfeatures  - Systemically unwell with fever and \\nmalaise  \\n- May have lymphangitis  - Usually system ically well  \\n- May present with pulmonary embolism  - Lipodermatosclerosis (erythematous  \\n  induration, creating ‘champagne  \\n  bottle’ a ppearance)  \\n- Stasis dermatitis (eczema with    \\n  inflammatory papules, scaly and  \\n  crusted erosions)  \\n- Haemosiderin deposition  \\n- Venous ulcer  \\nPossible \\ninvestigations  - Anti-streptococcal O titre (ASOT)  \\n- Skin swab  - D-dimer  \\n- Doppler ultrasound and/or venography  - Doppler ultrasound and/or venography  \\nManagement  - Antibiotics  - Anticoagulants  - Leg elevation and compression  \\n  stockings  \\n- Sclerotherapy or surgery for varicose  \\n  veins                                                Dermatology : Handbook for m edical students & junior d octors                                                                                                  \\n                                   Dermatology : Handbook for m edical stud  Dermatology : Handbook for m edical students & junior d octors  ent s & junior d octors   \\n \\nCommon Important Problems –A red swollen leg\\n                       \\nCommon Important Problems –A red swollen leg', start_char_idx=None, end_char_idx=None, text_template='{metadata_str}\\n\\n{content}', metadata_template='{key}: {value}', metadata_seperator='\\n'),\n",
              " Document(id_='cf2e6644-9f73-49b7-bc5d-700cf1259eb2', embedding=None, metadata={'page_label': '68', 'file_name': 'Derm.pdf', 'file_path': '/content/Data/Derm.pdf', 'file_type': 'application/pdf', 'file_size': 3171832, 'creation_date': '2024-04-07', 'last_modified_date': '2024-04-07', 'last_accessed_date': '2024-04-07'}, excluded_embed_metadata_keys=['file_name', 'file_type', 'file_size', 'creation_date', 'last_modified_date', 'last_accessed_date'], excluded_llm_metadata_keys=['file_name', 'file_type', 'file_size', 'creation_date', 'last_modified_date', 'last_accessed_date'], relationships={}, text=' \\n                                                             Dermatology : Handbook for m edical students & junior d octors   \\n67   British Association of Derma tologists  \\n  \\nKeloid Scars  \\nDescription  ● An overgrowth of scar tissue, which tends to be larger than the original wound itself  \\nCause  ● Thought to be due to overproduction of collagen during wound healing after minor injuries, skin surgery, insect bites and acne \\nspots in genetically predisposed individuals  \\n ● More commonly seen in darker skin types  \\nPresentation   ● Firm, smooth, hard nodule which can be itchy or painful  \\n● Common sites are chest and shoulders  \\nManagement  ● Avoidance of further trauma to the skin such as scratching  \\n ● Topical treatments such as topical steroids and silicone gel can potentially flatten the scar, and improve the symptoms  \\n ● Intralesional stero id injection if topical treatments are not effective  \\n ● Surgery such as excision needs to be carried out only as the last resort and with caution as the new wound may cause a larger  \\nkeloid scar  \\n         Common Important Problems – Keloid Scars  ', start_char_idx=None, end_char_idx=None, text_template='{metadata_str}\\n\\n{content}', metadata_template='{key}: {value}', metadata_seperator='\\n'),\n",
              " Document(id_='1d3d9cc6-0d5e-4682-b7ae-55ff25dcf6ed', embedding=None, metadata={'page_label': '69', 'file_name': 'Derm.pdf', 'file_path': '/content/Data/Derm.pdf', 'file_type': 'application/pdf', 'file_size': 3171832, 'creation_date': '2024-04-07', 'last_modified_date': '2024-04-07', 'last_accessed_date': '2024-04-07'}, excluded_embed_metadata_keys=['file_name', 'file_type', 'file_size', 'creation_date', 'last_modified_date', 'last_accessed_date'], excluded_llm_metadata_keys=['file_name', 'file_type', 'file_size', 'creation_date', 'last_modified_date', 'last_accessed_date'], relationships={}, text='                                                             Dermatology : Handbook for m edical students & junior d octors   \\n68   British Association of Dermatologists   \\nManagement and therapeutics  \\n \\n• Treatment modalities for skin disease can be broadly categorised into medical \\ntherapy (topical and systemic treatments) and phys ical therapy (e.g. cryotherapy, \\nphototherapy, photodynamic therapy, lasers and surgery).  \\n• Topical treatments directly deliver treatment to the affected areas and this reduces \\nsystemic side effects. It is suitable for localised and less severe skin condition s. They \\nconsist of active constituents which are transported into the skin by a base (also \\nknown as a ‘vehicle’). Examples of active ingredients are steroids, tar, \\nimmunomodulators, retinoid s, and antibiotics. The common forms of base are lotion \\n(liquid), cream (oil in water), gel (organic polymers in liquid, transparent), ointmen t \\n(oil with little or no water)  and paste (powder in ointment).  \\n• Systemic therapy is used for extensive and more serious skin conditions, if the \\ntreatment is ineffective topically o r if there is systemic involvement. However, they \\nhave the disadvantage of causing systemic side effects.  \\n \\n \\n \\n \\n \\n \\n \\n \\n \\n \\n \\n \\n \\n \\n \\n \\n Management  \\nLearning objectives:  \\nAbility to describe the principles of use of the following drugs:  \\n- emollients  \\n- topical/oral corticosteroids  \\n- oral aciclovir  \\n- oral antihistamines  \\n- topical/oral antibiotics  \\n- topical antiseptics  \\n- biological therapy  \\n- Oral retinoids      Management  ', start_char_idx=None, end_char_idx=None, text_template='{metadata_str}\\n\\n{content}', metadata_template='{key}: {value}', metadata_seperator='\\n'),\n",
              " Document(id_='bcc56a96-1266-4445-beeb-4fa6396669d2', embedding=None, metadata={'page_label': '70', 'file_name': 'Derm.pdf', 'file_path': '/content/Data/Derm.pdf', 'file_type': 'application/pdf', 'file_size': 3171832, 'creation_date': '2024-04-07', 'last_modified_date': '2024-04-07', 'last_accessed_date': '2024-04-07'}, excluded_embed_metadata_keys=['file_name', 'file_type', 'file_size', 'creation_date', 'last_modified_date', 'last_accessed_date'], excluded_llm_metadata_keys=['file_name', 'file_type', 'file_size', 'creation_date', 'last_modified_date', 'last_accessed_date'], relationships={}, text='                                                             Dermatology : Handbook for m edical students & junior d octors   \\n69   British Association of Dermatologists   \\nEmollients   \\nExamples  ● Aqueous cream, emulsifying ointment, liquid pa raffin and white soft  \\n   paraffin in equal parts (50:50)  \\nQuantity  ● 500 gram s per tub  \\nIndications   ● To rehydrate skin and re -establish the surface lipid layer  \\n● Useful for dry, scaling conditions  and as soap substitutes  \\nSide effects   ● Reactions may be irritant or allergic  (e.g. due to preservatives or perfumes  \\n   in creams)  \\n \\nTopical/Oral corticosteroi ds \\nExamples  ● Topical steroids: classified as mildly potent  (e.g, hydrocortisone),  \\n   moderately potent (e.g. clobetasone butyrate (Eumovate )), potent  \\n   (e.g.betamethasone valerate (Betnovate )), and very potent (e.g. clobetasol  \\n   propionate (Dermovate )) \\n ● Oral steroids: prednisolone   \\nQuantity  ● Usually 30 grams  per tube  (enough to cover the whole body once)  \\nIndications  ● Anti-inflammatory and anti -proliferative effects  \\n● Useful for allergic and immune reactions, inflammatory skin conditions,  \\n   blistering disorders, connective tissue diseases, and vasculitis  \\nSide effects   ● Local side effects (from topical corticosteroids ): skin atrophy (thinning ),  \\n   telangiecta sia, st riae, may mask , cause or exacerbate skin infections,  \\n   acne, or perioral dermatitis, and allergic contact dermatitis .  \\n● Systemic side effects (from oral corticosteroids): Cushing’s syndrome,  \\n   immunosuppression, hypertensi on, diabetes, osteoporosis, cataract , and  \\n   steroid -induced  psychosis  \\n \\nOral aciclovir  \\nExamples  ● Aciclovir  \\nIndications  ● Viral infections due to herp es simplex and herpes zoster virus  \\nSide effects  ● Gastrointestinal upsets, raised liver enzymes, reversible neurological  \\n    reactions, and haematological disorders  \\n \\n Management – Emollients, Topical/Oral corticosteroids, Oral acyclovir, Oral antihistamines  ', start_char_idx=None, end_char_idx=None, text_template='{metadata_str}\\n\\n{content}', metadata_template='{key}: {value}', metadata_seperator='\\n'),\n",
              " Document(id_='8b7709d6-bfc0-4353-a231-278b22f73f55', embedding=None, metadata={'page_label': '71', 'file_name': 'Derm.pdf', 'file_path': '/content/Data/Derm.pdf', 'file_type': 'application/pdf', 'file_size': 3171832, 'creation_date': '2024-04-07', 'last_modified_date': '2024-04-07', 'last_accessed_date': '2024-04-07'}, excluded_embed_metadata_keys=['file_name', 'file_type', 'file_size', 'creation_date', 'last_modified_date', 'last_accessed_date'], excluded_llm_metadata_keys=['file_name', 'file_type', 'file_size', 'creation_date', 'last_modified_date', 'last_accessed_date'], relationships={}, text='                                                             Dermatology : Handbook for m edical students & junior d octors   \\n70   British Association of Dermatologists  Oral antihistamines  \\nExamples  ● Classified into nonsedative (e.g. cetirizine, loratadine) and sedative  \\n    antihistamines (e.g. chlorphen iramine, hydroxyzine)  \\nIndications  ● Block histamine receptors producing an anti -pruritic effect  \\n● Useful for  type -1 hypersensitivity reactions and ec zema (especially  \\n    sedative antihistamines for children)  \\nSide effects  ● Sedative antihistamines can cause sedation and anticholinergic effects  \\n    (e.g. dry mouth, blurred vision, urinary retention, and constipation)  \\n \\nTopical/Oral antibiotics  \\nExamples  ● Topical antibiotics: fusidic acid, mupirocin ( Bactroban ), neomycin  \\n● Oral antibiotics: penicillins, cephalosporins, gentamicin, macrolides,  \\n    nitrofurantoin, quinolones, tetracyclines, vancomycin, metronidazole,  \\n    trimethoprim  \\nIndications  ● Useful for bacterial skin infections, and some are used for acne  \\nSide effects  ● Local side effects (from topical antibiotics): local skin irritation/allergy  \\n ● Systemic side effects (from oral antibiotics): gastrointestinal upset, rashes,  \\n    anaphylaxis, vaginal candidiasis, antibiotic -associated infection such as  \\n    Clostridium difficile, and antibiotic resistance (rapidly appears to fusidic  \\n    acid)  \\n \\nTopical antiseptics  \\nExamples  ● Chlorhexidine, cetrimide, povidone -iodine  \\nIndications  ● Treatment and prevention of skin infection  \\nSide effects  ● Local sid e effects: local skin irritation/allergy   \\n \\nOral retinoids  \\nExamples  ● Isotretinoin, Acitretin  \\nIndications  ● Acne, psoriasis, and disorders of keratinisation  \\nSide effects  ● Mucocutaneous reactions such as dry skin, dry lips and dry eyes,  \\n    disordered liver function, hypercholesterolaemia, hypertriglyceridaemia,  \\n    myalgia, arthralgia and depression  \\n● Teratogenicity: effective contraception must be practised one month   Management – Oral antihistamines, Topical/Oral antibiotics, Topical antiseptics, Oral retinoids  ', start_char_idx=None, end_char_idx=None, text_template='{metadata_str}\\n\\n{content}', metadata_template='{key}: {value}', metadata_seperator='\\n'),\n",
              " Document(id_='6f896616-9159-4acf-87ef-93e9ed85070f', embedding=None, metadata={'page_label': '72', 'file_name': 'Derm.pdf', 'file_path': '/content/Data/Derm.pdf', 'file_type': 'application/pdf', 'file_size': 3171832, 'creation_date': '2024-04-07', 'last_modified_date': '2024-04-07', 'last_accessed_date': '2024-04-07'}, excluded_embed_metadata_keys=['file_name', 'file_type', 'file_size', 'creation_date', 'last_modified_date', 'last_accessed_date'], excluded_llm_metadata_keys=['file_name', 'file_type', 'file_size', 'creation_date', 'last_modified_date', 'last_accessed_date'], relationships={}, text='                                                             Dermatology : Handbook for m edical students & junior d octors   \\n71   British Association of Dermatologists      before, during and at least one month after isotretinoin, but  for two years  \\n    after Acitretin (consult current BNF for further details)  \\nBiological Therapy  Management  \\nExamples   Monoclonal antibodies (eg. Infliximab, Adalimumab, Ustekinumab, \\nCertolizumab, Gorlilumab), Fusion antibody proteins (eg. Etanercept), \\nRecombinant human cytokines and growth factors (eg. Interleukins ) \\n \\nIndications  ● Mainly for psoriasis, atopic dermatitis and hidradenitis suppurativa  \\nSide effects  ● Local side effects: redness, swelling, bruising at the  site of injection  \\n● Systemic side effects: allergic reactions, antibody formation, flu -like \\nsymptoms, infections, hepatitis, demyelinating disease, heart failure, blood \\nproblems, rare reports of cancers (eg. non -melanoma skin cancers, \\nlymphoma)  \\n  \\n Management – Biological Therapy  ', start_char_idx=None, end_char_idx=None, text_template='{metadata_str}\\n\\n{content}', metadata_template='{key}: {value}', metadata_seperator='\\n'),\n",
              " Document(id_='b552be9e-162d-4ca0-a53c-0aee255753d6', embedding=None, metadata={'page_label': '73', 'file_name': 'Derm.pdf', 'file_path': '/content/Data/Derm.pdf', 'file_type': 'application/pdf', 'file_size': 3171832, 'creation_date': '2024-04-07', 'last_modified_date': '2024-04-07', 'last_accessed_date': '2024-04-07'}, excluded_embed_metadata_keys=['file_name', 'file_type', 'file_size', 'creation_date', 'last_modified_date', 'last_accessed_date'], excluded_llm_metadata_keys=['file_name', 'file_type', 'file_size', 'creation_date', 'last_modified_date', 'last_accessed_date'], relationships={}, text='                                                             Dermatology : Handbook for m edical students & junior d octors   \\n72   British Association of Dermatologists   \\n \\n \\n• There are four main aspects to focus on in clinical practice:  \\ni) Patient education , particularly on the nature of disease, treatment and  \\nways  to achieve full compliance and effectiveness, and prevention strategies  \\nii) Effective written communication to general practitioner so that patient  care \\ncan be continued appropriately  \\niii) Good prescribing skills  \\niv) Good clinical examination and appropriate investig ations  to facilitate \\naccurate diagnosis  \\n \\n \\n \\n \\n \\n \\n \\n \\n \\n \\n \\n \\n \\n \\n \\n \\n \\n  Practical Skills \\nLearning objectives:  \\n \\n1. Ability to perform the following tasks:  \\n- explain how to use an emollient or a topical corticosteroid  \\n- make a referral  \\n- write a discharge letter  \\n- write a prescription for emollient  \\n- take a skin swab  \\n- take a skin scrape  \\n \\n2. Describe the principles of prevention in:  \\n- pressure sores  \\n- sun damage and skin cancer       Practical Skills  ', start_char_idx=None, end_char_idx=None, text_template='{metadata_str}\\n\\n{content}', metadata_template='{key}: {value}', metadata_seperator='\\n'),\n",
              " Document(id_='5507d7ea-1385-4c35-a1bd-6b185c30c1d7', embedding=None, metadata={'page_label': '74', 'file_name': 'Derm.pdf', 'file_path': '/content/Data/Derm.pdf', 'file_type': 'application/pdf', 'file_size': 3171832, 'creation_date': '2024-04-07', 'last_modified_date': '2024-04-07', 'last_accessed_date': '2024-04-07'}, excluded_embed_metadata_keys=['file_name', 'file_type', 'file_size', 'creation_date', 'last_modified_date', 'last_accessed_date'], excluded_llm_metadata_keys=['file_name', 'file_type', 'file_size', 'creation_date', 'last_modified_date', 'last_accessed_date'], relationships={}, text='                                                             Dermatology : Handbook for m edical students & junior d octors   \\n73   British Association of Dermatologists  Patient education  \\n \\nHow to use emollients    \\n  ● Apply liberally  and regularly  \\n \\nHow to use topical corticosteroids  \\n● Apply thinly and only for short -term use ( often  1 or 2 weeks only )  \\n● In general,  use 1% hydrocortisone or mild -moderate potent topical \\nsteroids on the face  and thin skin areas eg. neck and flexures.  \\n  ● Fingertip unit (advised on packaging)  – strip of cream the length of a   \\n   fingertip  \\n \\nPreventing pressure sores  \\n● Pressure sores are due to ischaemia resulting from localised damage to  \\n   the skin caused by sustained pressure, friction and moisture , particularly  \\n   over  bony prominences.  \\n● Prevent ative measures  involve frequent repositioning, nutritional support,  \\n   and use of pressure relieving device s e.g. special beds   \\n \\nPreventing sun damage and skin cancer  \\n● Excessive exposure to UV radiation is the most significant  \\n   and preventable risk factor for the development of skin cancer (Table 14)  \\n● Skin type s I and II are at higher risk of developing skin cancer with  \\n   excessive sun exposure than other skin type s (Table 15)  \\n \\nTable 14. SMART ways to avoid excessive sun exposure  \\nSpend time in the shade between 11am -3pm  \\nMake sure you never burn  \\nAim to cover up with a t -shirt, wide -brimmed hat and sunglasses  \\nRemember to take extra care with children  \\nThen u se Sun Protection Factor (SPF) 3 0+ sunscreen  \\n \\n \\n    Practical Skills – Patient education  ', start_char_idx=None, end_char_idx=None, text_template='{metadata_str}\\n\\n{content}', metadata_template='{key}: {value}', metadata_seperator='\\n'),\n",
              " Document(id_='2eaa2112-f704-4937-a2bd-8b102ba3f864', embedding=None, metadata={'page_label': '75', 'file_name': 'Derm.pdf', 'file_path': '/content/Data/Derm.pdf', 'file_type': 'application/pdf', 'file_size': 3171832, 'creation_date': '2024-04-07', 'last_modified_date': '2024-04-07', 'last_accessed_date': '2024-04-07'}, excluded_embed_metadata_keys=['file_name', 'file_type', 'file_size', 'creation_date', 'last_modified_date', 'last_accessed_date'], excluded_llm_metadata_keys=['file_name', 'file_type', 'file_size', 'creation_date', 'last_modified_date', 'last_accessed_date'], relationships={}, text='                                                             Dermatology : Handbook for m edical students & junior d octors   \\n74   British Association of Dermatologists  Table 15. Fitzpatrick Skin  photo type   \\nSkin types  Description      \\nI  Always burns, never tans    \\nII  Always burns, sometimes tans   \\nIII  Sometimes burns, always tans     \\nIV  Never burns, always tans    \\nV  Tans very easily, very rarely burns  \\nVI  tans very easily, never burns  \\n \\nWritten communication  \\n \\nWriting a referral letter  \\n Important points to include:  \\n  ● Reason(s) for referral,  current presentation , and impact of disease  \\n● Patient’s medical and social background  \\n● Current and previous treatment,  length of treatment , and response to  \\n   treatment  \\n \\nWriting a discharge letter  \\n Important points to include:  \\n  ● Reason(s) for admission and current presentation  \\n● Hospital course  \\n● Investigation  results   \\n● Diagnostic impression  \\n● Management  plan (including treatment and follow -up appointment)  \\n● Content of patient education given  \\n \\nPrescribing skills  \\nWriting a prescription  \\nGeneral tips:  \\n  ● Include drug name, dose, frequency and an intended duration /review date  \\n  ● 30 grams of cream/ointm ent covers the whole adult body area  \\n  ● 1 fingertip unit  covers the area of two palms and equals ½ g ram  Practical Skills – Written communication and prescribing skills  ', start_char_idx=None, end_char_idx=None, text_template='{metadata_str}\\n\\n{content}', metadata_template='{key}: {value}', metadata_seperator='\\n'),\n",
              " Document(id_='4d6cb046-e844-437f-9322-8eb7cdbf3401', embedding=None, metadata={'page_label': '76', 'file_name': 'Derm.pdf', 'file_path': '/content/Data/Derm.pdf', 'file_type': 'application/pdf', 'file_size': 3171832, 'creation_date': '2024-04-07', 'last_modified_date': '2024-04-07', 'last_accessed_date': '2024-04-07'}, excluded_embed_metadata_keys=['file_name', 'file_type', 'file_size', 'creation_date', 'last_modified_date', 'last_accessed_date'], excluded_llm_metadata_keys=['file_name', 'file_type', 'file_size', 'creation_date', 'last_modified_date', 'last_accessed_date'], relationships={}, text='                                                             Dermatology : Handbook for m edical students & junior d octors   \\n75   British Association of Dermatologists  Prescribing emollients  \\nGeneral tips  \\n● Emollients come in 500  gram tubs   \\n● In general, ointment -based emollients are useful for dry, scaling skin  \\n   whereas creams and lotions are for red, inflamed  and weeping lesions  \\n \\nPrescribing topical corticosteroids  \\n General tips  \\n  ● Prescribe the weakest potency corticosteroid that is effective  \\n  ● Use only for short term  \\n  ● Need to specify  the base i.e. cream, lotion or ointment  \\n \\nClinical examination and  investigations  \\n \\nTaking a skin swab  \\n• Skin swabs can be taken fr om vesicles, pustules, erosions, ulcers and mucosal \\nsurfaces for microbial culture.  \\n• Surface swa bs are generally not encouraged.  \\n \\nTaking a skin scrape  \\n• Skin scrapes are taken from scaly lesions  by gentle use of a scalpel in suspected \\nfungal infection (to sho w evidence of fungal hyphae and/or spores) and from \\nburrows in scabies  (see page  60). \\n \\nMeasuring ankle -brachial pressure index (ABPI)  \\n• ABPI is used to identify the presence and severity of peripheral arterial insufficiency, \\nwhich is important in the management of leg ulcers.  \\n• Measure the cuff pressure of dorsalis pedis  or posterior tibial artery  using a Doppler \\nand compare it to the pressure of brachial artery.   \\n• The ABPI is measured by calculating the ratio of highest pressure obtained from the \\nankle to highest brachial pressure of the two arms and  is normally >0.8.  \\n• Inappropriately high reading will be obtained in calcified vessels (often in diabetics).  \\n  \\n Practical Skills – Clinical examination and investigations  ', start_char_idx=None, end_char_idx=None, text_template='{metadata_str}\\n\\n{content}', metadata_template='{key}: {value}', metadata_seperator='\\n'),\n",
              " Document(id_='8a68bb1f-894f-4698-bba4-cfdba7152d64', embedding=None, metadata={'page_label': '77', 'file_name': 'Derm.pdf', 'file_path': '/content/Data/Derm.pdf', 'file_type': 'application/pdf', 'file_size': 3171832, 'creation_date': '2024-04-07', 'last_modified_date': '2024-04-07', 'last_accessed_date': '2024-04-07'}, excluded_embed_metadata_keys=['file_name', 'file_type', 'file_size', 'creation_date', 'last_modified_date', 'last_accessed_date'], excluded_llm_metadata_keys=['file_name', 'file_type', 'file_size', 'creation_date', 'last_modified_date', 'last_accessed_date'], relationships={}, text='                                                             Dermatology : Handbook for m edical students & junior d octors   \\n76   British Association of Dermatologists   \\n \\n1. Verbov  J Dermatological disorders. In: Lissauer T, Carroll W eds.  Illustrated Textbook \\nof Paediatrics. 5th Edition: 2018:   Chap 25:  442-52. Elsevier.  \\n2. British Association of Dermatologists guidelines and patient information leaflets.  \\n \\n \\nWe wish to acknowledge the following contributors:  \\n \\n•  Dr Tanya Bleiker, President (2020 -2022) and Prof Mini Singh, Undergraduate \\nworkstream Chair of the British Association of Dermatologists, for writing the \\nForeword to the 3rd edition.  \\n• Mark Goodfield,  former President  (2008 -2010)  of the British Association o f \\nDermatologists, for writing the Foreword  to the 1st edition.  \\n•  Dr Niels K. Veien for allowing us to use his photographs.  All illustrations in this \\nhandbook were obtained from \"D@nderm\" with his permission.  \\n•  Dr Susan Burge  OBE, retired Consultant Dermatologist, Oxford Radcliffe Hospitals \\nNHS Trust, Professor Peter Friedmann, Emeritus Professor of Dermatology, \\nSouthampton General Hospital, and Professor Lesley Rhodes, Professor of \\nExperimental Dermatology , University of Manchester  for reviewing and contributing \\nvaluable suggestions.  \\n•  Mr Kian Tjon Tan, Consultant Plastic Surgeon, Calderdale and Huddersfield NHS \\nFoundation Trust for contributing the chapter Background Knowledge.  \\n•  Dr Yi Ning Chiang, Specialist Trainee in Dermatology,  Salford Royal NHS Foundation \\nTrust for contributing the chapter Common Important Problems.  \\n• Dr Matthew Scorer , Locum Consultant Dermatologist , University Hospitals of \\nLeicester  for allowing us to use his photographs in this handbook . All illustrations \\nused are with his permission.  \\n• The Cardiff  and Vale University Health Board  for allowing us to use their photographs \\nin this handbook . All illustrations used are with their permission . \\n• Derm Net NZ  for allowing us to use their photographs in this handbook. All \\nillustrations used are with their permission . Acknowledgements  General References  ', start_char_idx=None, end_char_idx=None, text_template='{metadata_str}\\n\\n{content}', metadata_template='{key}: {value}', metadata_seperator='\\n'),\n",
              " Document(id_='1fcf8987-4d63-4b99-b9ca-8050ce99a307', embedding=None, metadata={'page_label': '78', 'file_name': 'Derm.pdf', 'file_path': '/content/Data/Derm.pdf', 'file_type': 'application/pdf', 'file_size': 3171832, 'creation_date': '2024-04-07', 'last_modified_date': '2024-04-07', 'last_accessed_date': '2024-04-07'}, excluded_embed_metadata_keys=['file_name', 'file_type', 'file_size', 'creation_date', 'last_modified_date', 'last_accessed_date'], excluded_llm_metadata_keys=['file_name', 'file_type', 'file_size', 'creation_date', 'last_modified_date', 'last_accessed_date'], relationships={}, text='                                                             Dermatology : Handbook for m edical students & junior d octors   \\n     British Association of Dermatologists   ', start_char_idx=None, end_char_idx=None, text_template='{metadata_str}\\n\\n{content}', metadata_template='{key}: {value}', metadata_seperator='\\n'),\n",
              " Document(id_='b9864b1d-2fab-4b55-b1cc-2bce0622d565', embedding=None, metadata={'page_label': '79', 'file_name': 'Derm.pdf', 'file_path': '/content/Data/Derm.pdf', 'file_type': 'application/pdf', 'file_size': 3171832, 'creation_date': '2024-04-07', 'last_modified_date': '2024-04-07', 'last_accessed_date': '2024-04-07'}, excluded_embed_metadata_keys=['file_name', 'file_type', 'file_size', 'creation_date', 'last_modified_date', 'last_accessed_date'], excluded_llm_metadata_keys=['file_name', 'file_type', 'file_size', 'creation_date', 'last_modified_date', 'last_accessed_date'], relationships={}, text=' \\n   ', start_char_idx=None, end_char_idx=None, text_template='{metadata_str}\\n\\n{content}', metadata_template='{key}: {value}', metadata_seperator='\\n')]"
            ]
          },
          "metadata": {},
          "execution_count": 7
        }
      ]
    },
    {
      "cell_type": "code",
      "source": [
        "system_prompt=\"\"\"\n",
        "You are a Q&A assistant. Your goal is to answer questions as\n",
        "accurately as possible based on the instructions and context provided.\n",
        "\"\"\"\n",
        "## Default format supportable by LLama2\n",
        "query_wrapper_prompt=SimpleInputPrompt(\"<|USER|>{query_str}<|ASSISTANT|>\")"
      ],
      "metadata": {
        "id": "zyHrIYo6e5rO"
      },
      "execution_count": 8,
      "outputs": []
    },
    {
      "cell_type": "code",
      "source": [
        "!huggingface-cli login"
      ],
      "metadata": {
        "colab": {
          "base_uri": "https://localhost:8080/"
        },
        "id": "yD0VRaKbe6Lr",
        "outputId": "6afdfab9-7a5c-4b05-db0d-6d6e777eb746"
      },
      "execution_count": 11,
      "outputs": [
        {
          "output_type": "stream",
          "name": "stdout",
          "text": [
            "\n",
            "    _|    _|  _|    _|    _|_|_|    _|_|_|  _|_|_|  _|      _|    _|_|_|      _|_|_|_|    _|_|      _|_|_|  _|_|_|_|\n",
            "    _|    _|  _|    _|  _|        _|          _|    _|_|    _|  _|            _|        _|    _|  _|        _|\n",
            "    _|_|_|_|  _|    _|  _|  _|_|  _|  _|_|    _|    _|  _|  _|  _|  _|_|      _|_|_|    _|_|_|_|  _|        _|_|_|\n",
            "    _|    _|  _|    _|  _|    _|  _|    _|    _|    _|    _|_|  _|    _|      _|        _|    _|  _|        _|\n",
            "    _|    _|    _|_|      _|_|_|    _|_|_|  _|_|_|  _|      _|    _|_|_|      _|        _|    _|    _|_|_|  _|_|_|_|\n",
            "\n",
            "    A token is already saved on your machine. Run `huggingface-cli whoami` to get more information or `huggingface-cli logout` if you want to log out.\n",
            "    Setting a new token will erase the existing one.\n",
            "    To login, `huggingface_hub` requires a token generated from https://huggingface.co/settings/tokens .\n",
            "Token: \n",
            "Add token as git credential? (Y/n) Y\n",
            "Token is valid (permission: write).\n",
            "\u001b[1m\u001b[31mCannot authenticate through git-credential as no helper is defined on your machine.\n",
            "You might have to re-authenticate when pushing to the Hugging Face Hub.\n",
            "Run the following command in your terminal in case you want to set the 'store' credential helper as default.\n",
            "\n",
            "git config --global credential.helper store\n",
            "\n",
            "Read https://git-scm.com/book/en/v2/Git-Tools-Credential-Storage for more details.\u001b[0m\n",
            "Token has not been saved to git credential helper.\n",
            "Your token has been saved to /root/.cache/huggingface/token\n",
            "Login successful\n"
          ]
        }
      ]
    },
    {
      "cell_type": "code",
      "source": [
        "import torch\n",
        "\n",
        "llm = HuggingFaceLLM(\n",
        "    context_window=4096,\n",
        "    max_new_tokens=256,\n",
        "    generate_kwargs={\"temperature\": 0.0, \"do_sample\": False},\n",
        "    system_prompt=system_prompt,\n",
        "    query_wrapper_prompt=query_wrapper_prompt,\n",
        "    tokenizer_name=\"meta-llama/Llama-2-7b-chat-hf\",\n",
        "    model_name=\"meta-llama/Llama-2-7b-chat-hf\",\n",
        "    device_map=\"auto\",\n",
        "    # uncomment this if using CUDA to reduce memory usage\n",
        "    model_kwargs={\"torch_dtype\": torch.float16 , \"load_in_8bit\":True}\n",
        ")\n",
        ""
      ],
      "metadata": {
        "colab": {
          "base_uri": "https://localhost:8080/",
          "height": 86,
          "referenced_widgets": [
            "c7e78305ea1046959711b71b900b9bbc",
            "3dab80a585214c709ed744b82d83036b",
            "19b1d8d09b614752a42739eae3569d17",
            "c40d1cec44db437aae1a278934195e1b",
            "ee98f7599360444c8c254bc586a69f5e",
            "6a87d98fb2ca4e9e9df7aaa23d13371a",
            "4b30f188f999464a914b5dc899ebcbe3",
            "bd7f18aaf4174f90a69d834b81b6591b",
            "a269c582621f4aa0937ab3901bfb1e54",
            "2d0ad2e831f8444ca29a604b52fc0468",
            "c81318656b9549bcbe3b805e6ea4a8f9"
          ]
        },
        "id": "MaVewO5Qhj7H",
        "outputId": "df62bdc4-2d2b-43c5-bbf3-e88463694467"
      },
      "execution_count": 12,
      "outputs": [
        {
          "output_type": "stream",
          "name": "stderr",
          "text": [
            "The `load_in_4bit` and `load_in_8bit` arguments are deprecated and will be removed in the future versions. Please, pass a `BitsAndBytesConfig` object in `quantization_config` argument instead.\n"
          ]
        },
        {
          "output_type": "display_data",
          "data": {
            "text/plain": [
              "Loading checkpoint shards:   0%|          | 0/2 [00:00<?, ?it/s]"
            ],
            "application/vnd.jupyter.widget-view+json": {
              "version_major": 2,
              "version_minor": 0,
              "model_id": "c7e78305ea1046959711b71b900b9bbc"
            }
          },
          "metadata": {}
        }
      ]
    },
    {
      "cell_type": "code",
      "source": [
        "from langchain.embeddings.huggingface import HuggingFaceEmbeddings\n",
        "from llama_index import ServiceContext\n",
        "from llama_index.embeddings import LangchainEmbedding\n",
        "\n",
        "embed_model=LangchainEmbedding(\n",
        "    HuggingFaceEmbeddings(model_name=\"sentence-transformers/all-mpnet-base-v2\"))"
      ],
      "metadata": {
        "id": "P7HadRVch3Zp"
      },
      "execution_count": 13,
      "outputs": []
    },
    {
      "cell_type": "code",
      "source": [
        "service_context=ServiceContext.from_defaults(\n",
        "    chunk_size=1024,\n",
        "    llm=llm,\n",
        "    embed_model=embed_model\n",
        ")\n",
        ""
      ],
      "metadata": {
        "id": "Oq2Q5e4RiCLW"
      },
      "execution_count": 14,
      "outputs": []
    },
    {
      "cell_type": "code",
      "source": [
        "service_context"
      ],
      "metadata": {
        "colab": {
          "base_uri": "https://localhost:8080/"
        },
        "id": "_StSiFfUiFdb",
        "outputId": "40b981cd-ab99-47f5-d061-095c5b0c31f7"
      },
      "execution_count": 15,
      "outputs": [
        {
          "output_type": "execute_result",
          "data": {
            "text/plain": [
              "ServiceContext(llm_predictor=LLMPredictor(system_prompt=None, query_wrapper_prompt=None, pydantic_program_mode=<PydanticProgramMode.DEFAULT: 'default'>), prompt_helper=PromptHelper(context_window=4096, num_output=256, chunk_overlap_ratio=0.1, chunk_size_limit=None, separator=' '), embed_model=LangchainEmbedding(model_name='sentence-transformers/all-mpnet-base-v2', embed_batch_size=10, callback_manager=<llama_index.callbacks.base.CallbackManager object at 0x7faaf0ea0eb0>), transformations=[SentenceSplitter(include_metadata=True, include_prev_next_rel=True, callback_manager=<llama_index.callbacks.base.CallbackManager object at 0x7faaf0ea0eb0>, id_func=<function default_id_func at 0x7fabcc768280>, chunk_size=1024, chunk_overlap=200, separator=' ', paragraph_separator='\\n\\n\\n', secondary_chunking_regex='[^,.;。？！]+[,.;。？！]?')], llama_logger=<llama_index.logger.base.LlamaLogger object at 0x7faacbb6c1f0>, callback_manager=<llama_index.callbacks.base.CallbackManager object at 0x7faaf0ea0eb0>)"
            ]
          },
          "metadata": {},
          "execution_count": 15
        }
      ]
    },
    {
      "cell_type": "code",
      "source": [
        "index=VectorStoreIndex.from_documents(documents,service_context=service_context)"
      ],
      "metadata": {
        "id": "Uc1AJKhEiGm8"
      },
      "execution_count": 16,
      "outputs": []
    },
    {
      "cell_type": "code",
      "source": [
        "query_engine=index.as_query_engine()"
      ],
      "metadata": {
        "id": "-69BTvjKiJG-"
      },
      "execution_count": 17,
      "outputs": []
    },
    {
      "cell_type": "code",
      "source": [
        "response=query_engine.query(\"What are some common skin diseases?\")"
      ],
      "metadata": {
        "colab": {
          "base_uri": "https://localhost:8080/"
        },
        "id": "gBzOf1p0iMC-",
        "outputId": "baf40c48-a576-441d-b28d-3afa4f575f97"
      },
      "execution_count": 18,
      "outputs": [
        {
          "output_type": "stream",
          "name": "stderr",
          "text": [
            "/usr/local/lib/python3.10/dist-packages/transformers/generation/configuration_utils.py:410: UserWarning: `do_sample` is set to `False`. However, `temperature` is set to `0.0` -- this flag is only used in sample-based generation modes. You should set `do_sample=True` or unset `temperature`.\n",
            "  warnings.warn(\n",
            "/usr/local/lib/python3.10/dist-packages/transformers/generation/configuration_utils.py:415: UserWarning: `do_sample` is set to `False`. However, `top_p` is set to `0.9` -- this flag is only used in sample-based generation modes. You should set `do_sample=True` or unset `top_p`.\n",
            "  warnings.warn(\n"
          ]
        }
      ]
    },
    {
      "cell_type": "code",
      "source": [
        "response"
      ],
      "metadata": {
        "colab": {
          "base_uri": "https://localhost:8080/"
        },
        "id": "ZEHkYA0oiafv",
        "outputId": "221bdeb2-afa5-42c8-f94e-fa4d84e8b4ae"
      },
      "execution_count": 19,
      "outputs": [
        {
          "output_type": "execute_result",
          "data": {
            "text/plain": [
              "Response(response='Some common skin diseases include purpuric eruption, meningococcal septicaemia, disseminated intravascular coagulation, vasculitis, actinic purpura, and history of trauma, malignancy, sepsis, obstetric complications, transfusions, or liver failure. Additionally, there are common sites where skin diseases may occur, such as the extremities, spontaneous bleeding from the ear, nose, and throat, gastrointestinal tract, respiratory tract, or wound site, and dependent areas (e.g. legs, buttocks, flanks). Lesions may appear as petechiae, ecchymoses, haemorrhagic bullae, and/or tissue necrosis, and may be painful or non-palpable. Associated features may include systemic illness, and possible investigations may include bloods, lumbar puncture, and skin biopsy. Management may involve antibiotics, transfusions, anticoagulants, steroids, and immunosuppressants, depending on the underlying cause and', source_nodes=[NodeWithScore(node=TextNode(id_='09a117f3-cf24-4d6b-93f4-eb4eb6e2612c', embedding=None, metadata={'page_label': '66', 'file_name': 'Derm.pdf', 'file_path': '/content/Data/Derm.pdf', 'file_type': 'application/pdf', 'file_size': 3171832, 'creation_date': '2024-04-07', 'last_modified_date': '2024-04-07', 'last_accessed_date': '2024-04-07'}, excluded_embed_metadata_keys=['file_name', 'file_type', 'file_size', 'creation_date', 'last_modified_date', 'last_accessed_date'], excluded_llm_metadata_keys=['file_name', 'file_type', 'file_size', 'creation_date', 'last_modified_date', 'last_accessed_date'], relationships={<NodeRelationship.SOURCE: '1'>: RelatedNodeInfo(node_id='d8b36e41-bb4b-4b6c-8f14-e2a56feb335f', node_type=<ObjectType.DOCUMENT: '4'>, metadata={'page_label': '66', 'file_name': 'Derm.pdf', 'file_path': '/content/Data/Derm.pdf', 'file_type': 'application/pdf', 'file_size': 3171832, 'creation_date': '2024-04-07', 'last_modified_date': '2024-04-07', 'last_accessed_date': '2024-04-07'}, hash='2a54cafba356b4b1f1d379db4051907afa824cd69d08edbc7081b4bcfacef6a5'), <NodeRelationship.PREVIOUS: '2'>: RelatedNodeInfo(node_id='55c2bf9b-9370-4814-a098-356d99773b49', node_type=<ObjectType.TEXT: '1'>, metadata={'page_label': '65', 'file_name': 'Derm.pdf', 'file_path': '/content/Data/Derm.pdf', 'file_type': 'application/pdf', 'file_size': 3171832, 'creation_date': '2024-04-07', 'last_modified_date': '2024-04-07', 'last_accessed_date': '2024-04-07'}, hash='a4803d5631931612a9b46ec04cdeb872f0317c37ce001e891793bde0cecacf93'), <NodeRelationship.NEXT: '3'>: RelatedNodeInfo(node_id='a1780472-8c9b-44de-948e-c662e6cbf012', node_type=<ObjectType.TEXT: '1'>, metadata={}, hash='32fbf71474342afcecf086eff22be392101d68bfee4444d89504a06b9a2d853a')}, text='Dermatology : Handbook for m edical students & junior d octors   \\n65   British Association of Derma tologists  \\n  \\nPurpuric eruption  \\n \\n Meningococcal septicaemia  Disseminated intravascular \\ncoagulation  Vasculitis  Actinic purpura  \\nHistory  - Acute onset  \\n- Symptoms of meningitis and  \\n  septicaemia  - History of trauma, \\nmalignancy,  \\n  sepsis, obstetric \\ncomplications,  \\n  transfusions, or liver failure  - Painful lesions  \\n - Arise in the elderly population  \\n  with sun -damaged skin  \\n \\nCommon sites  - Extremities  - Spontaneous bleeding from  \\n  ear, nose and  throat,  \\n  gastrointestinal tract,  \\n  respiratory tract or wound \\nsite - Dependent areas (e.g. legs,  \\n  buttocks, flanks)  \\n - Extensor surfaces of hands  \\n  and forearms  \\n- Such skin is easily traumatised  \\n \\nLesion  - Petechiae, ecchymoses,    \\n  haemorrhagic bullae and/or  \\n  tissue necrosis  - Petechiae, ecchymoses,  \\n  haemorragic bullae and/or  \\n  tissue necrosis  - Palpable purpura (often  \\n  painful)  \\n - Non -palpable purpura  \\n- Surrounding skin is at rophic   \\n  and thin  \\nAssociated \\nfeatures  - Systemically unwell  - Systemically unwell  \\n   - Systemically unwell  - Systemically well  \\nPossible \\ninvestigations  - Bloods  \\n- Lumbar puncture  - Bloods (a clotting screen is  \\n  important)  \\n  - Bloods and urinalysis  \\n- Skin biopsy  - No investigation is needed  \\n \\nManagement  - Antibiotics  - Treat the underlying cause  \\n- Transfuse for coagulation  \\n  deficiencies  \\n- Anticoagulants for thrombosis  - Treat the underlying cause  \\n- Steroids and  \\n  immunosuppressants if there    \\n  is systemic involvement  - No treatment is needed  \\n \\n                                             Dermatology : Handbook for m edical students & junior d octors                                                                                                  \\n                                   Dermatology : Handbook for m edical stud  Dermatology : Handbook for m edical students & junior d octors  ent s & junior d octors   \\n \\nCommon Important Problems –A red swollen leg                               \\nCommon Important Problems –Purpuric eruption', start_char_idx=63, end_char_idx=2202, text_template='{metadata_str}\\n\\n{content}', metadata_template='{key}: {value}', metadata_seperator='\\n'), score=0.6082151862053317), NodeWithScore(node=TextNode(id_='cef042d6-6d3d-4ba1-abf3-1f7a8ba203ce', embedding=None, metadata={'page_label': '8', 'file_name': 'Derm.pdf', 'file_path': '/content/Data/Derm.pdf', 'file_type': 'application/pdf', 'file_size': 3171832, 'creation_date': '2024-04-07', 'last_modified_date': '2024-04-07', 'last_accessed_date': '2024-04-07'}, excluded_embed_metadata_keys=['file_name', 'file_type', 'file_size', 'creation_date', 'last_modified_date', 'last_accessed_date'], excluded_llm_metadata_keys=['file_name', 'file_type', 'file_size', 'creation_date', 'last_modified_date', 'last_accessed_date'], relationships={<NodeRelationship.SOURCE: '1'>: RelatedNodeInfo(node_id='18a8d70f-61e3-418e-b3b5-368267a5104e', node_type=<ObjectType.DOCUMENT: '4'>, metadata={'page_label': '8', 'file_name': 'Derm.pdf', 'file_path': '/content/Data/Derm.pdf', 'file_type': 'application/pdf', 'file_size': 3171832, 'creation_date': '2024-04-07', 'last_modified_date': '2024-04-07', 'last_accessed_date': '2024-04-07'}, hash='7f5674f7a37403bc4e420e5b8e0187ffaf6419aadfc3a22bd0a8dd4d19b979d2'), <NodeRelationship.PREVIOUS: '2'>: RelatedNodeInfo(node_id='396a21f7-60c2-4f87-afff-e5e0dc40e939', node_type=<ObjectType.TEXT: '1'>, metadata={'page_label': '7', 'file_name': 'Derm.pdf', 'file_path': '/content/Data/Derm.pdf', 'file_type': 'application/pdf', 'file_size': 3171832, 'creation_date': '2024-04-07', 'last_modified_date': '2024-04-07', 'last_accessed_date': '2024-04-07'}, hash='f80d41ad14db52c2a13ff03e86933e758ab951ccd4406c429701f0dc01f4ea86'), <NodeRelationship.NEXT: '3'>: RelatedNodeInfo(node_id='9e042d1a-52ab-4617-ba65-c5e4d8b45d70', node_type=<ObjectType.TEXT: '1'>, metadata={}, hash='e2a37f075423e06e80840f824aef1146bc0df52c8168e7efc2502b4b4aeec92d')}, text='Dermatology : Handbook for m edical students & junior d octors   \\n   British Association of Dermatologists  7  \\n• Detai led history taking and examination provide important diagnostic clues in the \\nassessment of skin problems.  \\n \\n \\n \\n \\n \\n \\n \\n \\n \\n \\nTaking a dermatological history  \\n• Using the standard structure of history taking, below are the important points to \\nconsider when taking a history from a patient with a skin problem  (Table 1).  \\n• For dark lesion s or mole s, pay attention to questions marked with an asterisk (*).  \\n \\nTable 1. Taking a dermatological history  \\nMain headings     Key questions  \\nPresenting complaint    Nature , site and duration  of problem  \\nHistory of presenting complaint  Initial appearance  and e volution of lesion*  \\n     Symptoms  (particularly itch and pain)*   \\n     Aggravating and relieving factors  \\nPreviou s and current treatments ( effective or not)  \\n     Recent contact, stressful events, illness and travel  \\n     History of sunburn and use of tanning machines*  \\nSkin type  (see page 70)*  \\nPast medical history    History of atopy i.e. asthma, allergic rhinitis , eczema\\n     History of skin cancer and suspicious skin lesion s \\nFamily history     Family history of skin disease*  \\nSocial history     Occupation (including  skin contact s at work)  \\nImprovement of lesions when away from work  Essential Clinical Skills  \\nLearning outcomes:  \\n1. Ability to take a dermatological history  \\n2. Ability to explore a patient’s concerns and expectations  \\n3. Ability to interact sensitively with people with skin disease  \\n4. Ability to examine skin, hair, nails and mucous membranes syste matically  \\nshowing respect for the patient  \\n5. Ability to describe physical signs in skin, hair, nails and mucosa  \\n6. Ability to record findings accurately in patient’s records  \\n \\n7.  \\n  Essential Clinical Skills  – Taking a dermatological history', start_char_idx=61, end_char_idx=1956, text_template='{metadata_str}\\n\\n{content}', metadata_template='{key}: {value}', metadata_seperator='\\n'), score=0.5984438173287685)], metadata={'09a117f3-cf24-4d6b-93f4-eb4eb6e2612c': {'page_label': '66', 'file_name': 'Derm.pdf', 'file_path': '/content/Data/Derm.pdf', 'file_type': 'application/pdf', 'file_size': 3171832, 'creation_date': '2024-04-07', 'last_modified_date': '2024-04-07', 'last_accessed_date': '2024-04-07'}, 'cef042d6-6d3d-4ba1-abf3-1f7a8ba203ce': {'page_label': '8', 'file_name': 'Derm.pdf', 'file_path': '/content/Data/Derm.pdf', 'file_type': 'application/pdf', 'file_size': 3171832, 'creation_date': '2024-04-07', 'last_modified_date': '2024-04-07', 'last_accessed_date': '2024-04-07'}})"
            ]
          },
          "metadata": {},
          "execution_count": 19
        }
      ]
    },
    {
      "cell_type": "code",
      "source": [
        "print(response)"
      ],
      "metadata": {
        "colab": {
          "base_uri": "https://localhost:8080/"
        },
        "id": "_et-_jwNibG_",
        "outputId": "c5e37466-9d43-464c-e5f9-1440b910558a"
      },
      "execution_count": 20,
      "outputs": [
        {
          "output_type": "stream",
          "name": "stdout",
          "text": [
            "Some common skin diseases include purpuric eruption, meningococcal septicaemia, disseminated intravascular coagulation, vasculitis, actinic purpura, and history of trauma, malignancy, sepsis, obstetric complications, transfusions, or liver failure. Additionally, there are common sites where skin diseases may occur, such as the extremities, spontaneous bleeding from the ear, nose, and throat, gastrointestinal tract, respiratory tract, or wound site, and dependent areas (e.g. legs, buttocks, flanks). Lesions may appear as petechiae, ecchymoses, haemorrhagic bullae, and/or tissue necrosis, and may be painful or non-palpable. Associated features may include systemic illness, and possible investigations may include bloods, lumbar puncture, and skin biopsy. Management may involve antibiotics, transfusions, anticoagulants, steroids, and immunosuppressants, depending on the underlying cause and\n"
          ]
        }
      ]
    },
    {
      "cell_type": "code",
      "source": [
        "%%time\n",
        "response=query_engine.query(\"What is Eczema?\")"
      ],
      "metadata": {
        "colab": {
          "base_uri": "https://localhost:8080/"
        },
        "id": "umRC5pkojM3Y",
        "outputId": "2e2b9ff4-b807-4f74-fe3a-9b33d07bab43"
      },
      "execution_count": 21,
      "outputs": [
        {
          "output_type": "stream",
          "name": "stdout",
          "text": [
            "CPU times: user 45.9 s, sys: 62.4 ms, total: 45.9 s\n",
            "Wall time: 46.3 s\n"
          ]
        }
      ]
    },
    {
      "cell_type": "code",
      "source": [
        "print(response)"
      ],
      "metadata": {
        "colab": {
          "base_uri": "https://localhost:8080/"
        },
        "id": "-SfE8XpqjdOq",
        "outputId": "5cc6ee3c-d3cd-4a31-bcc2-e8b95464a397"
      },
      "execution_count": 22,
      "outputs": [
        {
          "output_type": "stream",
          "name": "stdout",
          "text": [
            "Eczema, also known as atopic dermatitis, is a chronic inflammatory skin condition characterized by dry, itchy, and scaly patches on the skin. It is common in children but can also affect adults. The exact cause of eczema is not fully understood, but it is believed to involve a combination of genetic and environmental factors. Eczema can occur anywhere on the body but is most commonly found on the face, hands, and feet. It can also lead to pigmentary changes, such as hypopigmentation or hyperpigmentation, and nail changes, such as pitting and ridging. Treatment for eczema typically involves a combination of topical and systemic medications, including corticosteroids, immunomodulators, and antihistamines, as well as lifestyle modifications such as avoiding exacerbating factors and using emollients to moisturize the skin.\n"
          ]
        }
      ]
    },
    {
      "cell_type": "code",
      "source": [
        "%%time\n",
        "response=query_engine.query(\"What are some treatments of Eczema?\")"
      ],
      "metadata": {
        "colab": {
          "base_uri": "https://localhost:8080/"
        },
        "id": "s3u5t_xRjeGa",
        "outputId": "70539f13-0e5b-4cd2-fea2-90d3fd451c24"
      },
      "execution_count": 23,
      "outputs": [
        {
          "output_type": "stream",
          "name": "stdout",
          "text": [
            "CPU times: user 43.8 s, sys: 83.5 ms, total: 43.8 s\n",
            "Wall time: 44.2 s\n"
          ]
        }
      ]
    },
    {
      "cell_type": "code",
      "source": [
        "print(response)"
      ],
      "metadata": {
        "colab": {
          "base_uri": "https://localhost:8080/"
        },
        "id": "LxctiZrmj41I",
        "outputId": "dc70e4a0-b911-4022-efe1-040fb01078ca"
      },
      "execution_count": 24,
      "outputs": [
        {
          "output_type": "stream",
          "name": "stdout",
          "text": [
            "Based on the information provided in the context, some treatments for eczema include:\n",
            "\n",
            "1. Topical steroids for active areas\n",
            "2. Topical immunomodulators (e.g. tacrolimus, pimecrolimus) for maintenance therapy as steroid-sparing agents\n",
            "3. Oral antihistamines for symptomatic relief\n",
            "4. Antibiotics (e.g. flucloxacillin) for secondary bacterial infections\n",
            "5. Antivirals (e.g. aciclovir) for secondary herpes infection.\n",
            "\n",
            "It is important to note that the most appropriate treatment for eczema will depend on the severity and location of the condition, as well as the individual patient's needs and medical history. A healthcare professional should be consulted for proper diagnosis and treatment.\n"
          ]
        }
      ]
    },
    {
      "cell_type": "code",
      "source": [
        "print(str(response))"
      ],
      "metadata": {
        "colab": {
          "base_uri": "https://localhost:8080/"
        },
        "id": "yAHsqUXcqqQE",
        "outputId": "4d15dd9b-71ef-41a8-b589-508c8d546cdf"
      },
      "execution_count": 35,
      "outputs": [
        {
          "output_type": "stream",
          "name": "stdout",
          "text": [
            "Based on the information provided in the context, some treatments for eczema include:\n",
            "\n",
            "1. Topical steroids for active areas\n",
            "2. Topical immunomodulators (e.g. tacrolimus, pimecrolimus) for maintenance therapy as steroid-sparing agents\n",
            "3. Oral antihistamines for symptomatic relief\n",
            "4. Antibiotics (e.g. flucloxacillin) for secondary bacterial infections\n",
            "5. Antivirals (e.g. aciclovir) for secondary herpes infection.\n",
            "\n",
            "It is important to note that the most appropriate treatment for eczema will depend on the severity and location of the condition, as well as the individual patient's needs and medical history. A healthcare professional should be consulted for proper diagnosis and treatment.\n"
          ]
        }
      ]
    },
    {
      "cell_type": "code",
      "source": [
        "ngrok_key = \"2YEEfAspjAhS7hCF9XvndSLiUQP_7fgVsnfKCFY7D66LJGKxy\"\n",
        "port = 5000"
      ],
      "metadata": {
        "id": "wwaMIAKfluY3"
      },
      "execution_count": 25,
      "outputs": []
    },
    {
      "cell_type": "code",
      "source": [
        "from pyngrok import ngrok"
      ],
      "metadata": {
        "id": "IBuPHuF3l10Y"
      },
      "execution_count": 26,
      "outputs": []
    },
    {
      "cell_type": "code",
      "source": [
        "ngrok.set_auth_token(ngrok_key)\n",
        "ngrok.connect(port).public_url"
      ],
      "metadata": {
        "colab": {
          "base_uri": "https://localhost:8080/",
          "height": 35
        },
        "id": "OI_jCz3Rk8WT",
        "outputId": "b3ea4da5-b6d5-4e50-d445-a739873ccbb7"
      },
      "execution_count": 41,
      "outputs": [
        {
          "output_type": "execute_result",
          "data": {
            "text/plain": [
              "'https://87d7-34-72-58-136.ngrok-free.app'"
            ],
            "application/vnd.google.colaboratory.intrinsic+json": {
              "type": "string"
            }
          },
          "metadata": {},
          "execution_count": 41
        }
      ]
    },
    {
      "cell_type": "code",
      "source": [
        "\n",
        "from flask import Flask, request\n",
        "\n",
        "app = Flask(__name__)\n",
        "\n",
        "@app.route(\"/derm\", methods=['POST'])\n",
        "def derm():\n",
        "    # Assuming the data is sent as JSON, with a key named 'query'\n",
        "    data = request.json\n",
        "    query = data.get('query', 'Name some common skin disease')\n",
        "\n",
        "    response = query_engine.query(query)  # Use the query from the user\n",
        "    return str(response)\n",
        "\n",
        "if __name__ == '__main__':\n",
        "    app.run(port = port)"
      ],
      "metadata": {
        "colab": {
          "base_uri": "https://localhost:8080/"
        },
        "id": "T7KrnUF6j50f",
        "outputId": "e031c284-251c-4c05-d273-0c0557b206e8"
      },
      "execution_count": 42,
      "outputs": [
        {
          "output_type": "stream",
          "name": "stdout",
          "text": [
            " * Serving Flask app '__main__'\n",
            " * Debug mode: off\n"
          ]
        },
        {
          "output_type": "stream",
          "name": "stderr",
          "text": [
            "INFO:werkzeug:\u001b[31m\u001b[1mWARNING: This is a development server. Do not use it in a production deployment. Use a production WSGI server instead.\u001b[0m\n",
            " * Running on http://127.0.0.1:5000\n",
            "INFO:werkzeug:\u001b[33mPress CTRL+C to quit\u001b[0m\n",
            "/usr/local/lib/python3.10/dist-packages/transformers/generation/configuration_utils.py:410: UserWarning: `do_sample` is set to `False`. However, `temperature` is set to `0.0` -- this flag is only used in sample-based generation modes. You should set `do_sample=True` or unset `temperature`.\n",
            "  warnings.warn(\n",
            "/usr/local/lib/python3.10/dist-packages/transformers/generation/configuration_utils.py:415: UserWarning: `do_sample` is set to `False`. However, `top_p` is set to `0.9` -- this flag is only used in sample-based generation modes. You should set `do_sample=True` or unset `top_p`.\n",
            "  warnings.warn(\n",
            "INFO:werkzeug:127.0.0.1 - - [07/Apr/2024 22:34:44] \"POST /derm HTTP/1.1\" 200 -\n",
            "INFO:werkzeug:127.0.0.1 - - [07/Apr/2024 22:35:57] \"POST /derm HTTP/1.1\" 200 -\n"
          ]
        }
      ]
    },
    {
      "cell_type": "code",
      "source": [],
      "metadata": {
        "id": "Qspzg9QIkvKS"
      },
      "execution_count": null,
      "outputs": []
    }
  ]
}